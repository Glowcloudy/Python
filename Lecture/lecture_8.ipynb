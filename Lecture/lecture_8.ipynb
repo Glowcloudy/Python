{
 "cells": [
  {
   "cell_type": "code",
   "execution_count": 2,
   "metadata": {},
   "outputs": [
    {
     "name": "stdout",
     "output_type": "stream",
     "text": [
      "35.0\n"
     ]
    }
   ],
   "source": [
    "# Calculate Mean\n",
    "scores = [10, 20, 30, 40, 50, 60]\n",
    "\n",
    "# method.1\n",
    "n_student = 0\n",
    "sum = 0\n",
    "for score in scores:\n",
    "    sum += score\n",
    "    n_student +=1\n",
    "    \n",
    "mean = sum/n_student\n",
    "print(mean)\n",
    "\n",
    "# method.2\n",
    "sum = 0\n",
    "for score in scores:\n",
    "    sum += score\n",
    "\n",
    "mean = sum/n_student\n",
    "print(mean)"
   ]
  },
  {
   "cell_type": "code",
   "execution_count": 2,
   "metadata": {},
   "outputs": [
    {
     "name": "stdout",
     "output_type": "stream",
     "text": [
      "20.0\n"
     ]
    }
   ],
   "source": [
    "scores = [10, 20, 30]\n",
    "\n",
    "sum = 0\n",
    "n_student =0\n",
    "\n",
    "for score in scores:\n",
    "    sum += score\n",
    "    n_student+=1\n",
    "score_mean = sum/n_student\n",
    "print(score_mean)"
   ]
  },
  {
   "cell_type": "code",
   "execution_count": 3,
   "metadata": {},
   "outputs": [
    {
     "name": "stdout",
     "output_type": "stream",
     "text": [
      "20.0\n"
     ]
    }
   ],
   "source": [
    "\n",
    "sum = 0\n",
    "for score_idx in range(len(scores)):\n",
    "    sum+=scores[score_idx]\n",
    "mean= sum/len(scores)\n",
    "print(mean)"
   ]
  },
  {
   "cell_type": "code",
   "execution_count": 4,
   "metadata": {},
   "outputs": [
    {
     "name": "stdout",
     "output_type": "stream",
     "text": [
      "20.0\n"
     ]
    }
   ],
   "source": [
    "scores = [10, 20, 30]\n",
    "\n",
    "sum = 0\n",
    "n_student =0\n",
    "for score in scores:\n",
    "    sum+= score\n",
    "    n_student+=1\n",
    "mean = sum / n_student\n",
    "print(mean)"
   ]
  },
  {
   "cell_type": "code",
   "execution_count": 7,
   "metadata": {},
   "outputs": [
    {
     "name": "stdout",
     "output_type": "stream",
     "text": [
      "20.0\n"
     ]
    }
   ],
   "source": [
    "sum = 0\n",
    "for score_idx in range(len(scores)):\n",
    "    sum+=scores[score_idx]\n",
    "mean = sum/len(scores)\n",
    "print(mean)"
   ]
  },
  {
   "cell_type": "code",
   "execution_count": 8,
   "metadata": {},
   "outputs": [
    {
     "name": "stdout",
     "output_type": "stream",
     "text": [
      "20.0\n"
     ]
    }
   ],
   "source": [
    "scores= [10, 20, 30]\n",
    "sum =0\n",
    "n_student=0\n",
    "for score in scores:\n",
    "    sum+=score\n",
    "    n_student+=1\n",
    "mean = sum/n_student\n",
    "print(mean)"
   ]
  },
  {
   "cell_type": "code",
   "execution_count": 9,
   "metadata": {},
   "outputs": [
    {
     "name": "stdout",
     "output_type": "stream",
     "text": [
      "20.0\n"
     ]
    }
   ],
   "source": [
    "sum =0\n",
    "for score_idx in range(len(scores)):\n",
    "    sum+= scores[score_idx]\n",
    "mean = sum/len(scores)\n",
    "print(mean)"
   ]
  },
  {
   "cell_type": "code",
   "execution_count": 11,
   "metadata": {},
   "outputs": [
    {
     "name": "stdout",
     "output_type": "stream",
     "text": [
      "35.0\n",
      "[-25.0, -15.0, -5.0, 5.0, 15.0, 25.0]\n",
      "0.0\n",
      "35.0\n",
      "[-10.0, 0.0, 10.0, 20.0, 30.0, 40.0]\n",
      "15.0\n"
     ]
    }
   ],
   "source": [
    "scores= [10, 20, 30, 40, 50, 60]\n",
    "\n",
    "sum = 0\n",
    "for score in scores:\n",
    "    sum+=score\n",
    "mean = sum/len(scores)\n",
    "print(mean)\n",
    "\n",
    "# method.1\n",
    "scores_ms = list()\n",
    "for score in scores:\n",
    "    scores_ms.append(score - mean)\n",
    "print(scores_ms)\n",
    "\n",
    "sum = 0 \n",
    "for score in scores_ms:\n",
    "    sum+=score\n",
    "\n",
    "mean = sum/len(scores)\n",
    "print(mean)\n",
    "\n",
    "# method.2\n",
    "sum = 0\n",
    "for score in scores:\n",
    "    sum+=score\n",
    "\n",
    "mean = sum/len(scores)\n",
    "print(mean)\n",
    "\n",
    "for score_idx in range(len(scores)):\n",
    "    scores[score_idx] -= score_mean\n",
    "print(scores)\n",
    "\n",
    "sum = 0\n",
    "for score in scores:\n",
    "    sum += score\n",
    "mean= sum/len(scores)\n",
    "print(mean)\n",
    "    "
   ]
  },
  {
   "cell_type": "code",
   "execution_count": 22,
   "metadata": {},
   "outputs": [
    {
     "name": "stdout",
     "output_type": "stream",
     "text": [
      "35.0\n",
      "[-25.0, -15.0, -5.0, 5.0, 15.0, 25.0]\n",
      "0.0\n",
      "35.0\n",
      "[-25.0, -15.0, -5.0, 5.0, 15.0, 25.0]\n",
      "0.0\n"
     ]
    }
   ],
   "source": [
    "scores =[10, 20, 30, 40, 50, 60]\n",
    "sum = 0\n",
    "\n",
    "for score in scores:\n",
    "    sum+=score\n",
    "mean = sum/len(scores)\n",
    "print(mean)\n",
    "score_ms = list()\n",
    "for idx in scores:\n",
    "    score_ms.append(idx-mean)\n",
    "print(score_ms)\n",
    "\n",
    "sum = 0\n",
    "for score in scores_ms:\n",
    "    sum+= score\n",
    "mean= sum/len(scores)\n",
    "print(mean)\n",
    "\n",
    "################################\n",
    "sum = 0 \n",
    "for score in scores:\n",
    "    sum+=score\n",
    "mean = sum/len(scores)\n",
    "print(mean)\n",
    "\n",
    "for idx in range(len(scores)):\n",
    "    scores[idx]-=mean\n",
    "print(scores)\n",
    "\n",
    "sum = 0\n",
    "for score in scores:\n",
    "    sum+=score\n",
    "mean = sum/len(scores)\n",
    "print(mean)"
   ]
  },
  {
   "cell_type": "code",
   "execution_count": 29,
   "metadata": {},
   "outputs": [
    {
     "name": "stdout",
     "output_type": "stream",
     "text": [
      "35.0\n",
      "[-25.0, -15.0, -5.0, 5.0, 15.0, 25.0]\n",
      "0.0\n",
      "35.0\n",
      "[-25.0, -15.0, -5.0, 5.0, 15.0, 25.0]\n",
      "0.0\n"
     ]
    }
   ],
   "source": [
    "scores = [10, 20, 30, 40, 50, 60]\n",
    "sum = 0\n",
    "\n",
    "for score in scores:\n",
    "    sum+=score\n",
    "mean = sum/len(scores)\n",
    "print(mean)\n",
    "\n",
    "score_ms=list()\n",
    "for idx in scores:\n",
    "    score_ms.append(idx - mean)\n",
    "print(score_ms)\n",
    "\n",
    "sum =0\n",
    "for score in score_ms:\n",
    "    sum+=score\n",
    "mean= sum/len(score_ms)\n",
    "print(mean)\n",
    "\n",
    "######################################\n",
    "sum = 0\n",
    "for score in scores:\n",
    "    sum+=score\n",
    "mean = sum/len(scores)\n",
    "print(mean)\n",
    "\n",
    "for idx in range(len(scores)):\n",
    "    scores[idx]-=mean\n",
    "    \n",
    "print(scores)\n",
    "\n",
    "sum = 0\n",
    "for score in scores:\n",
    "    sum+=score\n",
    "mean = sum/len(scores)\n",
    "print(mean)"
   ]
  },
  {
   "cell_type": "code",
   "execution_count": 38,
   "metadata": {},
   "outputs": [
    {
     "name": "stdout",
     "output_type": "stream",
     "text": [
      "35.0\n",
      "[25.0, 15.0, 5.0, -5.0, -15.0, -25.0]\n",
      "0.0\n",
      "35.0\n",
      "[-25.0, -15.0, -5.0, 5.0, 15.0, 25.0]\n",
      "0.0\n"
     ]
    }
   ],
   "source": [
    "scores = [10, 20, 30, 40, 50, 60]\n",
    "sum = 0\n",
    "\n",
    "for score in scores:\n",
    "    sum+=score\n",
    "mean=sum/len(scores)\n",
    "print(mean)\n",
    "\n",
    "score_ms =list()\n",
    "for idx in scores:\n",
    "    score_ms.append(mean-idx)\n",
    "print(score_ms)\n",
    "\n",
    "sum = 0\n",
    "for score in score_ms:\n",
    "    sum+=score\n",
    "mean = sum/len(score_ms)\n",
    "print(mean)\n",
    "\n",
    "######################################\n",
    "sum = 0\n",
    "\n",
    "for score in scores:\n",
    "    sum+= score\n",
    "mean = sum/len(scores)\n",
    "print(mean)\n",
    "\n",
    "for idx in range(len(scores)):\n",
    "    scores[idx]-=mean\n",
    "print(scores)\n",
    "\n",
    "sum=0\n",
    "for score in scores:\n",
    "    sum+=score\n",
    "mean= sum/len(scores)\n",
    "print(mean)"
   ]
  },
  {
   "cell_type": "code",
   "execution_count": 44,
   "metadata": {},
   "outputs": [
    {
     "name": "stdout",
     "output_type": "stream",
     "text": [
      "35.0\n",
      "[-25.0, -15.0, -5.0, 5.0, 15.0, 25.0]\n",
      "0.0\n",
      "35.0\n",
      "[-25.0, -15.0, -5.0, 5.0, 15.0, 25.0]\n",
      "0.0\n"
     ]
    }
   ],
   "source": [
    "scores = [10, 20, 30, 40, 50, 60]\n",
    "sum=0\n",
    "\n",
    "for score in scores:\n",
    "    sum+=score\n",
    "mean = sum/len(scores)\n",
    "print(mean)\n",
    "\n",
    "score_ms = list()\n",
    "for idx in scores:\n",
    "    score_ms.append(idx-mean)\n",
    "print(score_ms)\n",
    "\n",
    "sum = 0\n",
    "for score in score_ms:\n",
    "    sum+=score\n",
    "mean= sum/len(score_ms)\n",
    "print(mean)\n",
    "\n",
    "#############################\n",
    "sum = 0\n",
    "for score in scores:\n",
    "    sum+=score\n",
    "mean= sum/len(scores)\n",
    "print(mean)\n",
    "\n",
    "for idx in range(len(scores)):\n",
    "    scores[idx]-=mean\n",
    "print(scores)\n",
    "\n",
    "sum = 0\n",
    "for score in scores:\n",
    "       sum+=score\n",
    "mean =sum/len(scores)\n",
    "print(mean) "
   ]
  },
  {
   "cell_type": "code",
   "execution_count": 51,
   "metadata": {},
   "outputs": [
    {
     "name": "stdout",
     "output_type": "stream",
     "text": [
      "[180, 120]\n",
      "[60.0, 40.0]\n"
     ]
    }
   ],
   "source": [
    "math_scores = [40, 60, 80]\n",
    "english_scores = [30, 40 ,50]\n",
    "\n",
    "n_class = 2\n",
    "n_student = len(math_scores)\n",
    "\n",
    "scores_sum = list()\n",
    "\n",
    "for _ in range(n_class):\n",
    "    scores_sum.append(0)\n",
    "    \n",
    "for student_idx in range(n_student):\n",
    "    scores_sum[0] += math_scores[student_idx]\n",
    "    scores_sum[1] += english_scores[student_idx]\n",
    "print(scores_sum)\n",
    "\n",
    "score_mean = list()\n",
    "for class_idx in range(n_class):\n",
    "    class_mean = scores_sum[class_idx]/n_student\n",
    "    score_mean.append(class_mean)\n",
    "    \n",
    "print(score_mean)"
   ]
  },
  {
   "cell_type": "code",
   "execution_count": 63,
   "metadata": {},
   "outputs": [
    {
     "name": "stdout",
     "output_type": "stream",
     "text": [
      "[180, 120]\n",
      "[60.0, 40.0]\n"
     ]
    }
   ],
   "source": [
    "# calculate for mean of two subject\n",
    "math_scores = [40, 60, 80]\n",
    "english_scores = [30, 40, 50]\n",
    "\n",
    "n_class = 2\n",
    "n_student = len(math_scores)\n",
    "\n",
    "sum= list()\n",
    "\n",
    "\n",
    "for _ in range(n_class):\n",
    "    sum.append(0)\n",
    "\n",
    "for student_idx in range(n_student):\n",
    "    sum[0]+= math_scores[student_idx]\n",
    "    sum[1]+= english_scores[student_idx]\n",
    "\n",
    "print(sum)\n",
    "\n",
    "mean= list()\n",
    "\n",
    "for class_idx in range(n_class):\n",
    "    class_mean = sum[class_idx]/n_student\n",
    "    mean.append(class_mean)\n",
    "print(mean) \n",
    "    "
   ]
  },
  {
   "cell_type": "code",
   "execution_count": 65,
   "metadata": {},
   "outputs": [
    {
     "name": "stdout",
     "output_type": "stream",
     "text": [
      "[180, 120]\n",
      "[60.0, 40.0]\n"
     ]
    }
   ],
   "source": [
    "math_scores = [40, 60, 80]\n",
    "english_scores = [30, 40, 50]\n",
    "\n",
    "n_class = 2\n",
    "n_student = len(math_scores)\n",
    "\n",
    "sum = list()\n",
    "\n",
    "for _ in range(n_class):\n",
    "    sum.append(0)\n",
    "\n",
    "for student_idx in range(n_student):\n",
    "    sum[0]+= math_scores[student_idx]\n",
    "    sum[1]+= english_scores[student_idx]\n",
    "print(sum)\n",
    "\n",
    "mean = list()\n",
    "for class_idx in range(n_class):\n",
    "    class_mean = sum[class_idx]/n_student\n",
    "    mean.append(class_mean)\n",
    "print(mean)\n",
    "    "
   ]
  },
  {
   "cell_type": "code",
   "execution_count": 67,
   "metadata": {},
   "outputs": [
    {
     "name": "stdout",
     "output_type": "stream",
     "text": [
      "[180, 120]\n",
      "[60.0, 40.0]\n"
     ]
    }
   ],
   "source": [
    "math_scores = [40, 60, 80]\n",
    "english_scores = [30, 40, 50]\n",
    "\n",
    "n_class = 2\n",
    "n_student = len(math_scores)\n",
    "sum = list()\n",
    "\n",
    "for _ in range(n_class):\n",
    "    sum.append(0)\n",
    "\n",
    "for student_idx in range(n_student):\n",
    "    sum[0]+= math_scores[student_idx]\n",
    "    sum[1]+= english_scores[student_idx]\n",
    "print(sum)\n",
    "    \n",
    "mean = list()\n",
    "for class_idx in range(n_class):\n",
    "    class_mean = sum[class_idx]/n_student\n",
    "    mean.append(class_mean)\n",
    "print(mean)\n",
    "    "
   ]
  },
  {
   "cell_type": "code",
   "execution_count": 75,
   "metadata": {},
   "outputs": [
    {
     "name": "stdout",
     "output_type": "stream",
     "text": [
      "[60.0, 40.0]\n",
      "[0.0, 0.0]\n"
     ]
    }
   ],
   "source": [
    "math_scores = [40, 60, 80]\n",
    "english_scores = [30, 40, 50]\n",
    "\n",
    "n_student=len(math_scores)\n",
    "n_class=2\n",
    "#### get class mean(start) ####\n",
    "sum = list()\n",
    "\n",
    "for _ in range(n_class):\n",
    "    sum.append(0)\n",
    "\n",
    "for student_idx in range(n_student):\n",
    "    sum[0]+= math_scores[student_idx]\n",
    "    sum[1]+= english_scores[student_idx]\n",
    "\n",
    "mean=list()\n",
    "for class_idx in range(n_class):\n",
    "    class_mean = sum[class_idx]/n_student\n",
    "    mean.append(class_mean)\n",
    "print(mean)\n",
    "#### get class mean(end) ####\n",
    "\n",
    "for student_idx in range(n_student):\n",
    "    math_scores[student_idx]-=mean[0]\n",
    "    english_scores[student_idx]-=mean[1]\n",
    "\n",
    "#### get class mean(start) ####\n",
    "sum = list()\n",
    "for _ in range(n_class):\n",
    "    sum.append(0)\n",
    "    \n",
    "for student_idx in range(n_student):\n",
    "    sum[0]+= math_scores[student_idx]\n",
    "    sum[1]+= english_scores[student_idx]\n",
    "\n",
    "\n",
    "mean = list()\n",
    "for class_idx in range(n_class):\n",
    "    class_mean = sum[class_idx]/n_student\n",
    "    mean.append(class_mean)\n",
    "    \n",
    "print(mean)\n",
    "#### get class mean(start) ####\n",
    "\n"
   ]
  },
  {
   "cell_type": "code",
   "execution_count": null,
   "metadata": {},
   "outputs": [],
   "source": []
  },
  {
   "cell_type": "code",
   "execution_count": null,
   "metadata": {},
   "outputs": [],
   "source": []
  },
  {
   "cell_type": "code",
   "execution_count": null,
   "metadata": {},
   "outputs": [],
   "source": []
  },
  {
   "cell_type": "code",
   "execution_count": null,
   "metadata": {},
   "outputs": [],
   "source": []
  },
  {
   "cell_type": "code",
   "execution_count": null,
   "metadata": {},
   "outputs": [],
   "source": []
  },
  {
   "cell_type": "code",
   "execution_count": null,
   "metadata": {},
   "outputs": [],
   "source": []
  }
 ],
 "metadata": {
  "kernelspec": {
   "display_name": "Python 3.12.2 64-bit",
   "language": "python",
   "name": "python3"
  },
  "language_info": {
   "codemirror_mode": {
    "name": "ipython",
    "version": 3
   },
   "file_extension": ".py",
   "mimetype": "text/x-python",
   "name": "python",
   "nbconvert_exporter": "python",
   "pygments_lexer": "ipython3",
   "version": "3.12.2"
  },
  "orig_nbformat": 4,
  "vscode": {
   "interpreter": {
    "hash": "e055262477437ea8249124d94883794fa22737a9cfe4fd89c699b51a0131ad6c"
   }
  }
 },
 "nbformat": 4,
 "nbformat_minor": 2
}
