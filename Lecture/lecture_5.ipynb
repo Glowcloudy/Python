{
 "cells": [
  {
   "cell_type": "code",
   "execution_count": 29,
   "metadata": {},
   "outputs": [
    {
     "name": "stdout",
     "output_type": "stream",
     "text": [
      "10\n",
      "20\n",
      "30\n"
     ]
    }
   ],
   "source": [
    "# Make List & approach elements for list\n",
    "scores=[10, 20, 30]\n",
    "\n",
    "print(scores[0])\n",
    "print(scores[1])\n",
    "print(scores[2])"
   ]
  },
  {
   "cell_type": "code",
   "execution_count": 30,
   "metadata": {},
   "outputs": [
    {
     "name": "stdout",
     "output_type": "stream",
     "text": [
      "[10, 20, 30]\n",
      "[100, 200, 300]\n"
     ]
    }
   ],
   "source": [
    "# modify elemmets for list\n",
    "scores=[10,20, 30]\n",
    "print(scores)\n",
    "\n",
    "scores[0] =100\n",
    "scores[1] =200\n",
    "scores[2] =300\n",
    "print(scores)"
   ]
  },
  {
   "cell_type": "code",
   "execution_count": 31,
   "metadata": {},
   "outputs": [
    {
     "name": "stdout",
     "output_type": "stream",
     "text": [
      "20.0\n"
     ]
    }
   ],
   "source": [
    "# mean of mathmetica (2)\n",
    "scores=[10,20, 30]\n",
    "n_student= len(scores)\n",
    "\n",
    "mean= (scores[0]+scores[1]+scores[2])/n_student\n",
    "print(mean)"
   ]
  },
  {
   "cell_type": "code",
   "execution_count": 33,
   "metadata": {},
   "outputs": [
    {
     "name": "stdout",
     "output_type": "stream",
     "text": [
      "20.0\n",
      "0.0\n"
     ]
    }
   ],
   "source": [
    "# Mean Subtraction(2)\n",
    "scores=[10, 20, 30]\n",
    "n_student= len(scores)\n",
    "\n",
    "mean= (scores[0]+scores[1]+scores[2])/n_student\n",
    "print(mean)\n",
    "\n",
    "scores[0] -= mean\n",
    "scores[1] -= mean\n",
    "scores[2] -= mean\n",
    "\n",
    "mean= (scores[0]+scores[1]+scores[2])/n_student\n",
    "print(mean)\n"
   ]
  },
  {
   "cell_type": "code",
   "execution_count": 35,
   "metadata": {},
   "outputs": [
    {
     "name": "stdout",
     "output_type": "stream",
     "text": [
      "mean:  0.0\n",
      "variance:  66.66666666666667\n",
      "std_variance:  8.16496580927726\n"
     ]
    }
   ],
   "source": [
    "# Variance & Standard Deviation\n",
    "Scores = [10, 20, 30]\n",
    "n_student = len(scores)\n",
    "\n",
    "mean = (scores[0]+scores[1]+scores[2])/n_student\n",
    "squares_of_mean = mean**2\n",
    "mean_of_squares = (scores[0]**2+scores[1]**2+scores[2]**2)/n_student\n",
    "\n",
    "variance = mean_of_squares-squares_of_mean\n",
    "std_variance = variance**0.5\n",
    "\n",
    "print(\"mean: \", mean)\n",
    "print(\"variance: \", variance)\n",
    "print(\"std_variance: \", std_variance)"
   ]
  },
  {
   "cell_type": "code",
   "execution_count": 37,
   "metadata": {},
   "outputs": [
    {
     "name": "stdout",
     "output_type": "stream",
     "text": [
      "mean:  20.0\n",
      "variance : 66.66666666666669\n",
      "std_variance : 8.16496580927726 \n",
      "\n",
      "mean:  0.0\n",
      "variance:  0.9999999999999999\n",
      "std_variance:  1.0\n"
     ]
    }
   ],
   "source": [
    "# Standardization\n",
    "scores= [10, 20, 30]\n",
    "n_student = len(scores)\n",
    "\n",
    "mean = (scores[0]+scores[1]+scores[2])/n_student\n",
    "squares_of_mean = mean**2\n",
    "mean_of_squares = (scores[0]**2+scores[1]**2+scores[2]**2)/n_student\n",
    "\n",
    "variance = mean_of_squares-squares_of_mean\n",
    "std_variance = variance**0.5\n",
    "\n",
    "print(\"mean: \", mean)\n",
    "print(\"variance :\", variance)\n",
    "print(\"std_variance :\", std_variance, '\\n')\n",
    "\n",
    "scores[0] = (scores[0] - mean)/std_variance\n",
    "scores[1] = (scores[1] - mean)/std_variance\n",
    "scores[2] = (scores[2] - mean)/std_variance\n",
    "\n",
    "mean = (scores[0]+scores[1]+scores[2])/n_student\n",
    "squares_of_mean = mean**2\n",
    "mean_of_squares = (scores[0]**2+scores[1]**2+scores[2]**2)/n_student\n",
    "\n",
    "variance = mean_of_squares-squares_of_mean\n",
    "std_variance = variance**0.5\n",
    "\n",
    "print(\"mean: \", mean)\n",
    "print(\"variance: \", variance)\n",
    "print(\"std_variance: \", std_variance)"
   ]
  }
 ],
 "metadata": {
  "kernelspec": {
   "display_name": "Python 3.12.2 64-bit",
   "language": "python",
   "name": "python3"
  },
  "language_info": {
   "name": "python",
   "version": "3.12.2"
  },
  "orig_nbformat": 4,
  "vscode": {
   "interpreter": {
    "hash": "e055262477437ea8249124d94883794fa22737a9cfe4fd89c699b51a0131ad6c"
   }
  }
 },
 "nbformat": 4,
 "nbformat_minor": 2
}
