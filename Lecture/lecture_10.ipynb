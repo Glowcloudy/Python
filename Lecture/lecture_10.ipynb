{
 "cells": [
  {
   "cell_type": "code",
   "execution_count": 3,
   "metadata": {},
   "outputs": [
    {
     "name": "stdout",
     "output_type": "stream",
     "text": [
      "[10, 40, 90, 160, 250]\n",
      "[10, 40, 90, 160, 250]\n"
     ]
    }
   ],
   "source": [
    "v1 = [1, 2, 3, 4, 5]\n",
    "v2 = [10, 20, 30, 40, 50]\n",
    "\n",
    "# method.1\n",
    "v3 = list()\n",
    "for dim_idx in range(len(v1)):\n",
    "    element_product = v1[dim_idx] * v2[dim_idx]\n",
    "    v3.append(element_product)\n",
    "print(v3)\n",
    "\n",
    "# method.2\n",
    "v3 = list()\n",
    "for _ in range(len(v1)):\n",
    "    v3.append(0)\n",
    "\n",
    "for dim_idx in range(len(v1)):\n",
    "    element_product = v1[dim_idx] * v2[dim_idx]\n",
    "    v3[dim_idx] = element_product\n",
    "print(v3)"
   ]
  },
  {
   "cell_type": "code",
   "execution_count": 4,
   "metadata": {},
   "outputs": [
    {
     "name": "stdout",
     "output_type": "stream",
     "text": [
      "[10, 40, 90, 160, 250]\n",
      "[10, 40, 90, 160, 250]\n"
     ]
    }
   ],
   "source": [
    "v1= [1, 2, 3, 4, 5]\n",
    "v2 = [10, 20, 30, 40, 50]\n",
    "\n",
    "v3= list()\n",
    "for dim_idx in range(len(v1)):\n",
    "    v3.append(v1[dim_idx]* v2[dim_idx])\n",
    "print(v3)\n",
    "\n",
    "v3 = list()\n",
    "for _ in range(len(v1)):\n",
    "    v3.append(0)\n",
    "    \n",
    "for dim_idx in range(len(v1)):\n",
    "    element_product = v1[dim_idx]*v2[dim_idx]\n",
    "    v3[dim_idx] = element_product\n",
    "print(v3)"
   ]
  },
  {
   "cell_type": "code",
   "execution_count": 6,
   "metadata": {},
   "outputs": [
    {
     "name": "stdout",
     "output_type": "stream",
     "text": [
      "[10, 40, 90, 160, 250]\n",
      "[10, 40, 90, 160, 250]\n"
     ]
    }
   ],
   "source": [
    "v1 = [1, 2, 3, 4, 5]\n",
    "v2 = [10, 20, 30, 40, 50]\n",
    "\n",
    "v3 = list()\n",
    "for dim_idx in range(len(v1)):\n",
    "    v3.append(v1[dim_idx]*v2[dim_idx])\n",
    "print(v3)\n",
    "\n",
    "v3 = list()\n",
    "for _ in range(len(v1)):\n",
    "    v3.append(0)\n",
    "    \n",
    "for dim_idx in range(len(v1)):\n",
    "    element_product = v1[dim_idx]*v2[dim_idx]\n",
    "    v3[dim_idx] = element_product\n",
    "print(v3)"
   ]
  },
  {
   "cell_type": "code",
   "execution_count": 8,
   "metadata": {},
   "outputs": [
    {
     "name": "stdout",
     "output_type": "stream",
     "text": [
      "[10, 40, 90, 160, 250]\n",
      "[10, 40, 90, 160, 250]\n"
     ]
    }
   ],
   "source": [
    "v1 = [1, 2, 3, 4, 5]\n",
    "v2 = [10, 20, 30, 40, 50]\n",
    "\n",
    "v3 = list()\n",
    "\n",
    "for dim_idx in range(len(v1)):\n",
    "    v3.append(v1[dim_idx]*v2[dim_idx])\n",
    "print(v3)\n",
    "\n",
    "v3=list()\n",
    "for _ in range(len(v1)):\n",
    "    v3.append(0)\n",
    "    \n",
    "for dim_idx in range(len(v1)):\n",
    "    element_product = v1[dim_idx]*v2[dim_idx]\n",
    "    v3[dim_idx] = element_product\n",
    "print(v3)"
   ]
  },
  {
   "cell_type": "code",
   "execution_count": 12,
   "metadata": {},
   "outputs": [
    {
     "name": "stdout",
     "output_type": "stream",
     "text": [
      "16.881943016134134\n"
     ]
    }
   ],
   "source": [
    "v1 = [1, 2, 3, 4, 5, 6, 7, 8, 9]\n",
    "\n",
    "square_sum = 0\n",
    "for dim_val in v1:\n",
    "    square_sum += dim_val**2\n",
    "\n",
    "norm = square_sum**0.5\n",
    "print(norm)\n"
   ]
  },
  {
   "cell_type": "code",
   "execution_count": 16,
   "metadata": {},
   "outputs": [
    {
     "name": "stdout",
     "output_type": "stream",
     "text": [
      "3.7416573867739413\n"
     ]
    }
   ],
   "source": [
    "v1= [1, 2, 3]\n",
    "\n",
    "sum = 0\n",
    "for dim_val in v1:\n",
    "    sum+= dim_val**2\n",
    "    \n",
    "square_root = sum**0.5\n",
    "print(square_root)"
   ]
  },
  {
   "cell_type": "code",
   "execution_count": 13,
   "metadata": {},
   "outputs": [
    {
     "name": "stdout",
     "output_type": "stream",
     "text": [
      "16.881943016134134\n"
     ]
    }
   ],
   "source": [
    "v1= [1, 2, 3, 4, 5, 6, 7, 8, 9]\n",
    "\n",
    "sum = 0\n",
    "for dim_val in v1:\n",
    "    sum+= dim_val**2\n",
    "\n",
    "square_sum= sum**0.5\n",
    "print(square_sum)"
   ]
  },
  {
   "cell_type": "code",
   "execution_count": 14,
   "metadata": {},
   "outputs": [
    {
     "name": "stdout",
     "output_type": "stream",
     "text": [
      "16.881943016134134\n"
     ]
    }
   ],
   "source": [
    "v1 = [1, 2, 3, 4, 5, 6, 7, 8, 9]\n",
    "\n",
    "sum = 0\n",
    "for dim_val in v1:\n",
    "    sum+= dim_val**2\n",
    "\n",
    "norm = sum**0.5\n",
    "print(norm)"
   ]
  },
  {
   "cell_type": "code",
   "execution_count": 15,
   "metadata": {},
   "outputs": [
    {
     "name": "stdout",
     "output_type": "stream",
     "text": [
      "16.881943016134134\n"
     ]
    }
   ],
   "source": [
    "v1 = [1, 2, 3, 4, 5, 6, 7, 8, 9]\n",
    "\n",
    "sum = 0\n",
    "for dim_val in v1:\n",
    "    sum+= dim_val**2\n",
    "    \n",
    "norm = sum**0.5\n",
    "print(norm)"
   ]
  },
  {
   "cell_type": "code",
   "execution_count": 24,
   "metadata": {},
   "outputs": [
    {
     "name": "stdout",
     "output_type": "stream",
     "text": [
      "16.881943016134134\n",
      "1.0\n",
      "1.0\n"
     ]
    }
   ],
   "source": [
    "v1 = [1, 2, 3, 4, 5, 6, 7, 8, 9]\n",
    "\n",
    "sum=0\n",
    "for dim_val in v1:\n",
    "    sum+= dim_val**2\n",
    "norm = sum**0.5\n",
    "print(norm)\n",
    "\n",
    "for dim_val in range(len(v1)):\n",
    "    v1[dim_val] /=norm\n",
    "\n",
    "sum=0\n",
    "for dim_val in v1:\n",
    "    sum+= dim_val**2\n",
    "norm = sum**0.5\n",
    "print(norm)\n",
    "\n",
    "### method.2\n",
    "\n",
    "v1_norm = list()\n",
    "for dim_val in v1:\n",
    "    v1_norm.append(dim_val/norm)\n",
    "    \n",
    "sum = 0\n",
    "for dim_val in v1_norm:\n",
    "    sum+= dim_val**2\n",
    "\n",
    "norm = sum**0.5\n",
    "print(norm)"
   ]
  },
  {
   "cell_type": "code",
   "execution_count": 40,
   "metadata": {},
   "outputs": [
    {
     "name": "stdout",
     "output_type": "stream",
     "text": [
      "16.881943016134134\n",
      "1.0\n"
     ]
    }
   ],
   "source": [
    "v1 =[1, 2, 3, 4, 5, 6, 7, 8, 9]\n",
    "\n",
    "sum = 0\n",
    "for dim_val in v1:\n",
    "    sum+= dim_val**2\n",
    "norm = sum**0.5\n",
    "print(norm)\n",
    "\n",
    "for dim_val in range(len(v1)):\n",
    "    v1[dim_val] /=norm\n",
    "\n",
    "sum = 0\n",
    "for dim_val in v1:\n",
    "    sum+= dim_val**2\n",
    "\n",
    "norm = sum**0.5\n",
    "print(norm)"
   ]
  },
  {
   "cell_type": "code",
   "execution_count": 45,
   "metadata": {},
   "outputs": [
    {
     "name": "stdout",
     "output_type": "stream",
     "text": [
      "16.881943016134134\n",
      "1.0\n"
     ]
    }
   ],
   "source": [
    "v1 = [1, 2, 3, 4, 5, 6, 7, 8, 9]\n",
    "\n",
    "sum = 0\n",
    "for dim_val in v1:\n",
    "    sum+=dim_val**2\n",
    "norm = sum**0.5\n",
    "print(norm)\n",
    "\n",
    "v1_norm = list()\n",
    "for dim_val in v1:\n",
    "    v1_norm.append(dim_val/norm)\n",
    "    \n",
    "sum = 0\n",
    "for dim_val in v1_norm:\n",
    "    sum+= dim_val**2\n",
    "\n",
    "\n",
    "norm = sum**0.5\n",
    "print(norm)"
   ]
  },
  {
   "cell_type": "code",
   "execution_count": 48,
   "metadata": {},
   "outputs": [
    {
     "name": "stdout",
     "output_type": "stream",
     "text": [
      "0.9999999999999999\n"
     ]
    }
   ],
   "source": [
    "v1 = [1, 2, 3, 4, 5, 6, 7, 8,]\n",
    "sum = 0\n",
    "for dim_val in v1:\n",
    "    sum+= dim_val**2\n",
    "norm = sum**0.5\n",
    "\n",
    "for dim_idx in range(len(v1)):\n",
    "    v1[dim_idx]/= norm\n",
    "\n",
    "sum=0\n",
    "for dim_val in v1:\n",
    "    sum+= dim_val**2\n",
    "norm = sum**0.5\n",
    "print(norm)\n",
    "    "
   ]
  },
  {
   "cell_type": "code",
   "execution_count": 50,
   "metadata": {},
   "outputs": [
    {
     "name": "stdout",
     "output_type": "stream",
     "text": [
      "1.0\n"
     ]
    }
   ],
   "source": [
    "v1 = [1, 2, 3, 4, 5, 6, 7, 8, 9]\n",
    "sum = 0\n",
    "for dim_val in v1:\n",
    "    sum+= dim_val**2\n",
    "    \n",
    "norm = sum**0.5\n",
    "\n",
    "v1_norm = list()\n",
    "for dim_idx in range(len(v1)):\n",
    "    v1_norm.append(v1[dim_idx]/norm)\n",
    "\n",
    "sum = 0\n",
    "for dim_val in v1_norm:\n",
    "    sum+=dim_val**2\n",
    "\n",
    "norm = sum**0.5\n",
    "print(norm)"
   ]
  },
  {
   "cell_type": "code",
   "execution_count": 51,
   "metadata": {},
   "outputs": [
    {
     "name": "stdout",
     "output_type": "stream",
     "text": [
      "1.0\n"
     ]
    }
   ],
   "source": [
    "v1 = [1, 2, 3, 4, 5, 6, 7, 8, 9]\n",
    "sum = 0\n",
    "\n",
    "for dim_idx in v1:\n",
    "    sum+=dim_idx**2\n",
    "norm = sum**0.5\n",
    "\n",
    "for dim_val in range(len(v1)):\n",
    "    v1[dim_val] /=norm\n",
    "\n",
    "sum = 0\n",
    "for dim_val in v1:\n",
    "    sum+=dim_val**2\n",
    "norm=sum**0.5\n",
    "print(norm)"
   ]
  },
  {
   "cell_type": "code",
   "execution_count": 54,
   "metadata": {},
   "outputs": [
    {
     "name": "stdout",
     "output_type": "stream",
     "text": [
      "1.0\n"
     ]
    }
   ],
   "source": [
    "v1=[1, 2, 3, 4, 5, 6, 7, 8, 9]\n",
    "sum = 0\n",
    "\n",
    "for dim_val in v1:\n",
    "    sum+=dim_val**2\n",
    "    \n",
    "norm = sum**0.5\n",
    "\n",
    "v1_norm = list()\n",
    "for dim_idx in range(len(v1)):\n",
    "    v1_norm.append(v1[dim_idx]/norm)\n",
    "    \n",
    "sum = 0\n",
    "for dim_val in v1_norm:\n",
    "    sum+=dim_val**2\n",
    "    \n",
    "norm= sum**0.5\n",
    "print(norm)"
   ]
  },
  {
   "cell_type": "code",
   "execution_count": 55,
   "metadata": {},
   "outputs": [
    {
     "name": "stdout",
     "output_type": "stream",
     "text": [
      "26\n"
     ]
    }
   ],
   "source": [
    "v1, v2 = [1, 2, 3] , [3, 4, 5]\n",
    "\n",
    "dot_prod =0\n",
    "for dim_idx in range(len(v1)):\n",
    "    dot_prod+= v1[dim_idx]*v2[dim_idx]\n",
    "print(dot_prod)"
   ]
  },
  {
   "cell_type": "code",
   "execution_count": 56,
   "metadata": {},
   "outputs": [
    {
     "name": "stdout",
     "output_type": "stream",
     "text": [
      "26\n"
     ]
    }
   ],
   "source": [
    "v1, v2 = [1, 2, 3], [3, 4, 5]\n",
    "dot_prod = 0\n",
    "\n",
    "for dim_idx in range(len(v1)):\n",
    "    dot_prod+= v1[dim_idx]*v2[dim_idx]\n",
    "print(dot_prod)"
   ]
  },
  {
   "cell_type": "code",
   "execution_count": 57,
   "metadata": {},
   "outputs": [
    {
     "name": "stdout",
     "output_type": "stream",
     "text": [
      "130\n"
     ]
    }
   ],
   "source": [
    "v1, v2 =[1, 2, 3, 4, 5], [6, 7, 8, 9, 10]\n",
    "dot_prod = 0\n",
    "\n",
    "for dim_idx in range(len(v1)):\n",
    "    dot_prod+= v1[dim_idx]*v2[dim_idx]\n",
    "print(dot_prod)"
   ]
  },
  {
   "cell_type": "code",
   "execution_count": 59,
   "metadata": {},
   "outputs": [
    {
     "name": "stdout",
     "output_type": "stream",
     "text": [
      "11.180339887498949\n"
     ]
    }
   ],
   "source": [
    "v1, v2 = [1, 2, 3, 4, 5], [6, 7, 8, 9, 10]\n",
    "\n",
    "diff_square_sum = 0\n",
    "for dim_idx in range(len(v1)):\n",
    "    diff_square_sum+= (v1[dim_idx]-v2[dim_idx])**2\n",
    "\n",
    "e_distance = diff_square_sum**0.5\n",
    "print(e_distance)"
   ]
  },
  {
   "cell_type": "code",
   "execution_count": null,
   "metadata": {},
   "outputs": [],
   "source": []
  },
  {
   "cell_type": "code",
   "execution_count": null,
   "metadata": {},
   "outputs": [],
   "source": []
  },
  {
   "cell_type": "code",
   "execution_count": null,
   "metadata": {},
   "outputs": [],
   "source": []
  },
  {
   "cell_type": "code",
   "execution_count": null,
   "metadata": {},
   "outputs": [],
   "source": []
  },
  {
   "cell_type": "code",
   "execution_count": null,
   "metadata": {},
   "outputs": [],
   "source": []
  },
  {
   "cell_type": "code",
   "execution_count": null,
   "metadata": {},
   "outputs": [],
   "source": []
  }
 ],
 "metadata": {
  "kernelspec": {
   "display_name": "Python 3.12.2 64-bit",
   "language": "python",
   "name": "python3"
  },
  "language_info": {
   "codemirror_mode": {
    "name": "ipython",
    "version": 3
   },
   "file_extension": ".py",
   "mimetype": "text/x-python",
   "name": "python",
   "nbconvert_exporter": "python",
   "pygments_lexer": "ipython3",
   "version": "3.12.2"
  },
  "orig_nbformat": 4,
  "vscode": {
   "interpreter": {
    "hash": "e055262477437ea8249124d94883794fa22737a9cfe4fd89c699b51a0131ad6c"
   }
  }
 },
 "nbformat": 4,
 "nbformat_minor": 2
}
