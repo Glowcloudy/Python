{
 "cells": [
  {
   "cell_type": "code",
   "execution_count": 5,
   "metadata": {},
   "outputs": [
    {
     "name": "stdout",
     "output_type": "stream",
     "text": [
      "Max Value: 150\n",
      "Min Value: -20\n",
      "Max Value: 150\n",
      "Min Value: -20\n"
     ]
    }
   ],
   "source": [
    "# find Maximum/Minimum Value\n",
    "# method.1 Max, Min Value\n",
    "scores = [120, 130, 150, -20, 50]\n",
    "N, m = scores[0], scores[1]\n",
    "\n",
    "for score in scores:\n",
    "    if score > N:\n",
    "        N = score\n",
    "    if score < m:\n",
    "        m = score\n",
    "print('Max Value:', N)\n",
    "print('Min Value:', m)\n",
    "\n",
    "# method.2\n",
    "M, m = None, None\n",
    "for score in scores:\n",
    "    if M == None or score > M:\n",
    "        M = score\n",
    "        \n",
    "    if m == None or score < m:\n",
    "        m=score\n",
    "\n",
    "print('Max Value:',M)\n",
    "print('Min Value:', m)"
   ]
  },
  {
   "cell_type": "code",
   "execution_count": 6,
   "metadata": {},
   "outputs": [
    {
     "name": "stdout",
     "output_type": "stream",
     "text": [
      "Max Value: 120\n",
      "Min Value: -20\n",
      "Max Value:  120\n",
      "Min Value:  -20\n"
     ]
    }
   ],
   "source": [
    "scores = [-20, 60, 40, 70, 120]\n",
    "N, m = scores[0], scores[1]\n",
    "\n",
    "for score in scores:\n",
    "    if score > N:\n",
    "        N = score\n",
    "    if score < m:\n",
    "        m = score\n",
    "print('Max Value:',N)\n",
    "print('Min Value:', m)\n",
    "\n",
    "################################\n",
    "M, m = None, None\n",
    "for score in scores:\n",
    "    if M == None or score > M:\n",
    "        M= score\n",
    "    if m == None or score < m:\n",
    "        m= score\n",
    "print('Max Value: ', M)\n",
    "print('Min Value: ', m)\n",
    "    "
   ]
  },
  {
   "cell_type": "code",
   "execution_count": 7,
   "metadata": {},
   "outputs": [
    {
     "name": "stdout",
     "output_type": "stream",
     "text": [
      "Max Value:  120\n",
      "Min Value:  -20\n",
      "Max Value:  120\n",
      "Min Value: -20\n"
     ]
    }
   ],
   "source": [
    "scores = [-20, 60, 40, 70, 120]\n",
    "N, m = scores[0], scores[1]\n",
    "for score in scores:\n",
    "    if score > N:\n",
    "        N= score\n",
    "    if score < m:\n",
    "        m = score\n",
    "print('Max Value: ', N)\n",
    "print('Min Value: ', m)\n",
    "\n",
    "################################\n",
    "M, m = None, None\n",
    "for score in scores:\n",
    "    if M == None or score >M:\n",
    "        M= score\n",
    "    if m == None or score < m:\n",
    "        m= score\n",
    "print('Max Value: ', M)\n",
    "print('Min Value:', m)"
   ]
  },
  {
   "cell_type": "code",
   "execution_count": 9,
   "metadata": {},
   "outputs": [
    {
     "name": "stdout",
     "output_type": "stream",
     "text": [
      "Max Value:  120\n",
      "Nin Value:  -20\n",
      "Max Value:  120\n",
      "Nin Value:  -20\n"
     ]
    }
   ],
   "source": [
    "scores = [-20, 60, 40, 70, 120]\n",
    "N, m = scores[0], scores[0]\n",
    "\n",
    "for score in scores:\n",
    "    if score > N:\n",
    "        N= score\n",
    "    if score < m:\n",
    "        m= score\n",
    "print('Max Value: ', N)\n",
    "print('Nin Value: ', m)\n",
    "\n",
    "################################\n",
    "M, m = None, None\n",
    "for score in scores:\n",
    "    if M == None or score >M:\n",
    "        M= score\n",
    "    if m == None or score < m:\n",
    "        m= score\n",
    "print('Max Value: ', M)\n",
    "print('Nin Value: ', m)"
   ]
  },
  {
   "cell_type": "code",
   "execution_count": 13,
   "metadata": {},
   "outputs": [
    {
     "name": "stdout",
     "output_type": "stream",
     "text": [
      "Max Value:  120\n",
      "Nin Value:  -20\n",
      "scores: [0.0, 0.5714285714285714, 0.42857142857142855, 0.6428571428571429, 1.0]\n",
      "Max Value:  1.0\n",
      "Nin Value:  0.0\n"
     ]
    }
   ],
   "source": [
    "# Nomalization\n",
    "scores = [-20, 60, 40, 70, 120]\n",
    "M, m = None, None\n",
    "for score in scores:\n",
    "    if M == None or score >M:\n",
    "        M= score\n",
    "    if m == None or score < m:\n",
    "        m=score\n",
    "print('Max Value: ', M)\n",
    "print('Nin Value: ', m)\n",
    "\n",
    "## change the scores and calculate normalized\n",
    "for score_idx in range(len(scores)):\n",
    "    scores[score_idx] = (scores[score_idx] - m) / (M -m)\n",
    "print('scores:', scores)\n",
    "\n",
    "M, m = None, None\n",
    "for score in scores:\n",
    "    if M == None or score > M:\n",
    "        M=score\n",
    "    if m == None or score < m:\n",
    "        m=score\n",
    "print('Max Value: ', M)\n",
    "print('Nin Value: ', m)"
   ]
  },
  {
   "cell_type": "code",
   "execution_count": 19,
   "metadata": {},
   "outputs": [
    {
     "name": "stdout",
     "output_type": "stream",
     "text": [
      "Max Value:  120\n",
      "Nin Value:  -20\n",
      "Max Value:  1.0\n",
      "Nin Value:  0.0\n"
     ]
    }
   ],
   "source": [
    "scores = [-20, 60, 40, 70, 120]\n",
    "M, m = None, None\n",
    "for score in scores:\n",
    "    if M == None or score > M:\n",
    "        M= score\n",
    "    if m == None or score < m:\n",
    "        m=score\n",
    "print('Max Value: ', M)\n",
    "print('Nin Value: ', m)\n",
    "\n",
    "for score_idx in range(len(scores)):\n",
    "    scores[score_idx] = (scores[score_idx] - m)/(M - m)\n",
    "\n",
    "M, m = None, None\n",
    "for score in scores:\n",
    "    if M == None or score > M:\n",
    "        M=score\n",
    "    if m == None or score < m:\n",
    "        m=score\n",
    "print('Max Value: ', M)\n",
    "print('Nin Value: ', m)"
   ]
  },
  {
   "cell_type": "code",
   "execution_count": 21,
   "metadata": {},
   "outputs": [
    {
     "name": "stdout",
     "output_type": "stream",
     "text": [
      "Max Value:  120\n",
      "Nin Value:  -20\n",
      "Max Value:  1.0\n",
      "Nin Value:  0.0\n"
     ]
    }
   ],
   "source": [
    "scores = [-20, 60, 40, 70, 120]\n",
    "M, m = None, None\n",
    "for score in scores:\n",
    "    if M == None or score > M:\n",
    "        M=score\n",
    "    if m == None or score < m:\n",
    "        m=score\n",
    "print('Max Value: ', M)\n",
    "print('Nin Value: ', m)\n",
    "\n",
    "for score_idx in range(len(scores)):\n",
    "    scores[score_idx] = (scores[score_idx] -m)/(M-m)\n",
    "    \n",
    "M, m = None, None\n",
    "for score in scores:\n",
    "    if M==None or score > M:\n",
    "        M=score\n",
    "    if m==None or score < m:\n",
    "        m=score\n",
    "print('Max Value: ', M)\n",
    "print('Nin Value: ', m)"
   ]
  },
  {
   "cell_type": "code",
   "execution_count": 22,
   "metadata": {},
   "outputs": [
    {
     "name": "stdout",
     "output_type": "stream",
     "text": [
      "Max Value:  80\n",
      "Nin Value:  -20\n",
      "Max Value:  1.0\n",
      "Nin Value:  0.0\n"
     ]
    }
   ],
   "source": [
    "scores= [-20, 60, 40, 80, 10]\n",
    "M, m = None, None\n",
    "for score in scores:\n",
    "    if M==None or score > M:\n",
    "        M=score\n",
    "    if m== None or score < m:\n",
    "        m=score\n",
    "print('Max Value: ', M)\n",
    "print('Nin Value: ', m)\n",
    "\n",
    "for score_idx in range(len(scores)):\n",
    "    scores[score_idx] = (scores[score_idx] -m)/(M -m)\n",
    "    \n",
    "M, m = None, None\n",
    "for score in scores:\n",
    "    if M== None or score > M:\n",
    "        M=score\n",
    "    if m== None or score < m:\n",
    "        m=score\n",
    "print('Max Value: ', M)\n",
    "print('Nin Value: ', m)"
   ]
  },
  {
   "cell_type": "code",
   "execution_count": 23,
   "metadata": {},
   "outputs": [
    {
     "name": "stdout",
     "output_type": "stream",
     "text": [
      "Max Value:  20\n",
      "Nin Value:  -5\n",
      "Max Value:  1.0\n",
      "Nin Value:  0.0\n"
     ]
    }
   ],
   "source": [
    "scores= [-5, -1, 20, 10, 5]\n",
    "M, m = None, None\n",
    "for score in scores:\n",
    "    if M== None or score > M:\n",
    "        M=score\n",
    "    if m== None or score < m:\n",
    "        m=score\n",
    "print('Max Value: ', M)\n",
    "print('Nin Value: ', m)\n",
    "\n",
    "for score_idx in range(len(scores)):\n",
    "    scores[score_idx] = (scores[score_idx] -m)/(M -m)\n",
    "\n",
    "M, m = None, None\n",
    "for score in scores:\n",
    "    if M== None or score > M:\n",
    "        M=score\n",
    "    if m== None or score < m:\n",
    "        m=score\n",
    "print('Max Value: ', M)\n",
    "print('Nin Value: ', m)"
   ]
  },
  {
   "cell_type": "code",
   "execution_count": 31,
   "metadata": {},
   "outputs": [
    {
     "name": "stdout",
     "output_type": "stream",
     "text": [
      "M/M_idx:  120 3\n",
      "m, m_idx:  -20 1\n"
     ]
    }
   ],
   "source": [
    "# position of the Max/Min value\n",
    "scores= [60, -20, 40, 120, 70]\n",
    "\n",
    "# set parameters and initialize\n",
    "M, m = None, None\n",
    "M_idx, m_idx = 0, 0\n",
    "\n",
    "# first position of the score/ Max/Min value/position\n",
    "for score_idx in range(len(scores)):\n",
    "    score = scores[score_idx]\n",
    "    \n",
    "    if M == None or score > M:\n",
    "        M=score\n",
    "        M_idx= score_idx\n",
    "        \n",
    "    if m == None or score < m:\n",
    "        m=score\n",
    "        m_idx = score_idx\n",
    "# print result\n",
    "print('M/M_idx: ', M, M_idx)    \n",
    "print('m, m_idx: ', m, m_idx)"
   ]
  },
  {
   "cell_type": "code",
   "execution_count": 28,
   "metadata": {},
   "outputs": [
    {
     "name": "stdout",
     "output_type": "stream",
     "text": [
      "M/M_idx:  120 3\n",
      "m/m_idx:  -20 1\n"
     ]
    }
   ],
   "source": [
    "scores =[60, -20, 40, 120, 70]\n",
    "M, m = None, None\n",
    "M_idx, m_idx = 0, 0\n",
    "\n",
    "for score_idx in range(len(scores)):\n",
    "    score = scores[score_idx]\n",
    "    \n",
    "    if M == None or score > M:\n",
    "        M=score\n",
    "        M_idx= score_idx\n",
    "    if m == None or score < m:\n",
    "        m=score\n",
    "        m_idx= score_idx\n",
    "\n",
    "print('M/M_idx: ', M, M_idx)\n",
    "print('m/m_idx: ', m, m_idx)"
   ]
  },
  {
   "cell_type": "code",
   "execution_count": 29,
   "metadata": {},
   "outputs": [
    {
     "name": "stdout",
     "output_type": "stream",
     "text": [
      "M/M_idx:  120 3\n",
      "m/m_idx:  -20 1\n"
     ]
    }
   ],
   "source": [
    "scores= [60, -20, 40, 120, 70]\n",
    "M, m = None, None\n",
    "M_idx, m_idx =0, 0\n",
    "\n",
    "for score_idx in range(len(scores)):\n",
    "    score = scores[score_idx]\n",
    "    \n",
    "    if M == None or score > M:\n",
    "        M=score\n",
    "        M_idx = score_idx\n",
    "        \n",
    "    if m == None or score < m:\n",
    "        m=score\n",
    "        m_idx = score_idx\n",
    "\n",
    "print('M/M_idx: ', M, M_idx)\n",
    "print('m/m_idx: ', m, m_idx)"
   ]
  },
  {
   "cell_type": "code",
   "execution_count": 30,
   "metadata": {},
   "outputs": [
    {
     "name": "stdout",
     "output_type": "stream",
     "text": [
      "M/M_idx 120 3\n",
      "m/m_idx -20 1\n"
     ]
    }
   ],
   "source": [
    "scores=[60, -20, 40, 120, 70]\n",
    "M, m = None, None\n",
    "M_idx, m_idx = 0, 0\n",
    "\n",
    "for score_idx in range(len(scores)):\n",
    "    score = scores[score_idx]\n",
    "    \n",
    "    if M== None or score > M:\n",
    "        M=score\n",
    "        M_idx = score_idx\n",
    "    if m== None or score < m:\n",
    "        m=score\n",
    "        m_idx = score_idx\n",
    "print('M/M_idx', M, M_idx)\n",
    "print('m/m_idx', m, m_idx)"
   ]
  },
  {
   "cell_type": "code",
   "execution_count": null,
   "metadata": {},
   "outputs": [],
   "source": []
  },
  {
   "cell_type": "code",
   "execution_count": null,
   "metadata": {},
   "outputs": [],
   "source": []
  }
 ],
 "metadata": {
  "kernelspec": {
   "display_name": "Python 3.12.2 64-bit",
   "language": "python",
   "name": "python3"
  },
  "language_info": {
   "codemirror_mode": {
    "name": "ipython",
    "version": 3
   },
   "file_extension": ".py",
   "mimetype": "text/x-python",
   "name": "python",
   "nbconvert_exporter": "python",
   "pygments_lexer": "ipython3",
   "version": "3.12.2"
  },
  "orig_nbformat": 4,
  "vscode": {
   "interpreter": {
    "hash": "e055262477437ea8249124d94883794fa22737a9cfe4fd89c699b51a0131ad6c"
   }
  }
 },
 "nbformat": 4,
 "nbformat_minor": 2
}
