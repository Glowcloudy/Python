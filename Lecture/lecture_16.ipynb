{
 "cells": [
  {
   "cell_type": "markdown",
   "metadata": {},
   "source": [
    "2D "
   ]
  },
  {
   "cell_type": "code",
   "execution_count": 3,
   "metadata": {},
   "outputs": [
    {
     "name": "stdout",
     "output_type": "stream",
     "text": [
      "[[10, 20, 30], [50, 60, 70]]\n",
      "[10, 20, 30]\n",
      "[50, 60, 70]\n",
      "10 20 30\n",
      "50 60 70\n"
     ]
    }
   ],
   "source": [
    "scores=[[10, 20, 30],[50, 60, 70]]\n",
    "\n",
    "print(scores)\n",
    "print(scores[0])\n",
    "print(scores[1])\n",
    "print(scores[0][0], scores[0][1], scores[0][2])\n",
    "print(scores[1][0], scores[1][1], scores[1][2])"
   ]
  },
  {
   "cell_type": "code",
   "execution_count": 4,
   "metadata": {},
   "outputs": [
    {
     "name": "stdout",
     "output_type": "stream",
     "text": [
      "[[10, 20, 30], [50, 60, 70]]\n",
      "[10, 20, 30]\n",
      "[50, 60, 70]\n",
      "10 20 20\n",
      "50 60 70\n"
     ]
    }
   ],
   "source": [
    "scores=[[10, 20, 30],[50, 60, 70]]\n",
    "\n",
    "print(scores)\n",
    "print(scores[0])\n",
    "print(scores[1])\n",
    "\n",
    "print(scores[0][0], scores[0][1], scores[0][1])\n",
    "print(scores[1][0], scores[1][1], scores[1][2])"
   ]
  },
  {
   "cell_type": "code",
   "execution_count": 5,
   "metadata": {},
   "outputs": [
    {
     "name": "stdout",
     "output_type": "stream",
     "text": [
      "[[10, 20, 30], [50, 60, 70]]\n",
      "[10, 20, 30]\n",
      "[50, 60, 70]\n",
      "10 20 30\n",
      "50 60 70\n"
     ]
    }
   ],
   "source": [
    "scores=[[10, 20, 30], [50, 60, 70]]\n",
    "\n",
    "print(scores)\n",
    "print(scores[0])\n",
    "print(scores[1])\n",
    "print(scores[0][0], scores[0][1], scores[0][2])\n",
    "print(scores[1][0], scores[1][1], scores[1][2])"
   ]
  },
  {
   "cell_type": "code",
   "execution_count": 6,
   "metadata": {},
   "outputs": [
    {
     "name": "stdout",
     "output_type": "stream",
     "text": [
      "[10, 20, 30]\n",
      "10\n",
      "20\n",
      "30\n",
      "[50, 60, 70]\n",
      "50\n",
      "60\n",
      "70\n"
     ]
    }
   ],
   "source": [
    "scores=[[10, 20, 30], [50, 60, 70]]\n",
    "\n",
    "for student_scores in scores:\n",
    "    print(student_scores)\n",
    "    for score in student_scores:\n",
    "        print(score)"
   ]
  },
  {
   "cell_type": "code",
   "execution_count": 7,
   "metadata": {},
   "outputs": [
    {
     "name": "stdout",
     "output_type": "stream",
     "text": [
      "[10, 20, 30]\n",
      "10\n",
      "20\n",
      "30\n",
      "[50, 60, 70]\n",
      "50\n",
      "60\n",
      "70\n"
     ]
    }
   ],
   "source": [
    "scores=[[10, 20, 30], [50, 60, 70]]\n",
    "\n",
    "for student_scores in scores:\n",
    "    print(student_scores)\n",
    "    for score in student_scores:\n",
    "        print(score)"
   ]
  },
  {
   "cell_type": "code",
   "execution_count": 8,
   "metadata": {},
   "outputs": [
    {
     "name": "stdout",
     "output_type": "stream",
     "text": [
      "[10, 20, 30]\n",
      "10\n",
      "20\n",
      "30\n",
      "[50, 60, 70]\n",
      "50\n",
      "60\n",
      "70\n"
     ]
    }
   ],
   "source": [
    "scores=[[10, 20, 30], [50, 60, 70]]\n",
    "\n",
    "for student_scores in scores:\n",
    "    print(student_scores)\n",
    "    for score in student_scores:\n",
    "        print(score)"
   ]
  },
  {
   "cell_type": "code",
   "execution_count": 10,
   "metadata": {},
   "outputs": [
    {
     "name": "stdout",
     "output_type": "stream",
     "text": [
      "[10, 20, 30]\n",
      "10\n",
      "20\n",
      "30\n",
      "[50, 60, 70]\n",
      "50\n",
      "60\n",
      "70\n"
     ]
    }
   ],
   "source": [
    "scores = [[10, 20, 30], [50, 60, 70]]\n",
    "\n",
    "for student_scores in scores:\n",
    "    print(student_scores)\n",
    "    for score in student_scores:\n",
    "        print(score)"
   ]
  },
  {
   "cell_type": "code",
   "execution_count": 12,
   "metadata": {},
   "outputs": [
    {
     "name": "stdout",
     "output_type": "stream",
     "text": [
      "[15.0, 25.0, 35.0, 45.0]\n"
     ]
    }
   ],
   "source": [
    "scores= [[10, 15, 20], [20, 25, 30], [30, 35, 40], [40, 45, 50]]\n",
    "n_class = len(scores[0])\n",
    "\n",
    "student_score_means = list()\n",
    "for student_score in scores:\n",
    "    student_score_sum = 0\n",
    "    for score in student_score:\n",
    "        student_score_sum+= score\n",
    "    student_score_means.append(student_score_sum/n_class)\n",
    "print(student_score_means)"
   ]
  },
  {
   "cell_type": "code",
   "execution_count": 13,
   "metadata": {},
   "outputs": [
    {
     "name": "stdout",
     "output_type": "stream",
     "text": [
      "[20.0, 40.0, 60.0, 53.333333333333336]\n"
     ]
    }
   ],
   "source": [
    "scores = [[10, 20, 30], [30, 40, 50], [50, 60, 70],[70, 80, 10]]\n",
    "n_class = len(scores[0])\n",
    "\n",
    "student_score_means = list()\n",
    "for student_score in scores:\n",
    "    student_score_sum = 0\n",
    "    for score in student_score:\n",
    "        student_score_sum+= score\n",
    "    student_score_means.append(student_score_sum/n_class)\n",
    "print(student_score_means)"
   ]
  },
  {
   "cell_type": "code",
   "execution_count": 14,
   "metadata": {},
   "outputs": [
    {
     "name": "stdout",
     "output_type": "stream",
     "text": [
      "[15.0, 25.0, 35.0, 45.0]\n"
     ]
    }
   ],
   "source": [
    "scores = [[10, 15, 20], [20, 25, 30], [30, 35, 40], [40, 45, 50]]\n",
    "n_class = len(scores[0])\n",
    "\n",
    "student_score_means = list()\n",
    "for student_score in scores:\n",
    "    student_score_sum = 0\n",
    "    for score in student_score:\n",
    "        student_score_sum+= score\n",
    "    student_score_means.append(student_score_sum/n_class)\n",
    "print(student_score_means)"
   ]
  },
  {
   "cell_type": "code",
   "execution_count": 15,
   "metadata": {},
   "outputs": [
    {
     "name": "stdout",
     "output_type": "stream",
     "text": [
      "[10.0, 25.0, 35.0, 31.666666666666668]\n"
     ]
    }
   ],
   "source": [
    "scores=[[5, 10, 15], [20, 25, 30], [30, 35, 40], [40, 35, 20]]\n",
    "n_class = len(scores[0])\n",
    "\n",
    "student_score_means = list()\n",
    "for student_score in scores:\n",
    "    student_score_sum = 0\n",
    "    for score in student_score:\n",
    "        student_score_sum+= score\n",
    "    student_score_means.append(student_score_sum/n_class)\n",
    "print(student_score_means)"
   ]
  },
  {
   "cell_type": "code",
   "execution_count": 16,
   "metadata": {},
   "outputs": [
    {
     "name": "stdout",
     "output_type": "stream",
     "text": [
      "[15.0, 25.0, 35.0, 45.0]\n"
     ]
    }
   ],
   "source": [
    "scores=[[10, 15, 20], [20, 25, 30], [30, 35, 40], [40, 45, 50]]\n",
    "n_class = len(scores[0])\n",
    "\n",
    "student_score_means = list()\n",
    "for student_score in scores:\n",
    "    student_score_sum = 0\n",
    "    for score in student_score:\n",
    "        student_score_sum+=score\n",
    "    student_score_means.append(student_score_sum/n_class)\n",
    "print(student_score_means)"
   ]
  },
  {
   "cell_type": "code",
   "execution_count": 20,
   "metadata": {},
   "outputs": [
    {
     "name": "stdout",
     "output_type": "stream",
     "text": [
      "sum of classes scores:  [100, 120, 140]\n",
      "mean of classes scores:  [25.0, 30.0, 35.0]\n"
     ]
    }
   ],
   "source": [
    "scores= [[10, 15, 20], [20, 25, 30], [30, 35, 40], [40, 45, 50]]\n",
    "n_class = len(scores[0])\n",
    "n_student= len(scores)\n",
    "\n",
    "class_score_sum = list()\n",
    "class_score_means = list()\n",
    "\n",
    "# initialize class_score_sum \n",
    "for _ in range(n_class):\n",
    "    class_score_sum.append(0)\n",
    "\n",
    "# each class_score_sum\n",
    "for student_scores in scores:\n",
    "    for class_idx in range(n_class):\n",
    "        class_score_sum[class_idx] += student_scores[class_idx]\n",
    "\n",
    "print('sum of classes scores: ', class_score_sum)\n",
    "\n",
    "# each class_score_means\n",
    "for class_idx in range(n_class):\n",
    "    class_score_means.append(class_score_sum[class_idx]/n_student)  \n",
    "print('mean of classes scores: ', class_score_means)"
   ]
  },
  {
   "cell_type": "code",
   "execution_count": 25,
   "metadata": {},
   "outputs": [
    {
     "name": "stdout",
     "output_type": "stream",
     "text": [
      "[100, 120, 140]\n",
      "[25.0, 30.0, 35.0]\n"
     ]
    }
   ],
   "source": [
    "scores= [[10, 15, 20], [20, 25, 30], [30, 35, 40], [40, 45, 50]]\n",
    "n_class = len(scores[0])\n",
    "n_student = len(scores)\n",
    "\n",
    "class_score_sum = list()\n",
    "class_score_means = list()\n",
    "for _ in range(n_class):\n",
    "    class_score_sum.append(0)\n",
    "\n",
    "for student_score in scores:\n",
    "    for class_idx in range(n_class):\n",
    "        class_score_sum[class_idx]+= student_score[class_idx]\n",
    "\n",
    "print(class_score_sum)\n",
    "\n",
    "for class_idx in range(n_class):\n",
    "    class_score_means.append(class_score_sum[class_idx]/n_student)\n",
    "\n",
    "print(class_score_means)    "
   ]
  },
  {
   "cell_type": "code",
   "execution_count": 30,
   "metadata": {},
   "outputs": [
    {
     "name": "stdout",
     "output_type": "stream",
     "text": [
      "[0, 0, 0]\n",
      "[100, 120, 140]\n",
      "[25.0, 30.0, 35.0]\n"
     ]
    }
   ],
   "source": [
    "scores = [[10, 15, 20], [20, 25, 30], [30, 35, 40], [40, 45, 50]]\n",
    "n_class = len(scores[0])\n",
    "n_student = len(scores)\n",
    "\n",
    "class_score_sum = list()\n",
    "class_score_means = list()\n",
    "\n",
    "for _ in range(n_class):\n",
    "    class_score_sum.append(0)\n",
    "\n",
    "print(class_score_sum)\n",
    "\n",
    "for student_score in scores:\n",
    "    for class_idx in range(n_class):\n",
    "        class_score_sum[class_idx] += student_score[class_idx]\n",
    "\n",
    "print(class_score_sum)\n",
    "\n",
    "for class_idx in range(n_class):\n",
    "    class_score_means.append(class_score_sum[class_idx]/n_student)\n",
    "print(class_score_means)"
   ]
  },
  {
   "cell_type": "code",
   "execution_count": 37,
   "metadata": {},
   "outputs": [
    {
     "name": "stdout",
     "output_type": "stream",
     "text": [
      "[0, 0, 0]\n",
      "[100, 120, 140]\n",
      "[25.0, 30.0, 35.0]\n"
     ]
    }
   ],
   "source": [
    "scores =[[10, 15, 20], [20, 25, 30], [30, 35, 40], [40, 45, 50]]\n",
    "n_class = len(scores[0])\n",
    "n_student= len(scores)\n",
    "\n",
    "class_score_sum = list()\n",
    "class_score_means = list()\n",
    "\n",
    "for _ in range(n_class):\n",
    "    class_score_sum.append(0)\n",
    "print(class_score_sum)\n",
    "\n",
    "for student_score in scores:\n",
    "    for class_idx in range(n_class):\n",
    "        class_score_sum[class_idx] += student_score[class_idx]\n",
    "print(class_score_sum)\n",
    "\n",
    "for class_idx in range(n_class):\n",
    "    class_score_means.append(class_score_sum[class_idx]/n_student)\n",
    "print(class_score_means)"
   ]
  },
  {
   "cell_type": "code",
   "execution_count": 39,
   "metadata": {},
   "outputs": [
    {
     "name": "stdout",
     "output_type": "stream",
     "text": [
      "[0, 0, 0]\n",
      "[100, 120, 140]\n",
      "[25.0, 30.0, 35.0]\n"
     ]
    }
   ],
   "source": [
    "# scores 2D array and etc\n",
    "scores = [[10, 15, 20], [20, 25, 30], [30, 35, 40], [40, 45, 50]]\n",
    "n_class = len(scores[0])\n",
    "n_student = len(scores)\n",
    "\n",
    "class_score_sum = list()\n",
    "class_score_means = list()\n",
    "# initialize sum\n",
    "for _ in range(n_class):\n",
    "    class_score_sum.append(0)\n",
    "print(class_score_sum)\n",
    "\n",
    "# each subject sumation scores\n",
    "for student_score in scores:\n",
    "    for class_idx in range(n_class):\n",
    "        class_score_sum[class_idx]+= student_score[class_idx]\n",
    "print(class_score_sum)        \n",
    "\n",
    "# each subject means\n",
    "for class_idx in range(n_class):\n",
    "    class_score_means.append(class_score_sum[class_idx]/n_student)\n",
    "print(class_score_means)"
   ]
  },
  {
   "cell_type": "code",
   "execution_count": 40,
   "metadata": {},
   "outputs": [
    {
     "name": "stdout",
     "output_type": "stream",
     "text": [
      "[0, 0, 0]\n",
      "[100, 120, 140]\n",
      "[25.0, 30.0, 35.0]\n"
     ]
    }
   ],
   "source": [
    "scores = [[10, 15, 20], [20, 25, 30], [30, 35, 40], [40, 45, 50]]\n",
    "n_class = len(scores[0])\n",
    "n_student = len(scores)\n",
    "\n",
    "class_score_sum = list()\n",
    "class_score_means = list()\n",
    "\n",
    "for _ in range(n_class):\n",
    "    class_score_sum.append(0)\n",
    "print(class_score_sum)\n",
    "\n",
    "for student_score in scores:\n",
    "    for class_idx in range(n_class):\n",
    "        class_score_sum[class_idx]+= student_score[class_idx]\n",
    "print(class_score_sum)\n",
    "\n",
    "for class_idx in range(n_class):\n",
    "    class_score_means.append(class_score_sum[class_idx]/n_student)\n",
    "print(class_score_means)"
   ]
  }
 ],
 "metadata": {
  "kernelspec": {
   "display_name": "Python 3.12.2 64-bit",
   "language": "python",
   "name": "python3"
  },
  "language_info": {
   "codemirror_mode": {
    "name": "ipython",
    "version": 3
   },
   "file_extension": ".py",
   "mimetype": "text/x-python",
   "name": "python",
   "nbconvert_exporter": "python",
   "pygments_lexer": "ipython3",
   "version": "3.12.2"
  },
  "orig_nbformat": 4,
  "vscode": {
   "interpreter": {
    "hash": "e055262477437ea8249124d94883794fa22737a9cfe4fd89c699b51a0131ad6c"
   }
  }
 },
 "nbformat": 4,
 "nbformat_minor": 2
}
