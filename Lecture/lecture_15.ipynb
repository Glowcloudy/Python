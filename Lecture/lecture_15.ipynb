{
 "cells": [
  {
   "cell_type": "code",
   "execution_count": 4,
   "metadata": {},
   "outputs": [
    {
     "name": "stdout",
     "output_type": "stream",
     "text": [
      "accurracy[%]:  57.14285714285714 %\n"
     ]
    }
   ],
   "source": [
    "# find Accuracy\n",
    "# method.1\n",
    "predictions = [0, 1, 0, 2, 1, 2, 0]\n",
    "labels = [1, 1, 0, 0, 1, 2, 1]\n",
    "\n",
    "n_data = len(predictions)\n",
    "n_correct = 0\n",
    "\n",
    "for pred_idx in range((n_data)):\n",
    "    pred = predictions[pred_idx]\n",
    "    label = labels[pred_idx]\n",
    "    \n",
    "    if pred == label:\n",
    "        n_correct+=1\n",
    "accuracy = n_correct/n_data\n",
    "print('accurracy[%]: ',accuracy*100,'%')"
   ]
  },
  {
   "cell_type": "code",
   "execution_count": 5,
   "metadata": {},
   "outputs": [
    {
     "name": "stdout",
     "output_type": "stream",
     "text": [
      "accurracy[%]:  57.14285714285714 %\n"
     ]
    }
   ],
   "source": [
    "#method.2\n",
    "predictions = [0, 1, 0, 2, 1, 2,0]\n",
    "labels = [1, 1, 0, 0, 1, 2, 1]\n",
    "\n",
    "n_data = len(predictions)\n",
    "n_correct = 0\n",
    "\n",
    "for pred_idx in range((n_data)):\n",
    "    if predictions[pred_idx] == labels[pred_idx]:\n",
    "        n_correct+=1\n",
    "\n",
    "accuracy = n_correct/n_data\n",
    "print('accurracy[%]: ',accuracy*100,'%')"
   ]
  },
  {
   "cell_type": "code",
   "execution_count": 6,
   "metadata": {},
   "outputs": [
    {
     "name": "stdout",
     "output_type": "stream",
     "text": [
      "Accuracy[%]:  57.14285714285714 %\n"
     ]
    }
   ],
   "source": [
    "predictions = [0, 1, 0, 2, 1, 2, 0]\n",
    "labels = [1, 1, 0, 0, 1, 2, 1]\n",
    "\n",
    "n_data = len(predictions)\n",
    "n_correct = 0\n",
    "\n",
    "for pred_idx in range((n_data)):\n",
    "    if predictions[pred_idx] == labels[pred_idx]:\n",
    "        n_correct+=1\n",
    "accuracy = n_correct/n_data\n",
    "print('Accuracy[%]: ', accuracy*100, '%')"
   ]
  },
  {
   "cell_type": "code",
   "execution_count": 7,
   "metadata": {},
   "outputs": [
    {
     "name": "stdout",
     "output_type": "stream",
     "text": [
      "Accuracy[%]:  57.14285714285714 %\n"
     ]
    }
   ],
   "source": [
    "prediction=[0, 1, 0, 2, 1, 2, 0]\n",
    "labels=[1, 1, 0, 0, 1, 2, 1]\n",
    "\n",
    "n_data= len(predictions)\n",
    "n_correct = 0\n",
    "\n",
    "for pred_idx in range(n_data):\n",
    "    if prediction[pred_idx] == labels[pred_idx]:\n",
    "        n_correct+=1\n",
    "accuracy = n_correct/n_data\n",
    "print('Accuracy[%]: ', accuracy*100, '%')"
   ]
  },
  {
   "cell_type": "code",
   "execution_count": 8,
   "metadata": {},
   "outputs": [
    {
     "name": "stdout",
     "output_type": "stream",
     "text": [
      "accuracy[%]:  0.5714285714285714 %\n"
     ]
    }
   ],
   "source": [
    "prediction=[0, 1, 0, 2, 1, 2, 0]\n",
    "labels=[1, 1, 0, 0, 1, 2, 1]\n",
    "\n",
    "n_data=len(predictions)\n",
    "n_correct=0\n",
    "\n",
    "for pred_idx in range(n_data):\n",
    "    if predictions[pred_idx] == labels[pred_idx]:\n",
    "        n_correct+=1\n",
    "accuracy = n_correct/n_data\n",
    "print('accuracy[%]: ', accuracy, '%')"
   ]
  },
  {
   "cell_type": "code",
   "execution_count": 8,
   "metadata": {},
   "outputs": [
    {
     "name": "stdout",
     "output_type": "stream",
     "text": [
      "[0.5, 0.5, 1.0]\n"
     ]
    }
   ],
   "source": [
    "# Confusion Vector 1 Dimension(each other class correct with the same)\n",
    "predictions = [0, 1, 0, 2, 1, 2, 0]\n",
    "labels = [1, 1, 0, 0, 1, 2, 1]\n",
    "\n",
    "# set parameters\n",
    "M_class = None\n",
    "for label in labels:\n",
    "    if M_class == None or label > M_class:\n",
    "        M_class=label\n",
    "# recognize for computer to classifications number of labels\n",
    "M_class+=1\n",
    "\n",
    "# initialize parameters\n",
    "class_cnts, correct_cnt, confusion_vec = list(), list(), list()\n",
    "for _ in range(M_class):\n",
    "    class_cnts.append(0)\n",
    "    correct_cnt.append(0)\n",
    "    confusion_vec.append(None)\n",
    "\n",
    "# prediction and labels fill out list()\n",
    "for pred_idx in range(len(predictions)):\n",
    "    pred = predictions[pred_idx]\n",
    "    label = labels[pred_idx]\n",
    "    \n",
    "    class_cnts[label] += 1\n",
    "    if pred == label:\n",
    "        correct_cnt[label] += 1\n",
    "\n",
    "# confusion vector fill out list()\n",
    "for class_idx in range(M_class):\n",
    "    confusion_vec[class_idx] = correct_cnt[class_idx]/class_cnts[class_idx]\n",
    "\n",
    "# print result\n",
    "print(confusion_vec)"
   ]
  },
  {
   "cell_type": "code",
   "execution_count": null,
   "metadata": {},
   "outputs": [],
   "source": [
    "predictions= [0, 1, 0, 2, 1, 2, 0]\n",
    "labels= [1, 1, 0, 0, 1, 2, 1]\n",
    "\n",
    "M_class = None\n",
    "for label in labels:\n",
    "    if M_class == None or label > M_class:\n",
    "        M_class= label\n",
    "M_class+=1\n",
    "\n",
    "class_cnts, correct_cnt, confusion_vec = list(), list(), list()\n",
    "for _ in range(M_class):\n",
    "    "
   ]
  },
  {
   "cell_type": "code",
   "execution_count": null,
   "metadata": {},
   "outputs": [],
   "source": []
  }
 ],
 "metadata": {
  "kernelspec": {
   "display_name": "Python 3.12.2 64-bit",
   "language": "python",
   "name": "python3"
  },
  "language_info": {
   "codemirror_mode": {
    "name": "ipython",
    "version": 3
   },
   "file_extension": ".py",
   "mimetype": "text/x-python",
   "name": "python",
   "nbconvert_exporter": "python",
   "pygments_lexer": "ipython3",
   "version": "3.12.2"
  },
  "orig_nbformat": 4,
  "vscode": {
   "interpreter": {
    "hash": "e055262477437ea8249124d94883794fa22737a9cfe4fd89c699b51a0131ad6c"
   }
  }
 },
 "nbformat": 4,
 "nbformat_minor": 2
}
