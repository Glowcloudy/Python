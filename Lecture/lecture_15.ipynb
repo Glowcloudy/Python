{
 "cells": [
  {
   "cell_type": "code",
   "execution_count": 4,
   "metadata": {},
   "outputs": [
    {
     "name": "stdout",
     "output_type": "stream",
     "text": [
      "accurracy[%]:  57.14285714285714 %\n"
     ]
    }
   ],
   "source": [
    "# find Accuracy\n",
    "# method.1\n",
    "predictions = [0, 1, 0, 2, 1, 2, 0]\n",
    "labels = [1, 1, 0, 0, 1, 2, 1]\n",
    "\n",
    "n_data = len(predictions)\n",
    "n_correct = 0\n",
    "\n",
    "for pred_idx in range((n_data)):\n",
    "    pred = predictions[pred_idx]\n",
    "    label = labels[pred_idx]\n",
    "    \n",
    "    if pred == label:\n",
    "        n_correct+=1\n",
    "accuracy = n_correct/n_data\n",
    "print('accurracy[%]: ',accuracy*100,'%')"
   ]
  },
  {
   "cell_type": "code",
   "execution_count": 5,
   "metadata": {},
   "outputs": [
    {
     "name": "stdout",
     "output_type": "stream",
     "text": [
      "accurracy[%]:  57.14285714285714 %\n"
     ]
    }
   ],
   "source": [
    "#method.2\n",
    "predictions = [0, 1, 0, 2, 1, 2,0]\n",
    "labels = [1, 1, 0, 0, 1, 2, 1]\n",
    "\n",
    "n_data = len(predictions)\n",
    "n_correct = 0\n",
    "\n",
    "for pred_idx in range((n_data)):\n",
    "    if predictions[pred_idx] == labels[pred_idx]:\n",
    "        n_correct+=1\n",
    "\n",
    "accuracy = n_correct/n_data\n",
    "print('accurracy[%]: ',accuracy*100,'%')"
   ]
  },
  {
   "cell_type": "code",
   "execution_count": 6,
   "metadata": {},
   "outputs": [
    {
     "name": "stdout",
     "output_type": "stream",
     "text": [
      "Accuracy[%]:  57.14285714285714 %\n"
     ]
    }
   ],
   "source": [
    "predictions = [0, 1, 0, 2, 1, 2, 0]\n",
    "labels = [1, 1, 0, 0, 1, 2, 1]\n",
    "\n",
    "n_data = len(predictions)\n",
    "n_correct = 0\n",
    "\n",
    "for pred_idx in range((n_data)):\n",
    "    if predictions[pred_idx] == labels[pred_idx]:\n",
    "        n_correct+=1\n",
    "accuracy = n_correct/n_data\n",
    "print('Accuracy[%]: ', accuracy*100, '%')"
   ]
  },
  {
   "cell_type": "code",
   "execution_count": 7,
   "metadata": {},
   "outputs": [
    {
     "name": "stdout",
     "output_type": "stream",
     "text": [
      "Accuracy[%]:  57.14285714285714 %\n"
     ]
    }
   ],
   "source": [
    "prediction=[0, 1, 0, 2, 1, 2, 0]\n",
    "labels=[1, 1, 0, 0, 1, 2, 1]\n",
    "\n",
    "n_data= len(predictions)\n",
    "n_correct = 0\n",
    "\n",
    "for pred_idx in range(n_data):\n",
    "    if prediction[pred_idx] == labels[pred_idx]:\n",
    "        n_correct+=1\n",
    "accuracy = n_correct/n_data\n",
    "print('Accuracy[%]: ', accuracy*100, '%')"
   ]
  },
  {
   "cell_type": "code",
   "execution_count": 8,
   "metadata": {},
   "outputs": [
    {
     "name": "stdout",
     "output_type": "stream",
     "text": [
      "accuracy[%]:  0.5714285714285714 %\n"
     ]
    }
   ],
   "source": [
    "prediction=[0, 1, 0, 2, 1, 2, 0]\n",
    "labels=[1, 1, 0, 0, 1, 2, 1]\n",
    "\n",
    "n_data=len(predictions)\n",
    "n_correct=0\n",
    "\n",
    "for pred_idx in range(n_data):\n",
    "    if predictions[pred_idx] == labels[pred_idx]:\n",
    "        n_correct+=1\n",
    "accuracy = n_correct/n_data\n",
    "print('accuracy[%]: ', accuracy, '%')"
   ]
  },
  {
   "cell_type": "code",
   "execution_count": 8,
   "metadata": {},
   "outputs": [
    {
     "name": "stdout",
     "output_type": "stream",
     "text": [
      "[0.5, 0.5, 1.0]\n"
     ]
    }
   ],
   "source": [
    "# Confusion Vector 1 Dimension(each other class correct with the same)\n",
    "predictions = [0, 1, 0, 2, 1, 2, 0]\n",
    "labels = [1, 1, 0, 0, 1, 2, 1]\n",
    "\n",
    "# set parameters\n",
    "M_class = None\n",
    "for label in labels:\n",
    "    if M_class == None or label > M_class:\n",
    "        M_class=label\n",
    "# recognize for computer to classifications number of labels\n",
    "M_class+=1\n",
    "\n",
    "# initialize parameters\n",
    "class_cnts, correct_cnt, confusion_vec = list(), list(), list()\n",
    "for _ in range(M_class):\n",
    "    class_cnts.append(0)\n",
    "    correct_cnt.append(0)\n",
    "    confusion_vec.append(None)\n",
    "\n",
    "# each other of probability for prediction and label fill out list()\n",
    "for pred_idx in range(len(predictions)):\n",
    "    pred = predictions[pred_idx]\n",
    "    label = labels[pred_idx]\n",
    "    \n",
    "    class_cnts[label] += 1\n",
    "    if pred == label:\n",
    "        correct_cnt[label] += 1\n",
    "\n",
    "# confusion vector fill out list()\n",
    "for class_idx in range(M_class):\n",
    "    confusion_vec[class_idx] = correct_cnt[class_idx]/class_cnts[class_idx]\n",
    "\n",
    "# print result\n",
    "print(confusion_vec)"
   ]
  },
  {
   "cell_type": "code",
   "execution_count": 1,
   "metadata": {},
   "outputs": [
    {
     "name": "stdout",
     "output_type": "stream",
     "text": [
      "[0.5, 0.5, 1.0]\n"
     ]
    }
   ],
   "source": [
    "predictions= [0, 1, 0, 2, 1, 2, 0]\n",
    "labels= [1, 1, 0, 0, 1, 2, 1]\n",
    "\n",
    "M_class = None\n",
    "for label in labels:\n",
    "    if M_class == None or label > M_class:\n",
    "        M_class= label\n",
    "M_class+=1\n",
    "\n",
    "class_cnts, correct_cnt, confusion_vec = list(), list(), list()\n",
    "for _ in range(M_class):\n",
    "    class_cnts.append(0)\n",
    "    correct_cnt.append(0)\n",
    "    confusion_vec.append(0)\n",
    "\n",
    "for pred_idx in range(len(predictions)):\n",
    "    pred = predictions[pred_idx]\n",
    "    label = labels[pred_idx]\n",
    "    \n",
    "    class_cnts[label] +=1\n",
    "    if pred == label:\n",
    "        correct_cnt[label] +=1\n",
    "\n",
    "for class_idx in range(M_class):\n",
    "    confusion_vec[class_idx] = correct_cnt[class_idx]/class_cnts[class_idx]\n",
    "\n",
    "print(confusion_vec)"
   ]
  },
  {
   "cell_type": "code",
   "execution_count": 7,
   "metadata": {},
   "outputs": [
    {
     "name": "stdout",
     "output_type": "stream",
     "text": [
      "[0.5, 0.5, 1.0]\n"
     ]
    }
   ],
   "source": [
    "predictions= [0, 1, 0, 2, 1, 2, 0]\n",
    "labels= [1, 1, 0, 0, 1, 2, 1]\n",
    "\n",
    "M_class = None\n",
    "for label in labels:\n",
    "    if M_class== None or label > M_class:\n",
    "        M_class = label\n",
    "M_class+=1\n",
    "\n",
    "class_cnts, correct_cnt, confusion_vec = list(), list(), list()\n",
    "for _ in range(M_class):\n",
    "    class_cnts.append(0)\n",
    "    correct_cnt.append(0)\n",
    "    confusion_vec.append(0)\n",
    "    \n",
    "for pred_idx in range(len(predictions)):\n",
    "    pred = predictions[pred_idx]\n",
    "    label = labels[pred_idx]\n",
    "    \n",
    "    class_cnts[label]+=1\n",
    "    \n",
    "    if pred == label:\n",
    "        correct_cnt[label]+=1\n",
    "\n",
    "for class_idx in range(M_class):\n",
    "    confusion_vec[class_idx] = correct_cnt[class_idx]/class_cnts[class_idx]\n",
    "\n",
    "print(confusion_vec)"
   ]
  },
  {
   "cell_type": "code",
   "execution_count": 12,
   "metadata": {},
   "outputs": [
    {
     "name": "stdout",
     "output_type": "stream",
     "text": [
      "[0.5, 0.5, 1.0]\n"
     ]
    }
   ],
   "source": [
    "predictions= [0, 1, 0, 2, 1, 2, 0]\n",
    "labels= [1, 1, 0, 0, 1, 2, 1]\n",
    "\n",
    "M_class = None\n",
    "\n",
    "for label in labels:\n",
    "    if M_class== None or label > M_class:\n",
    "        M_class = label\n",
    "M_class+=1\n",
    "\n",
    "class_cnts, correct_cnts, confusion_vec = list(), list(), list()\n",
    "for _ in range(M_class):\n",
    "    class_cnts.append(0)\n",
    "    correct_cnts.append(0)\n",
    "    confusion_vec.append(0)\n",
    "\n",
    "for pred_idx in range(len(predictions)):\n",
    "    pred = predictions[pred_idx]\n",
    "    label= labels[pred_idx]\n",
    "    \n",
    "    class_cnts[label]+=1\n",
    "    if pred == label:\n",
    "        correct_cnts[label]+=1\n",
    "\n",
    "for class_idx in range(M_class):\n",
    "    confusion_vec[class_idx] = correct_cnts[class_idx]/class_cnts[class_idx]\n",
    "print(confusion_vec)"
   ]
  },
  {
   "cell_type": "code",
   "execution_count": 14,
   "metadata": {},
   "outputs": [
    {
     "name": "stdout",
     "output_type": "stream",
     "text": [
      "[0.5, 0.75, 1.0]\n"
     ]
    }
   ],
   "source": [
    "predictions= [1, 1, 0, 2, 1, 2, 0]\n",
    "labels= [1, 1, 0, 0, 1, 2, 1]\n",
    "\n",
    "M_class= None\n",
    "for label in labels:\n",
    "    if M_class== None or label > M_class:\n",
    "        M_class = label\n",
    "M_class+=1\n",
    "\n",
    "class_cnts, correct_cnts, confusion_vec= list(), list(), list()\n",
    "for _ in range(M_class):\n",
    "    class_cnts.append(0)\n",
    "    correct_cnts.append(0)\n",
    "    confusion_vec.append(0)\n",
    "    \n",
    "for pred_idx in range(len(predictions)):\n",
    "    pred = predictions[pred_idx]\n",
    "    label= labels[pred_idx]\n",
    "    \n",
    "    class_cnts[label]+=1\n",
    "    if pred == label:\n",
    "        correct_cnts[label]+=1\n",
    "\n",
    "for class_idx in range(M_class):\n",
    "    confusion_vec[class_idx]= correct_cnts[class_idx]/class_cnts[class_idx]\n",
    "print(confusion_vec)"
   ]
  },
  {
   "cell_type": "code",
   "execution_count": 16,
   "metadata": {},
   "outputs": [
    {
     "name": "stdout",
     "output_type": "stream",
     "text": [
      "[0.5, 0.5, 1.0]\n"
     ]
    }
   ],
   "source": [
    "predictions= [0, 1, 0, 2, 1, 2, 0]\n",
    "labels= [1, 1, 0, 0, 1, 2, 1]\n",
    "\n",
    "M_class= None\n",
    "for label in labels:\n",
    "    if M_class==None or label > M_class:\n",
    "        M_class=label\n",
    "M_class+=1\n",
    "\n",
    "class_cnts, correct_cnts, confusion_vec= list(), list(), list()\n",
    "for _ in range(M_class):\n",
    "    class_cnts.append(0)\n",
    "    correct_cnts.append(0)\n",
    "    confusion_vec.append(0)\n",
    "\n",
    "for pred_idx in range(len(predictions)):\n",
    "    pred = predictions[pred_idx]\n",
    "    label = labels[pred_idx]\n",
    "    \n",
    "    class_cnts[label]+=1\n",
    "    if pred == label:\n",
    "        correct_cnts[label]+=1\n",
    "\n",
    "for class_idx in range(M_class):\n",
    "    confusion_vec[class_idx] = correct_cnts[class_idx]/class_cnts[class_idx]\n",
    "print(confusion_vec)    "
   ]
  },
  {
   "cell_type": "code",
   "execution_count": 18,
   "metadata": {},
   "outputs": [
    {
     "name": "stdout",
     "output_type": "stream",
     "text": [
      "[3, 3, 2, 2, 1]\n"
     ]
    }
   ],
   "source": [
    "# Histogram (how much counts for section score)\n",
    "scores = [50, 20, 30, 40, 10, 50, 70, 80, 90, 20, 30]\n",
    "cutoffs=[0, 20, 40, 60, 80]\n",
    "histogram = [0, 0, 0, 0, 0]\n",
    "\n",
    "for score in scores:\n",
    "    if score > cutoffs[4]:\n",
    "        histogram[4]+=1\n",
    "    elif score > cutoffs[3]:\n",
    "        histogram[3]+=1\n",
    "    elif score > cutoffs[2]:\n",
    "        histogram[2]+=1\n",
    "    elif score > cutoffs[1]:\n",
    "        histogram[1]+=1\n",
    "    elif score > cutoffs[0]:\n",
    "        histogram[0] += 1\n",
    "    else:\n",
    "        pass\n",
    "print(histogram)"
   ]
  },
  {
   "cell_type": "code",
   "execution_count": 19,
   "metadata": {},
   "outputs": [
    {
     "name": "stdout",
     "output_type": "stream",
     "text": [
      "[3, 3, 2, 2, 1]\n"
     ]
    }
   ],
   "source": [
    "scores = [50, 20, 30, 40, 10, 50, 70, 80, 90, 20, 30]\n",
    "cutoffs=[0, 20, 40, 60, 80]\n",
    "histogram = [0, 0, 0, 0, 0]\n",
    "\n",
    "for score in scores:\n",
    "    if score > cutoffs[4]:\n",
    "        histogram[4]+=1\n",
    "    elif score > cutoffs[3]:\n",
    "        histogram[3]+=1\n",
    "    elif score > cutoffs[2]:\n",
    "        histogram[2]+=1\n",
    "    elif score > cutoffs[1]:\n",
    "        histogram[1]+=1\n",
    "    elif score > cutoffs[0]:\n",
    "        histogram[0] += 1\n",
    "    else:\n",
    "        pass\n",
    "print(histogram)"
   ]
  },
  {
   "cell_type": "code",
   "execution_count": 20,
   "metadata": {},
   "outputs": [
    {
     "name": "stdout",
     "output_type": "stream",
     "text": [
      "[6, 4, 4, 3, 2]\n"
     ]
    }
   ],
   "source": [
    "scores= [20, 40, 50, 10, 90, 20, 70, 60]\n",
    "cutoffs=[0, 20, 40, 60, 80]\n",
    "histograms=[0, 0, 0, 0, 0]\n",
    "\n",
    "for score in scores:\n",
    "    if score > cutoffs[4]:\n",
    "        histogram[4]+=1\n",
    "    elif score > cutoffs[3]:\n",
    "        histogram[3]+=1\n",
    "    elif score > cutoffs[2]:\n",
    "        histogram[2]+=1\n",
    "    elif score > cutoffs[1]:\n",
    "        histogram[1]+=1\n",
    "    elif score > cutoffs[0]:\n",
    "        histogram[0]+=1\n",
    "    else:\n",
    "        pass\n",
    "print(histogram)"
   ]
  },
  {
   "cell_type": "code",
   "execution_count": 22,
   "metadata": {},
   "outputs": [
    {
     "name": "stdout",
     "output_type": "stream",
     "text": [
      "[-2, -5, 2, 5, -1, 3, 9, -4]\n",
      "[2, 5, 2, 5, 1, 3, 9, 4]\n"
     ]
    }
   ],
   "source": [
    "numbers= [-2, -5, 2, 5, -1, 3, 9, -4]\n",
    "abs_num = list()\n",
    "\n",
    "for num in numbers:\n",
    "    if num < 0:\n",
    "        abs_num.append(-num)\n",
    "    else:\n",
    "        abs_num.append(num)\n",
    "print(numbers)\n",
    "print(abs_num)    "
   ]
  },
  {
   "cell_type": "code",
   "execution_count": 23,
   "metadata": {},
   "outputs": [
    {
     "name": "stdout",
     "output_type": "stream",
     "text": [
      "[-2, 2, -1, 3, -4, 9]\n",
      "[2, 2, 1, 3, 4, 9]\n"
     ]
    }
   ],
   "source": [
    "# get absolute number\n",
    "numbers =[-2, 2, -1, 3, -4, 9]\n",
    "abs_num = list()\n",
    "\n",
    "for num in numbers:\n",
    "    if num < 0:\n",
    "        abs_num.append(-num)\n",
    "    else:\n",
    "        abs_num.append(num)\n",
    "print(numbers)\n",
    "print(abs_num)"
   ]
  },
  {
   "cell_type": "code",
   "execution_count": 26,
   "metadata": {},
   "outputs": [
    {
     "name": "stdout",
     "output_type": "stream",
     "text": [
      "Mahatten Distance:  14\n"
     ]
    }
   ],
   "source": [
    "# Mahatten Distance\n",
    "v1 = [1, 3, 5, 2, 1, 5, 2]\n",
    "v2 = [2, 3, 1, 5, 2, 1, 3]\n",
    "\n",
    "m_distance =0\n",
    "for m_idx in range(len(v1)):\n",
    "    sub = v1[m_idx] - v2[m_idx]\n",
    "    if sub <0:\n",
    "        m_distance += -sub\n",
    "    else:\n",
    "        m_distance += sub\n",
    "print('Mahatten Distance: ', m_distance)"
   ]
  },
  {
   "cell_type": "code",
   "execution_count": 27,
   "metadata": {},
   "outputs": [
    {
     "name": "stdout",
     "output_type": "stream",
     "text": [
      "14\n"
     ]
    }
   ],
   "source": [
    "v1 = [1, 3, 5, 2, 1, 5, 2]\n",
    "v2 = [2, 3, 1, 5, 2, 1, 3]\n",
    "\n",
    "m_distance =0\n",
    "for m_idx in range(len(v1)):\n",
    "    sub = v1[m_idx] - v2[m_idx]\n",
    "    if sub <0:\n",
    "        m_distance += -sub\n",
    "    else:\n",
    "        m_distance += sub\n",
    "print(m_distance)"
   ]
  },
  {
   "cell_type": "code",
   "execution_count": 28,
   "metadata": {},
   "outputs": [
    {
     "name": "stdout",
     "output_type": "stream",
     "text": [
      "Mahatten Distance: 14\n"
     ]
    }
   ],
   "source": [
    "v1 = [1, 3, 5, 2, 1, 5, 2]\n",
    "v2 = [2, 3, 1, 5, 2, 1, 3]\n",
    "\n",
    "m_distance=0\n",
    "for m_idx in range(len(v1)):\n",
    "    sub = v1[m_idx] - v2[m_idx]\n",
    "    if sub < 0:\n",
    "        m_distance += -sub\n",
    "    else:\n",
    "        m_distance += sub\n",
    "print('Mahatten Distance:', m_distance)"
   ]
  },
  {
   "cell_type": "code",
   "execution_count": null,
   "metadata": {},
   "outputs": [],
   "source": []
  },
  {
   "cell_type": "code",
   "execution_count": null,
   "metadata": {},
   "outputs": [],
   "source": []
  },
  {
   "cell_type": "code",
   "execution_count": null,
   "metadata": {},
   "outputs": [],
   "source": []
  },
  {
   "cell_type": "code",
   "execution_count": null,
   "metadata": {},
   "outputs": [],
   "source": []
  },
  {
   "cell_type": "code",
   "execution_count": null,
   "metadata": {},
   "outputs": [],
   "source": []
  }
 ],
 "metadata": {
  "kernelspec": {
   "display_name": "Python 3.12.2 64-bit",
   "language": "python",
   "name": "python3"
  },
  "language_info": {
   "codemirror_mode": {
    "name": "ipython",
    "version": 3
   },
   "file_extension": ".py",
   "mimetype": "text/x-python",
   "name": "python",
   "nbconvert_exporter": "python",
   "pygments_lexer": "ipython3",
   "version": "3.12.2"
  },
  "orig_nbformat": 4,
  "vscode": {
   "interpreter": {
    "hash": "e055262477437ea8249124d94883794fa22737a9cfe4fd89c699b51a0131ad6c"
   }
  }
 },
 "nbformat": 4,
 "nbformat_minor": 2
}
