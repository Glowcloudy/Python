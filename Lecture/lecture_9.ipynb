{
 "cells": [
  {
   "cell_type": "code",
   "execution_count": 3,
   "metadata": {},
   "outputs": [
    {
     "name": "stdout",
     "output_type": "stream",
     "text": [
      "223.4375\n",
      "14.947825928876748\n"
     ]
    }
   ],
   "source": [
    "scores = [10, 20, 30, 20, 50, 10, 50, 20]\n",
    "n_student= len(scores)\n",
    "score_sum, score_square_sum= 0,0\n",
    "\n",
    "for score in scores:\n",
    "    score_sum+= score\n",
    "    score_square_sum += score**2\n",
    "    \n",
    "mean = score_sum/n_student\n",
    "square_of_mean = mean**2\n",
    "mean_of_square = score_square_sum/ n_student\n",
    "\n",
    "variance = mean_of_square - square_of_mean\n",
    "std = variance**0.5\n",
    "\n",
    "print(variance)\n",
    "print(std)"
   ]
  },
  {
   "cell_type": "code",
   "execution_count": 4,
   "metadata": {},
   "outputs": [
    {
     "name": "stdout",
     "output_type": "stream",
     "text": [
      "66.66666666666669\n",
      "8.16496580927726\n"
     ]
    }
   ],
   "source": [
    "scores= [10, 20, 30]\n",
    "n_student= len(scores)\n",
    "score_sum, score_square_sum= 0,0\n",
    "\n",
    "for score in scores:\n",
    "    score_sum+= score\n",
    "    score_square_sum+= score**2\n",
    "    \n",
    "mean = score_sum/n_student\n",
    "square_of_mean = mean**2\n",
    "mean_of_square = score_square_sum/ n_student\n",
    "\n",
    "variance = mean_of_square - square_of_mean\n",
    "std = variance**0.5\n",
    "\n",
    "print(variance)\n",
    "print(std)"
   ]
  },
  {
   "cell_type": "code",
   "execution_count": 5,
   "metadata": {},
   "outputs": [
    {
     "name": "stdout",
     "output_type": "stream",
     "text": [
      "200.0\n",
      "14.142135623730951\n"
     ]
    }
   ],
   "source": [
    "scores= [10, 20, 30, 40, 50]\n",
    "n_student= len(scores)\n",
    "score_sum, score_square_sum=0, 0\n",
    "\n",
    "for score in scores:\n",
    "    score_sum+= score\n",
    "    score_square_sum+= score**2\n",
    "    \n",
    "mean = score_sum/n_student\n",
    "square_of_mean= mean**2\n",
    "mean_of_square= score_square_sum/n_student\n",
    "\n",
    "variance = mean_of_square - square_of_mean\n",
    "std = variance**0.5\n",
    "\n",
    "print(variance)\n",
    "print(std)"
   ]
  },
  {
   "cell_type": "code",
   "execution_count": 6,
   "metadata": {},
   "outputs": [
    {
     "name": "stdout",
     "output_type": "stream",
     "text": [
      "200.0\n",
      "14.142135623730951\n"
     ]
    }
   ],
   "source": [
    "scores= [10, 20, 30, 40, 50]\n",
    "n_student= len(scores)\n",
    "score_sum, score_square_sum=0,0\n",
    "\n",
    "for score in scores:\n",
    "    score_sum+=score\n",
    "    score_square_sum+=score**2\n",
    "    \n",
    "mean = score_sum/n_student\n",
    "square_of_mean= mean**2\n",
    "mean_of_square = score_square_sum/n_student\n",
    "\n",
    "variance = mean_of_square - square_of_mean\n",
    "std = variance**0.5\n",
    "\n",
    "print(variance)\n",
    "print(std)"
   ]
  },
  {
   "cell_type": "code",
   "execution_count": 7,
   "metadata": {},
   "outputs": [
    {
     "name": "stdout",
     "output_type": "stream",
     "text": [
      "200.0\n",
      "14.142135623730951\n"
     ]
    }
   ],
   "source": [
    "scores=[10, 20, 30, 40, 50]\n",
    "n_student= len(scores)\n",
    "score_sum, score_square_sum= 0,0\n",
    "\n",
    "for score in scores:\n",
    "    score_sum+=score\n",
    "    score_square_sum+=score**2\n",
    "\n",
    "mean = score_sum/n_student\n",
    "square_of_mean = mean**2\n",
    "mean_of_square = score_square_sum/n_student\n",
    "\n",
    "variance = mean_of_square - square_of_mean\n",
    "std = variance**0.5\n",
    "\n",
    "print(variance)\n",
    "print(std)"
   ]
  },
  {
   "cell_type": "code",
   "execution_count": 8,
   "metadata": {},
   "outputs": [
    {
     "name": "stdout",
     "output_type": "stream",
     "text": [
      "800.0\n",
      "28.284271247461902\n"
     ]
    }
   ],
   "source": [
    "scores=[10, 30, 50, 70, 90]\n",
    "n_student= len(scores)\n",
    "score_sum, score_square_sum=0,0\n",
    "\n",
    "for score in scores:\n",
    "    score_sum+=score\n",
    "    score_square_sum+=score**2\n",
    "\n",
    "mean = score_sum/n_student\n",
    "square_of_mean = mean**2\n",
    "mean_of_square= score_square_sum/n_student\n",
    "\n",
    "variance = mean_of_square - square_of_mean\n",
    "std= variance**0.5\n",
    "\n",
    "print(variance)\n",
    "print(std)"
   ]
  },
  {
   "cell_type": "code",
   "execution_count": null,
   "metadata": {},
   "outputs": [],
   "source": []
  },
  {
   "cell_type": "code",
   "execution_count": null,
   "metadata": {},
   "outputs": [],
   "source": []
  },
  {
   "cell_type": "code",
   "execution_count": 6,
   "metadata": {},
   "outputs": [
    {
     "name": "stdout",
     "output_type": "stream",
     "text": [
      "Variance before standardization:  223.4375\n",
      "standard deviation after standardization:  14.947825928876748\n",
      "Variance before standardization:  0.9999999999999999\n",
      "standard deviation after standardization: 1.0\n"
     ]
    }
   ],
   "source": [
    "scores = [10, 20, 30, 20, 50, 10, 50, 20]\n",
    "n_student= len(scores)\n",
    "score_sum, score_square_sum=0,0\n",
    "\n",
    "for score in scores:\n",
    "    score_sum+=score\n",
    "    score_square_sum+=score**2\n",
    "\n",
    "mean = score_sum/n_student\n",
    "square_of_mean = mean**2\n",
    "mean_of_square= score_square_sum/n_student\n",
    "\n",
    "variance = mean_of_square - square_of_mean\n",
    "std=variance**0.5\n",
    "\n",
    "print('Variance before standardization: ', variance)\n",
    "print('standard deviation after standardization: ', std)\n",
    "\n",
    "#### Standardization #####\n",
    "for student_idx in range(n_student):\n",
    "    scores[student_idx]= (scores[student_idx]- mean)/std\n",
    "\n",
    "score_sum, score_square_sum=0,0\n",
    "for score in scores:\n",
    "    score_sum+=score\n",
    "    score_square_sum+=score**2\n",
    "\n",
    "mean = score_sum/n_student\n",
    "square_of_mean = mean**2\n",
    "mean_of_square= score_square_sum/n_student\n",
    "\n",
    "variance = mean_of_square - square_of_mean\n",
    "std=variance**0.5\n",
    "\n",
    "print('Variance before standardization: ', variance)\n",
    "print('standard deviation after standardization:', std)"
   ]
  },
  {
   "cell_type": "code",
   "execution_count": 9,
   "metadata": {},
   "outputs": [
    {
     "name": "stdout",
     "output_type": "stream",
     "text": [
      "400.0\n",
      "20.0\n",
      "1.0\n",
      "1.0\n"
     ]
    }
   ],
   "source": [
    "scores = [10, 20, 30, 40, 50, 60, 70]\n",
    "n_student = len(scores)\n",
    "score_sum, score_square_sum=0,0\n",
    "\n",
    "for score in scores:\n",
    "    score_sum+=score\n",
    "    score_square_sum+=score**2\n",
    "    \n",
    "mean = score_sum/n_student\n",
    "square_of_mean = mean**2\n",
    "mean_of_square= score_square_sum/n_student\n",
    "\n",
    "variance = mean_of_square - square_of_mean\n",
    "std = variance**0.5\n",
    "\n",
    "print(variance)\n",
    "print(std)\n",
    "\n",
    "#### Standardization #####\n",
    "for score_idx in range(n_student):\n",
    "    scores[score_idx] = (scores[score_idx]-mean)/std \n",
    "\n",
    "score_sum, score_square_sum=0,0\n",
    "for score in scores:\n",
    "    score_sum+=score\n",
    "    score_square_sum+=score**2\n",
    "\n",
    "mean = score_sum/n_student\n",
    "square_of_mean = mean**2\n",
    "mean_of_square= score_square_sum/n_student\n",
    "\n",
    "variance = mean_of_square - square_of_mean\n",
    "std = variance**0.5\n",
    "\n",
    "print(variance)\n",
    "print(std)"
   ]
  },
  {
   "cell_type": "code",
   "execution_count": 13,
   "metadata": {},
   "outputs": [
    {
     "name": "stdout",
     "output_type": "stream",
     "text": [
      "66.66666666666669\n",
      "8.16496580927726\n",
      "0.9999999999999999\n",
      "0.9999999999999998\n"
     ]
    }
   ],
   "source": [
    "scores=[10, 20, 30]\n",
    "n_student = len(scores)\n",
    "score_sum, score_square_sum=0,0\n",
    "\n",
    "for score in scores:\n",
    "    score_sum+=score\n",
    "    score_square_sum+=score**2\n",
    "\n",
    "mean = score_sum/n_student\n",
    "square_of_mean = mean**2\n",
    "mean_of_square= score_square_sum/n_student\n",
    "\n",
    "variance = mean_of_square - square_of_mean\n",
    "std = variance**0.5\n",
    "\n",
    "print(variance)\n",
    "print(std)\n",
    "#### Stancdardization #####\n",
    "for score_idx in range(n_student):\n",
    "    scores[score_idx] = (scores[score_idx]- mean)/ std\n",
    "\n",
    "score_sum, score_square_sum = 0, 0\n",
    "for score in scores:\n",
    "    score_sum+=score\n",
    "    score_square_sum+=score**2\n",
    "\n",
    "mean =  score_sum/n_student\n",
    "square_of_mean = mean**2\n",
    "mean_of_square= score_square_sum/n_student\n",
    "\n",
    "variance = mean_of_square - square_of_mean\n",
    "std= variance**2\n",
    "\n",
    "print(variance)\n",
    "print(std)    "
   ]
  },
  {
   "cell_type": "code",
   "execution_count": 24,
   "metadata": {},
   "outputs": [
    {
     "name": "stdout",
     "output_type": "stream",
     "text": [
      "means before standradization:  53.333333333333336 / 40.0\n",
      "variance before standradization:  288.8888888888887 / 66.66666666666674\n",
      "std before standradization:  16.996731711975944 / 8.164965809277264\n"
     ]
    }
   ],
   "source": [
    "math_scores = [30, 60, 70]\n",
    "english_scores = [30, 40, 50]\n",
    "n_student= len(math_scores)\n",
    "\n",
    "math_sum, english_sum = 0, 0\n",
    "math_square_sum, english_square_sum = 0, 0\n",
    "\n",
    "for student_idx in range(n_student):\n",
    "    math_sum+= math_scores[student_idx]\n",
    "    math_square_sum+= math_scores[student_idx]**2\n",
    "    \n",
    "    english_sum+= english_scores[student_idx]\n",
    "    english_square_sum+= english_scores[student_idx]**2\n",
    "    \n",
    "math_mean = math_sum/n_student\n",
    "english_mean = english_sum/n_student\n",
    "\n",
    "math_variance = math_square_sum/n_student - math_mean**2\n",
    "english_variance = english_square_sum/n_student - english_mean**2\n",
    "\n",
    "math_std = math_variance**0.5\n",
    "english_std = english_variance**0.5\n",
    "\n",
    "print('means before standradization: ', math_mean, '/', english_mean)\n",
    "print('variance before standradization: ', math_variance, '/', english_variance)\n",
    "print('std before standradization: ', math_std, '/', english_std)\n",
    "    "
   ]
  },
  {
   "cell_type": "code",
   "execution_count": 31,
   "metadata": {},
   "outputs": [
    {
     "name": "stdout",
     "output_type": "stream",
     "text": [
      "score_mean: 53.333333333333336 / 40.0\n",
      "score_variance: 288.8888888888887 / 66.66666666666674\n",
      "score_std: 16.996731711975944 / 8.164965809277264\n"
     ]
    }
   ],
   "source": [
    "math_scores = [30, 60, 70]\n",
    "english_scores = [30, 40, 50]\n",
    "n_student = len(math_scores)\n",
    "\n",
    "math_sum, math_square_sum = 0, 0\n",
    "english_sum, english_square_sum = 0, 0\n",
    "\n",
    "for student_idx in range(n_student):\n",
    "    math_sum+=math_scores[student_idx]\n",
    "    math_square_sum+=math_scores[student_idx]**2\n",
    "    \n",
    "    english_sum+=english_scores[student_idx]\n",
    "    english_square_sum+=english_scores[student_idx]**2\n",
    "    \n",
    "math_mean = math_sum/n_student\n",
    "english_mean = english_sum/n_student\n",
    "\n",
    "math_variance = math_square_sum/n_student - math_mean**2\n",
    "english_variance = english_square_sum/n_student - english_mean**2\n",
    "\n",
    "math_std = math_variance**0.5\n",
    "english_std = english_variance**0.5\n",
    "\n",
    "print('score_mean:', math_mean, '/', english_mean)\n",
    "print('score_variance:', math_variance, '/', english_variance)\n",
    "print('score_std:', math_std, '/', english_std)"
   ]
  },
  {
   "cell_type": "code",
   "execution_count": 44,
   "metadata": {},
   "outputs": [
    {
     "name": "stdout",
     "output_type": "stream",
     "text": [
      "score mean:  53.333333333333336 / 40.0\n",
      "score variance:  16.996731711975944 / 8.164965809277264\n",
      "score std:  16.996731711975944 / 8.164965809277264\n"
     ]
    }
   ],
   "source": [
    "math_scores = [30, 60, 70]\n",
    "english_scores = [30, 40, 50]\n",
    "n_student= len(math_scores)\n",
    "\n",
    "math_sum, math_square_sum= 0, 0\n",
    "english_sum, english_square_sum=0,0\n",
    "\n",
    "for student_idx in range(n_student):\n",
    "    math_sum+=math_scores[student_idx]\n",
    "    math_square_sum+=math_scores[student_idx]**2\n",
    "    \n",
    "    english_sum+=english_scores[student_idx]\n",
    "    english_square_sum+=english_scores[student_idx]**2\n",
    "    \n",
    "math_mean = math_sum/n_student\n",
    "english_mean = english_sum/n_student\n",
    "\n",
    "math_variance = math_square_sum/n_student - math_mean**2\n",
    "english_variance = english_square_sum/n_student - english_mean**2\n",
    "\n",
    "math_std = math_variance**0.5\n",
    "english_std = english_variance**0.5\n",
    "\n",
    "print('score mean: ', math_mean, '/', english_mean)\n",
    "print('score variance: ', math_variance, '/', english_variance)\n",
    "print('score std: ', math_std, '/', english_std)"
   ]
  },
  {
   "cell_type": "code",
   "execution_count": 45,
   "metadata": {},
   "outputs": [
    {
     "name": "stdout",
     "output_type": "stream",
     "text": [
      "score mean:  53.333333333333336 / 40.0\n",
      "score variance:  288.8888888888887 / 66.66666666666674\n",
      "score std:  16.996731711975944 / 8.164965809277264\n"
     ]
    }
   ],
   "source": [
    "math_scores = [30, 60, 70]\n",
    "english_scores = [30, 40, 50]\n",
    "n_student= len(math_scores)\n",
    "\n",
    "math_sum, math_square_sum= 0, 0\n",
    "english_sum, english_square_sum=0,0\n",
    "\n",
    "for student_idx in range(n_student):\n",
    "    math_sum+=math_scores[student_idx]\n",
    "    math_square_sum+=math_scores[student_idx]**2\n",
    "    \n",
    "    english_sum+=english_scores[student_idx]\n",
    "    english_square_sum+=english_scores[student_idx]**2\n",
    "    \n",
    "math_mean = math_sum/n_student\n",
    "english_mean = english_sum/n_student\n",
    "\n",
    "math_variance = math_square_sum/n_student - math_mean**2\n",
    "english_variance = english_square_sum/n_student - english_mean**2\n",
    "\n",
    "math_std = math_variance**0.5\n",
    "english_std = english_variance**0.5\n",
    "\n",
    "print('score mean: ', math_mean, '/', english_mean)\n",
    "print('score variance: ', math_variance, '/', english_variance)\n",
    "print('score std: ', math_std, '/', english_std)    "
   ]
  },
  {
   "cell_type": "code",
   "execution_count": 56,
   "metadata": {},
   "outputs": [
    {
     "name": "stdout",
     "output_type": "stream",
     "text": [
      "score mean:  -1.4802973661668753e-16 / 0.0\n",
      "score variance:  1.0000000000000007 / 0.9999999999999991\n",
      "score std:  1.0000000000000002 / 0.9999999999999996\n"
     ]
    }
   ],
   "source": [
    "math_scores = [30, 60, 70]\n",
    "english_scores = [30, 40, 50]\n",
    "n_student= len(math_scores)\n",
    "\n",
    "math_sum, math_square_sum= 0, 0\n",
    "english_sum, english_square_sum=0,0\n",
    "\n",
    "for student_idx in range(n_student):\n",
    "    math_sum+=math_scores[student_idx]\n",
    "    math_square_sum+=math_scores[student_idx]**2\n",
    "    \n",
    "    english_sum+=english_scores[student_idx]\n",
    "    english_square_sum+=english_scores[student_idx]**2\n",
    "    \n",
    "math_mean = math_sum/n_student\n",
    "english_mean = english_sum/n_student\n",
    "\n",
    "math_variance = math_square_sum/n_student - math_mean**2\n",
    "english_variance = english_square_sum/n_student - english_mean**2\n",
    "\n",
    "math_std = math_variance**0.5\n",
    "english_std = english_variance**0.5\n",
    "\n",
    "################################################\n",
    "for student_idx in range(n_student):\n",
    "    math_score= math_scores[student_idx]\n",
    "    english_score= english_scores[student_idx]\n",
    "    \n",
    "    math_scores[student_idx] = (math_score - math_mean)/math_std\n",
    "    english_scores[student_idx]= (english_score - english_mean)/english_std\n",
    "\n",
    "#################################################\n",
    "math_sum, math_square_sum= 0, 0\n",
    "english_sum, english_square_sum =0, 0\n",
    "\n",
    "for student_idx in range(n_student):\n",
    "    math_sum+=math_scores[student_idx]\n",
    "    math_square_sum+=math_scores[student_idx]**2\n",
    "    \n",
    "    english_sum+=english_scores[student_idx]\n",
    "    english_square_sum+=english_scores[student_idx]**2\n",
    "    \n",
    "math_mean = math_sum/n_student\n",
    "english_mean = english_sum/n_student\n",
    "\n",
    "math_variance = math_square_sum/n_student - math_mean**2\n",
    "english_variance = english_square_sum/n_student - english_mean**2\n",
    "\n",
    "math_std = math_variance**0.5\n",
    "english_std = english_variance**0.5\n",
    "\n",
    "print('score mean: ', math_mean, '/', english_mean)\n",
    "print('score variance: ', math_variance, '/', english_variance)\n",
    "print('score std: ', math_std, '/', english_std)"
   ]
  },
  {
   "cell_type": "code",
   "execution_count": null,
   "metadata": {},
   "outputs": [],
   "source": []
  },
  {
   "cell_type": "code",
   "execution_count": null,
   "metadata": {},
   "outputs": [],
   "source": []
  },
  {
   "cell_type": "code",
   "execution_count": null,
   "metadata": {},
   "outputs": [],
   "source": []
  },
  {
   "cell_type": "code",
   "execution_count": null,
   "metadata": {},
   "outputs": [],
   "source": []
  },
  {
   "cell_type": "code",
   "execution_count": null,
   "metadata": {},
   "outputs": [],
   "source": []
  },
  {
   "cell_type": "code",
   "execution_count": null,
   "metadata": {},
   "outputs": [],
   "source": []
  }
 ],
 "metadata": {
  "kernelspec": {
   "display_name": "Python 3.12.2 64-bit",
   "language": "python",
   "name": "python3"
  },
  "language_info": {
   "codemirror_mode": {
    "name": "ipython",
    "version": 3
   },
   "file_extension": ".py",
   "mimetype": "text/x-python",
   "name": "python",
   "nbconvert_exporter": "python",
   "pygments_lexer": "ipython3",
   "version": "3.12.2"
  },
  "orig_nbformat": 4,
  "vscode": {
   "interpreter": {
    "hash": "e055262477437ea8249124d94883794fa22737a9cfe4fd89c699b51a0131ad6c"
   }
  }
 },
 "nbformat": 4,
 "nbformat_minor": 2
}
