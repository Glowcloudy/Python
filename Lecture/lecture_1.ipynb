{
 "cells": [
  {
   "cell_type": "code",
   "execution_count": 13,
   "metadata": {},
   "outputs": [
    {
     "name": "stdout",
     "output_type": "stream",
     "text": [
      "hello world!\n",
      "Name:  Shin ky\n",
      "Age:  30\n",
      "Grade:  4.5\n"
     ]
    }
   ],
   "source": [
    "print('hello world!')\n",
    "print(\"Name: \", \"Shin ky\")\n",
    "print(\"Age: \", 30)\n",
    "print(\"Grade: \", 4.5)"
   ]
  },
  {
   "cell_type": "code",
   "execution_count": 16,
   "metadata": {},
   "outputs": [
    {
     "name": "stdout",
     "output_type": "stream",
     "text": [
      "Shin ky\n",
      "98\n",
      "185\n"
     ]
    }
   ],
   "source": [
    "name = \"Shin ky\"\n",
    "math_score = 98\n",
    "my_height = 185\n",
    "\n",
    "print(name)\n",
    "print(math_score)\n",
    "print(my_height)"
   ]
  },
  {
   "cell_type": "code",
   "execution_count": 17,
   "metadata": {},
   "outputs": [
    {
     "name": "stdout",
     "output_type": "stream",
     "text": [
      "name:  Shin ky\n",
      "math_score:  80\n",
      "height:  165.5\n"
     ]
    }
   ],
   "source": [
    "name= \"Shin KS\"\n",
    "math_score = 80\n",
    "height = 165.5\n",
    "\n",
    "print(\"name: \", \"Shin ky\")\n",
    "print(\"math_score: \", math_score)\n",
    "print(\"height: \", height)"
   ]
  },
  {
   "cell_type": "code",
   "execution_count": 19,
   "metadata": {},
   "outputs": [
    {
     "name": "stdout",
     "output_type": "stream",
     "text": [
      "name:  Shin KS\n",
      "math_score:  80\n",
      "height:  165.5\n"
     ]
    }
   ],
   "source": [
    "name = \"Shin KS\"\n",
    "math_score = 80\n",
    "height = 165.5\n",
    "\n",
    "print(\"name: \", \"Shin KS\")\n",
    "print(\"math_score: \", math_score)\n",
    "print(\"height: \", height)"
   ]
  },
  {
   "cell_type": "code",
   "execution_count": 22,
   "metadata": {},
   "outputs": [
    {
     "name": "stdout",
     "output_type": "stream",
     "text": [
      "name:  Shin KS\n",
      "math_score:  80\n",
      "height:  165.5\n"
     ]
    }
   ],
   "source": [
    "name = \"Shin KS\"\n",
    "math_score = 80\n",
    "height = 165.5\n",
    "\n",
    "print(\"name: \", \"Shin KS\")\n",
    "print(\"math_score: \", math_score)\n",
    "print(\"height: \", height)"
   ]
  },
  {
   "cell_type": "code",
   "execution_count": 23,
   "metadata": {},
   "outputs": [
    {
     "name": "stdout",
     "output_type": "stream",
     "text": [
      "6\n",
      "2\n",
      "8\n",
      "2.0\n",
      "2\n",
      "0\n",
      "16\n"
     ]
    }
   ],
   "source": [
    "int1 = 4\n",
    "int2 = 2\n",
    "\n",
    "print(int1 + int2)\n",
    "print(int1 - int2)\n",
    "print(int1 * int2)\n",
    "print(int1 / int2)\n",
    "print(int1 // int2)\n",
    "print(int1 % int2)\n",
    "print(int1**int2)"
   ]
  },
  {
   "cell_type": "code",
   "execution_count": 24,
   "metadata": {},
   "outputs": [
    {
     "name": "stdout",
     "output_type": "stream",
     "text": [
      "6\n",
      "-2\n",
      "8\n",
      "0.5\n",
      "0\n",
      "2\n",
      "16\n"
     ]
    }
   ],
   "source": [
    "int1 =2\n",
    "int2 = 4\n",
    "\n",
    "print(int1+int2)\n",
    "print(int1-int2)\n",
    "print(int1*int2)\n",
    "print(int1/int2)\n",
    "print(int1//int2)\n",
    "print(int1%int2)\n",
    "print(int1**int2)"
   ]
  },
  {
   "cell_type": "code",
   "execution_count": 25,
   "metadata": {},
   "outputs": [
    {
     "name": "stdout",
     "output_type": "stream",
     "text": [
      "8\n",
      "2\n",
      "15\n",
      "1.6666666666666667\n",
      "1\n",
      "2\n",
      "125\n"
     ]
    }
   ],
   "source": [
    "int1=5\n",
    "int2 =3\n",
    "\n",
    "print(int1+int2)\n",
    "print(int1-int2)\n",
    "print(int1*int2)\n",
    "print(int1/int2)\n",
    "print(int1//int2)\n",
    "print(int1%int2)\n",
    "print(int1**int2)"
   ]
  },
  {
   "cell_type": "code",
   "execution_count": 26,
   "metadata": {},
   "outputs": [
    {
     "name": "stdout",
     "output_type": "stream",
     "text": [
      "6 2 8 2.0 2 0 16\n"
     ]
    }
   ],
   "source": [
    "int1, int2 = 4, 2\n",
    "\n",
    "add, sub = int1+int2, int1-int2\n",
    "mul, div = int1*int2, int1/int2\n",
    "quo, rem = int1//int2, int1%int2\n",
    "pow = int1**int2\n",
    "\n",
    "print(add, sub, mul, div, quo, rem, pow)"
   ]
  },
  {
   "cell_type": "code",
   "execution_count": 27,
   "metadata": {},
   "outputs": [
    {
     "name": "stdout",
     "output_type": "stream",
     "text": [
      "9 1 20 1.25 1 1 625\n"
     ]
    }
   ],
   "source": [
    "int1, int2 = 5, 4\n",
    "\n",
    "add, sub = int1+int2, int1-int2\n",
    "mul, div = int1*int2, int1/int2\n",
    "quo, rem = int1//int2, int1%int2\n",
    "pow = int1**int2\n",
    "\n",
    "print(add, sub, mul, div, quo, rem, pow)"
   ]
  },
  {
   "cell_type": "code",
   "execution_count": 28,
   "metadata": {},
   "outputs": [
    {
     "name": "stdout",
     "output_type": "stream",
     "text": [
      "6 2 8 2.0 2 0 16\n"
     ]
    }
   ],
   "source": [
    "int1, int2 = 4, 2\n",
    "\n",
    "add, sub = int1+int2, int1-int2\n",
    "mul, div = int1*int2, int1/int2\n",
    "quo, rem = int1//int2, int1%int2\n",
    "pow = int1**int2\n",
    "\n",
    "print(add, sub, mul, div, quo, rem, pow)"
   ]
  },
  {
   "cell_type": "code",
   "execution_count": 29,
   "metadata": {},
   "outputs": [
    {
     "name": "stdout",
     "output_type": "stream",
     "text": [
      "1 0 1 0\n"
     ]
    }
   ],
   "source": [
    "int1, int2, int3, int4 = 1, 2, 3, 4\n",
    "\n",
    "dev = 2\n",
    "\n",
    "rem1, rem2, rem3, rem4 = int1%dev, int2%dev, int3%dev, int4%dev\n",
    "\n",
    "print(rem1, rem2, rem3, rem4)\n"
   ]
  },
  {
   "cell_type": "code",
   "execution_count": 30,
   "metadata": {},
   "outputs": [
    {
     "name": "stdout",
     "output_type": "stream",
     "text": [
      "1 0 1 0\n"
     ]
    }
   ],
   "source": [
    "int1, int2, int3, int4 = 1, 2, 3, 4\n",
    "\n",
    "dev= 2\n",
    "\n",
    "rem1, rem2, rem3, rem4 = int1%dev, int2%dev, int3%dev, int4%dev\n",
    "\n",
    "print(rem1, rem2, rem3, rem4)"
   ]
  },
  {
   "cell_type": "code",
   "execution_count": 31,
   "metadata": {},
   "outputs": [
    {
     "name": "stdout",
     "output_type": "stream",
     "text": [
      "1 2 0 1\n"
     ]
    }
   ],
   "source": [
    "int1, int2, int3, int4 = 4, 5, 6, 7\n",
    "\n",
    "dev=3\n",
    "\n",
    "rem1, rem2, rem3, rem4 = int1%dev, int2%dev, int3%dev, int4%dev\n",
    "\n",
    "print(rem1, rem2, rem3, rem4)"
   ]
  },
  {
   "cell_type": "code",
   "execution_count": 32,
   "metadata": {},
   "outputs": [
    {
     "name": "stdout",
     "output_type": "stream",
     "text": [
      "2 3 0 1\n"
     ]
    }
   ],
   "source": [
    "int1, int2, int3, int4 = 6, 7, 8, 9\n",
    "\n",
    "dev=4\n",
    "\n",
    "rem1, rem2, rem3, rem4 = int1%dev, int2%dev, int3%dev, int4%dev\n",
    "\n",
    "print(rem1, rem2, rem3, rem4)"
   ]
  },
  {
   "cell_type": "code",
   "execution_count": 34,
   "metadata": {},
   "outputs": [
    {
     "name": "stdout",
     "output_type": "stream",
     "text": [
      "20\n",
      "10\n",
      "50\n",
      "10.0\n",
      "100000.0\n"
     ]
    }
   ],
   "source": [
    "score = 10\n",
    "\n",
    "score+=10\n",
    "print(score)\n",
    "\n",
    "score-=10\n",
    "print(score)\n",
    "\n",
    "score*=5\n",
    "print(score)\n",
    "\n",
    "score/= 5\n",
    "print(score)\n",
    "\n",
    "score**=5\n",
    "print(score)"
   ]
  },
  {
   "cell_type": "code",
   "execution_count": 36,
   "metadata": {},
   "outputs": [
    {
     "name": "stdout",
     "output_type": "stream",
     "text": [
      "20\n",
      "18\n",
      "90\n",
      "18.0\n",
      "324.0\n"
     ]
    }
   ],
   "source": [
    "score = 10\n",
    "score+= 10\n",
    "print(score)\n",
    "\n",
    "score-=2\n",
    "print(score)\n",
    "\n",
    "score*=5\n",
    "print(score)\n",
    "\n",
    "score/=5\n",
    "print(score)\n",
    "\n",
    "score**=2\n",
    "print(score)\n"
   ]
  },
  {
   "cell_type": "code",
   "execution_count": 38,
   "metadata": {},
   "outputs": [
    {
     "name": "stdout",
     "output_type": "stream",
     "text": [
      "20\n",
      "18\n",
      "90\n",
      "45.0\n",
      "184528125.0\n"
     ]
    }
   ],
   "source": [
    "score=10\n",
    "score+=10\n",
    "print(score)\n",
    "\n",
    "score-=2\n",
    "print(score)\n",
    "\n",
    "score*=5\n",
    "print(score)\n",
    "\n",
    "score/=2\n",
    "print(score)\n",
    "\n",
    "score**=5\n",
    "print(score)\n",
    "\n",
    "\n"
   ]
  },
  {
   "cell_type": "code",
   "execution_count": 1,
   "metadata": {},
   "outputs": [
    {
     "name": "stdout",
     "output_type": "stream",
     "text": [
      "sum of score:  60\n"
     ]
    }
   ],
   "source": [
    "score1, score2, score3 = 10, 20, 30\n",
    "score_sum = score1+score2+score3\n",
    "\n",
    "print(\"sum of score: \", score_sum)"
   ]
  },
  {
   "cell_type": "code",
   "execution_count": 2,
   "metadata": {},
   "outputs": [
    {
     "name": "stdout",
     "output_type": "stream",
     "text": [
      "90\n"
     ]
    }
   ],
   "source": [
    "score1, score2, score3 = 20, 30, 40\n",
    "score_sum = score1+score2+score3\n",
    "\n",
    "print(score_sum)"
   ]
  },
  {
   "cell_type": "code",
   "execution_count": 3,
   "metadata": {},
   "outputs": [
    {
     "name": "stdout",
     "output_type": "stream",
     "text": [
      "60\n"
     ]
    }
   ],
   "source": [
    "score1, score2, score3 = 10, 20, 30\n",
    "score_sum = score1+score2+score3\n",
    "\n",
    "print(score_sum)"
   ]
  },
  {
   "cell_type": "code",
   "execution_count": 4,
   "metadata": {},
   "outputs": [
    {
     "name": "stdout",
     "output_type": "stream",
     "text": [
      "60\n"
     ]
    }
   ],
   "source": [
    "score1, score2, score3 = 10, 20, 30\n",
    "score_sum = score1+score2+score3\n",
    "\n",
    "print(score_sum)"
   ]
  },
  {
   "cell_type": "code",
   "execution_count": 5,
   "metadata": {},
   "outputs": [
    {
     "name": "stdout",
     "output_type": "stream",
     "text": [
      "20.0\n"
     ]
    }
   ],
   "source": [
    "score1, score2, score3 = 10, 20, 30\n",
    "n_student = 3\n",
    "\n",
    "score_mean = (score1+score2+score3)/ n_student\n",
    "\n",
    "print(score_mean)"
   ]
  },
  {
   "cell_type": "code",
   "execution_count": 6,
   "metadata": {},
   "outputs": [
    {
     "name": "stdout",
     "output_type": "stream",
     "text": [
      "40.0\n"
     ]
    }
   ],
   "source": [
    "score1, score2, score3 = 30, 40, 50\n",
    "n_student = 3\n",
    "\n",
    "score_sum = score1+score2+score3\n",
    "\n",
    "score_mean = score_sum / n_student\n",
    "print(score_mean)\n"
   ]
  },
  {
   "cell_type": "code",
   "execution_count": 7,
   "metadata": {},
   "outputs": [
    {
     "name": "stdout",
     "output_type": "stream",
     "text": [
      "20.0\n"
     ]
    }
   ],
   "source": [
    "score1, score2, score3 = 10, 20, 30\n",
    "n_student = 3\n",
    "\n",
    "score_sum = score1+score2+score3\n",
    "\n",
    "score_mean = score_sum / n_student\n",
    "\n",
    "print(score_mean)"
   ]
  },
  {
   "cell_type": "code",
   "execution_count": 8,
   "metadata": {},
   "outputs": [
    {
     "name": "stdout",
     "output_type": "stream",
     "text": [
      "20.0\n",
      "30.0\n"
     ]
    }
   ],
   "source": [
    "score1, score2, score3 = 10, 20, 30\n",
    "n_student = 3\n",
    "\n",
    "mean = (score1+score2+score3)/n_student\n",
    "print(mean)\n",
    "\n",
    "score1+=10\n",
    "score2+=10\n",
    "score3+=10\n",
    "\n",
    "mean = (score1+ score2+score3)/ n_student\n",
    "print(mean)"
   ]
  },
  {
   "cell_type": "code",
   "execution_count": 9,
   "metadata": {},
   "outputs": [
    {
     "name": "stdout",
     "output_type": "stream",
     "text": [
      "20.0\n",
      "40.0\n"
     ]
    }
   ],
   "source": [
    "score1, score2, score3 = 10, 20, 30\n",
    "n_student = 3\n",
    "\n",
    "mean = (score1+score2+score3) / n_student\n",
    "\n",
    "print(mean)\n",
    "\n",
    "score1+= 20\n",
    "score2+= 20\n",
    "score3+= 20\n",
    "\n",
    "mean = (score1+ score2+score3) / n_student\n",
    "print(mean)\n"
   ]
  },
  {
   "cell_type": "code",
   "execution_count": 11,
   "metadata": {},
   "outputs": [
    {
     "name": "stdout",
     "output_type": "stream",
     "text": [
      "30.0\n"
     ]
    }
   ],
   "source": [
    "score1, score2, score3 = 10, 20, 30\n",
    "n_student = 3\n",
    "\n",
    "mean = (score1+score2+score3)/n_student\n",
    "\n",
    "score1+= 10\n",
    "score2+= 10\n",
    "score3+= 10\n",
    "\n",
    "mean = (score1+score2+score3)/n_student\n",
    "\n",
    "print(mean)"
   ]
  },
  {
   "cell_type": "code",
   "execution_count": 13,
   "metadata": {},
   "outputs": [
    {
     "name": "stdout",
     "output_type": "stream",
     "text": [
      "20.0\n",
      "0.0\n"
     ]
    }
   ],
   "source": [
    "score1, score2, score3 = 10, 20, 30\n",
    "n_student = 3\n",
    "\n",
    "score_mean = (score1+score2+score3)/ n_student\n",
    "print(score_mean)\n",
    "\n",
    "score1 -= score_mean\n",
    "score2 -= score_mean\n",
    "score3 -= score_mean\n",
    "\n",
    "score_mean = (score1+score2+score3) /n_student\n",
    "\n",
    "print(score_mean)"
   ]
  },
  {
   "cell_type": "code",
   "execution_count": 14,
   "metadata": {},
   "outputs": [
    {
     "name": "stdout",
     "output_type": "stream",
     "text": [
      "20.0\n",
      "0.0\n"
     ]
    }
   ],
   "source": [
    "score1, score2, score3 = 10, 20, 30\n",
    "n_student = 3\n",
    "\n",
    "mean = (score1+score2+score3)/ n_student\n",
    "print(mean)\n",
    "\n",
    "score1 -= mean\n",
    "score2-=mean\n",
    "score3-=mean\n",
    "\n",
    "mean = (score1+score2+score3) /n_student\n",
    "print(mean)"
   ]
  },
  {
   "cell_type": "code",
   "execution_count": 15,
   "metadata": {},
   "outputs": [
    {
     "name": "stdout",
     "output_type": "stream",
     "text": [
      "0.0\n"
     ]
    }
   ],
   "source": [
    "# mean을 구하여 기존에 변수들에게 '-'복합연산을 하고 다시 mean을 구하게 되면 mean = 0\n",
    "score1, score2, score3 = 10, 20, 30\n",
    "n_student= 3\n",
    "\n",
    "mean = (score1+score2+score3) / n_student\n",
    "\n",
    "score1-=mean\n",
    "score2-=mean\n",
    "score3-=mean\n",
    "\n",
    "mean= (score1+score2+score3)/n_student\n",
    "\n",
    "print(mean)\n"
   ]
  }
 ],
 "metadata": {
  "kernelspec": {
   "display_name": "Python 3.12.2 64-bit",
   "language": "python",
   "name": "python3"
  },
  "language_info": {
   "codemirror_mode": {
    "name": "ipython",
    "version": 3
   },
   "file_extension": ".py",
   "mimetype": "text/x-python",
   "name": "python",
   "nbconvert_exporter": "python",
   "pygments_lexer": "ipython3",
   "version": "3.12.2"
  },
  "orig_nbformat": 4,
  "vscode": {
   "interpreter": {
    "hash": "e055262477437ea8249124d94883794fa22737a9cfe4fd89c699b51a0131ad6c"
   }
  }
 },
 "nbformat": 4,
 "nbformat_minor": 2
}
