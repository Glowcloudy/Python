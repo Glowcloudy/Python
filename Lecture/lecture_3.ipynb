{
 "cells": [
  {
   "cell_type": "markdown",
   "metadata": {},
   "source": [
    "Lecture3: Vector Calculations"
   ]
  },
  {
   "cell_type": "code",
   "execution_count": 2,
   "metadata": {},
   "outputs": [
    {
     "name": "stdout",
     "output_type": "stream",
     "text": [
      "4 6 8\n",
      "-2 -2 -2\n",
      "3 8 15\n"
     ]
    }
   ],
   "source": [
    "# Vector-Vector Operation\n",
    "x1, y1, z1 = 1, 2, 3\n",
    "x2, y2, z2 = 3, 4, 5\n",
    "\n",
    "x3, y3, z3 = x1+x2, y1+y2, z1+z2\n",
    "\n",
    "print(x3, y3, z3)\n",
    "\n",
    "x4, y4, z4 = x1-x2, y1-y2, z1-z2\n",
    "x5, y5, z5 = x1*x2, y1*y2, z1*z2 # hardamard Operation(같은 차원끼리 곱)\n",
    "\n",
    "print(x4, y4, z4)\n",
    "print(x5, y5, z5)\n"
   ]
  },
  {
   "cell_type": "code",
   "execution_count": 3,
   "metadata": {},
   "outputs": [
    {
     "name": "stdout",
     "output_type": "stream",
     "text": [
      "4 6 8\n",
      "-2 -2 -2\n",
      "3 8 15\n"
     ]
    }
   ],
   "source": [
    "x1, y1, z1 = 1, 2, 3\n",
    "x2, y2, z2 = 3, 4, 5\n",
    " \n",
    "x3, y3, z3 = x1+x2, y1+y2, z1+z2\n",
    "x4, y4, z4 = x1-x2, y1-y2, z1-z2\n",
    "x5, y5, z5 = x1*x2, y1*y2, z1*z2\n",
    " \n",
    "print(x3, y3, z3)\n",
    "print(x4, y4, z4)\n",
    "print(x5, y5, z5)"
   ]
  },
  {
   "cell_type": "code",
   "execution_count": 4,
   "metadata": {},
   "outputs": [
    {
     "name": "stdout",
     "output_type": "stream",
     "text": [
      "4 6 8\n",
      "-2 -2 -2\n",
      "3 8 15\n"
     ]
    }
   ],
   "source": [
    "x1, y1, z1 = 1, 2, 3\n",
    "x2, y2, z2 = 3, 4, 5\n",
    "\n",
    "x3, y3, z3 = x1+x2, y1+y2, z1+z2\n",
    "x4, y4, z4 = x1-x2, y1-y2, z1-z2\n",
    "x5, y5, z5 = x1*x2, y1*y2, z1*z2 \n",
    "\n",
    "print(x3, y3, z3)\n",
    "print(x4, y4, z4)\n",
    "print(x5, y5, z5)\n"
   ]
  },
  {
   "cell_type": "code",
   "execution_count": 1,
   "metadata": {},
   "outputs": [
    {
     "name": "stdout",
     "output_type": "stream",
     "text": [
      "10 20 30\n",
      "11 12 13\n",
      "9 8 7\n"
     ]
    }
   ],
   "source": [
    "# Scalar-Vector Operations\n",
    "a=10\n",
    "x1, y1, z1 = 1, 2, 3\n",
    "\n",
    "x2, y2, z2 = a*x1, a*y1, a*z1\n",
    "x3, y3, z3 = a+x1, a+y1, a+z1\n",
    "x4, y4, z4 = a-x1, a-y1, a-z1\n",
    "\n",
    "print(x2, y2, z2)\n",
    "print(x3, y3, z3)\n",
    "print(x4, y4, z4)"
   ]
  },
  {
   "cell_type": "code",
   "execution_count": 2,
   "metadata": {},
   "outputs": [
    {
     "name": "stdout",
     "output_type": "stream",
     "text": [
      "10 20 30\n",
      "11 12 13\n",
      "9 8 7\n"
     ]
    }
   ],
   "source": [
    "a=10\n",
    "x1, y1, z1 = 1, 2, 3\n",
    "\n",
    "x2, y2, z2 = a*x1, a*y1, a*z1\n",
    "x3, y3, z3 = a+x1, a+y1, a+z1\n",
    "x4, y4, z4 = a-x1, a-y1, a-z1\n",
    "\n",
    "print(x2, y2, z2)\n",
    "print(x3, y3, z3)\n",
    "print(x4, y4, z4)"
   ]
  },
  {
   "cell_type": "code",
   "execution_count": 3,
   "metadata": {},
   "outputs": [
    {
     "name": "stdout",
     "output_type": "stream",
     "text": [
      "30 40 50\n",
      "13 14 15\n",
      "7 6 5\n"
     ]
    }
   ],
   "source": [
    "a=10\n",
    "x1, y1, z1 = 3, 4, 5\n",
    "\n",
    "x2, y2, z2 = a*x1, a*y1, a*z1\n",
    "x3, y3, z3 = a+x1, a+y1, a+z1\n",
    "x4, y4, z4 = a-x1, a-y1, a-z1\n",
    "\n",
    "print(x2, y2, z2)\n",
    "print(x3, y3, z3)\n",
    "print(x4, y4, z4)"
   ]
  },
  {
   "cell_type": "code",
   "execution_count": 4,
   "metadata": {},
   "outputs": [
    {
     "name": "stdout",
     "output_type": "stream",
     "text": [
      "3.7416573867739413\n"
     ]
    }
   ],
   "source": [
    "# Vetor Norm(크기)\n",
    "x, y, z=1, 2, 3\n",
    "\n",
    "norm = (x**2+y**2+z**2)**0.5\n",
    "\n",
    "print(norm)"
   ]
  },
  {
   "cell_type": "code",
   "execution_count": 5,
   "metadata": {},
   "outputs": [
    {
     "name": "stdout",
     "output_type": "stream",
     "text": [
      "5.385164807134504\n"
     ]
    }
   ],
   "source": [
    "x, y, z = 2, 3, 4\n",
    "\n",
    "norm = (x**2+y**2+z**2)**0.5\n",
    "\n",
    "print(norm)"
   ]
  },
  {
   "cell_type": "code",
   "execution_count": 6,
   "metadata": {},
   "outputs": [
    {
     "name": "stdout",
     "output_type": "stream",
     "text": [
      "3.7416573867739413\n"
     ]
    }
   ],
   "source": [
    "x, y, z = 1, 2, 3\n",
    "\n",
    "norm = (x**2+y**2+z**2)**0.5\n",
    "\n",
    "print(norm)"
   ]
  },
  {
   "cell_type": "code",
   "execution_count": 2,
   "metadata": {},
   "outputs": [
    {
     "name": "stdout",
     "output_type": "stream",
     "text": [
      "3.7416573867739413\n",
      "0.2672612419124244 0.5345224838248488 0.8017837257372732\n",
      "1.0\n"
     ]
    }
   ],
   "source": [
    "# Making Unit Vector (크기가 1인 vector 만들기)\n",
    "x, y, z = 1, 2, 3\n",
    "\n",
    "# Calculate Vertor norm\n",
    "norm = (x**2+y**2+z**2)**0.5\n",
    "\n",
    "print(norm)\n",
    "\n",
    "# Calculate Unit Vector\n",
    "x, y, z = x/norm, y/norm, z/norm\n",
    "print(x, y, z)\n",
    "norm = (x**2+y**2+z**2)**0.5\n",
    "\n",
    "print(norm)"
   ]
  },
  {
   "cell_type": "code",
   "execution_count": 5,
   "metadata": {},
   "outputs": [
    {
     "name": "stdout",
     "output_type": "stream",
     "text": [
      "5.385164807134504\n",
      "0.3713906763541037 0.5570860145311556 0.7427813527082074\n",
      "1.0\n"
     ]
    }
   ],
   "source": [
    "x, y, z = 2, 3, 4\n",
    "\n",
    "norm = (x**2+y**2+z**2)**0.5\n",
    "print(norm)\n",
    "\n",
    "x, y, z = x/norm, y/norm, z/norm\n",
    "print(x, y, z)\n",
    "\n",
    "norm= (x**2+ y**2+ z**2)**0.5\n",
    "print(norm)\n"
   ]
  },
  {
   "cell_type": "code",
   "execution_count": 6,
   "metadata": {},
   "outputs": [
    {
     "name": "stdout",
     "output_type": "stream",
     "text": [
      "8.774964387392123\n",
      "1.0\n"
     ]
    }
   ],
   "source": [
    "x, y, z = 4, 5, 6\n",
    "\n",
    "norm = (x**2+y**2+z**2)**0.5\n",
    "print(norm)\n",
    "\n",
    "# make unit vector\n",
    "x, y, z = x/norm, y/norm, z/norm\n",
    "\n",
    "norm = (x**2+y**2+z**2)**0.5\n",
    "print(norm)"
   ]
  },
  {
   "cell_type": "code",
   "execution_count": 8,
   "metadata": {},
   "outputs": [
    {
     "name": "stdout",
     "output_type": "stream",
     "text": [
      "10.488088481701515\n",
      "0.4767312946227962 0.5720775535473553 0.6674238124719146\n",
      "1.0\n"
     ]
    }
   ],
   "source": [
    "x, y, z = 5, 6, 7\n",
    "\n",
    "norm = (x**2+y**2+z**2)**0.5\n",
    "print(norm)\n",
    "\n",
    "x, y, z = x/norm, y/norm, z/norm\n",
    "print(x, y, z)\n",
    "\n",
    "norm = (x**2+y**2+z**2)**0.5\n",
    "print(norm)"
   ]
  }
 ],
 "metadata": {
  "kernelspec": {
   "display_name": "Python 3.12.2 64-bit",
   "language": "python",
   "name": "python3"
  },
  "language_info": {
   "codemirror_mode": {
    "name": "ipython",
    "version": 3
   },
   "file_extension": ".py",
   "mimetype": "text/x-python",
   "name": "python",
   "nbconvert_exporter": "python",
   "pygments_lexer": "ipython3",
   "version": "3.12.2"
  },
  "orig_nbformat": 4,
  "vscode": {
   "interpreter": {
    "hash": "e055262477437ea8249124d94883794fa22737a9cfe4fd89c699b51a0131ad6c"
   }
  }
 },
 "nbformat": 4,
 "nbformat_minor": 2
}
