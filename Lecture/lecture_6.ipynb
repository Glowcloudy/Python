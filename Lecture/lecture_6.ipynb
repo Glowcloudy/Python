{
 "cells": [
  {
   "cell_type": "code",
   "execution_count": 7,
   "metadata": {},
   "outputs": [
    {
     "name": "stdout",
     "output_type": "stream",
     "text": [
      "[3, 8, 15]\n",
      "[3, 8, 15]\n"
     ]
    }
   ],
   "source": [
    "# Hadamard Prodcut(2)\n",
    "v1, v2 = [1, 2, 3], [3, 4, 5]\n",
    "\n",
    "# method.1\n",
    "v3 = [v1[0]*v2[0], v1[1]*v2[1], v1[2]*v2[2]]\n",
    "print(v3)\n",
    "\n",
    "# method.2\n",
    "v3 = [0, 0, 0]\n",
    "v3[0] = v1[0]*v2[0]\n",
    "v3[1] = v1[1]*v2[1]\n",
    "v3[2] = v1[2]*v2[2]\n",
    "print(v3)"
   ]
  },
  {
   "cell_type": "code",
   "execution_count": 8,
   "metadata": {},
   "outputs": [
    {
     "name": "stdout",
     "output_type": "stream",
     "text": [
      "[3, 8, 15]\n",
      "[3, 8, 15]\n"
     ]
    }
   ],
   "source": [
    "v1, v2 = [1, 2, 3], [3, 4, 5]\n",
    "\n",
    "v3 = [v1[0]*v2[0], v1[1]*v2[1],v1[2]*v2[2]]\n",
    "print(v3)\n",
    "\n",
    "v1, v2 = [1, 2, 3], [3, 4, 5]\n",
    "v3=[0, 0, 0]\n",
    "\n",
    "v3[0] = v1[0]*v2[0]\n",
    "v3[1] = v1[1]*v2[1]\n",
    "v3[2] = v1[2]*v2[2]\n",
    "print(v3)"
   ]
  },
  {
   "cell_type": "code",
   "execution_count": 10,
   "metadata": {},
   "outputs": [
    {
     "name": "stdout",
     "output_type": "stream",
     "text": [
      "[3, 8, 15]\n",
      "[3, 8, 15]\n"
     ]
    }
   ],
   "source": [
    "v1, v2 = [1, 2, 3], [3, 4, 5]\n",
    "v3 = [v1[0]*v2[0], v1[1]*v2[1], v1[2]*v2[2]]\n",
    "print(v3)\n",
    "\n",
    "v1, v2 = [1, 2, 3], [3, 4, 5]\n",
    "v3 = [0, 0, 0]\n",
    "\n",
    "v3[0] = v1[0]*v2[0]\n",
    "v3[1] = v1[1]*v2[1]\n",
    "v3[2] = v1[2]*v2[2]\n",
    "\n",
    "print(v3)"
   ]
  },
  {
   "cell_type": "code",
   "execution_count": 11,
   "metadata": {},
   "outputs": [
    {
     "name": "stdout",
     "output_type": "stream",
     "text": [
      "[3, 8, 15]\n",
      "[3, 8, 15]\n"
     ]
    }
   ],
   "source": [
    "v1, v2 = [1, 2, 3], [3, 4, 5]\n",
    "v3= [v1[0]*v2[0], v1[1]*v2[1], v1[2]*v2[2]]\n",
    "print(v3)\n",
    "\n",
    "v1, v2 = [1, 2, 3], [3, 4, 5]\n",
    "v3 = [0, 0, 0]\n",
    "\n",
    "v3[0] = v1[0]*v2[0]\n",
    "v3[1] = v1[1]*v2[1]\n",
    "v3[2] = v1[2]*v2[2]\n",
    "print(v3)"
   ]
  },
  {
   "cell_type": "code",
   "execution_count": 15,
   "metadata": {},
   "outputs": [
    {
     "name": "stdout",
     "output_type": "stream",
     "text": [
      "[]\n",
      "[1]\n",
      "[1, 2]\n",
      "[1, 2, 3]\n"
     ]
    }
   ],
   "source": [
    "# append for empty list\n",
    "v1 = list()\n",
    "print(v1)\n",
    "\n",
    "v1.append(1)\n",
    "print(v1)\n",
    "\n",
    "v1.append(2)\n",
    "print(v1)\n",
    "\n",
    "v1.append(3)\n",
    "print(v1)"
   ]
  },
  {
   "cell_type": "code",
   "execution_count": 17,
   "metadata": {},
   "outputs": [
    {
     "name": "stdout",
     "output_type": "stream",
     "text": [
      "[]\n",
      "[1]\n",
      "[1, 2]\n",
      "[1, 2, 3]\n"
     ]
    }
   ],
   "source": [
    "v1 = list()\n",
    "print(v1)\n",
    "\n",
    "v1.append(1)\n",
    "print(v1)\n",
    "\n",
    "v1.append(2)\n",
    "print(v1)\n",
    "\n",
    "v1.append(3)\n",
    "print(v1)"
   ]
  },
  {
   "cell_type": "code",
   "execution_count": 18,
   "metadata": {},
   "outputs": [
    {
     "name": "stdout",
     "output_type": "stream",
     "text": [
      "[]\n",
      "[1]\n",
      "[1, 2]\n",
      "[1, 2, 3]\n"
     ]
    }
   ],
   "source": [
    "v1 = list()\n",
    "print(v1)\n",
    "\n",
    "v1.append(1)\n",
    "print(v1)\n",
    "\n",
    "v1.append(2)\n",
    "print(v1)\n",
    "\n",
    "v1.append(3)\n",
    "print(v1)\n"
   ]
  },
  {
   "cell_type": "code",
   "execution_count": 22,
   "metadata": {},
   "outputs": [
    {
     "name": "stdout",
     "output_type": "stream",
     "text": [
      "[]\n",
      "[3]\n",
      "[3, 8]\n",
      "[3, 8, 15]\n"
     ]
    }
   ],
   "source": [
    "# mathod.3\n",
    "v1, v2 = [1, 2, 3], [3, 4, 5]\n",
    "v3 = list()\n",
    "print(v3)\n",
    "\n",
    "v3.append(v1[0] * v2[0])\n",
    "print(v3)\n",
    "\n",
    "v3.append(v1[1] * v2[1])\n",
    "print(v3)\n",
    "\n",
    "v3.append(v1[2] * v2[2])\n",
    "print(v3)"
   ]
  },
  {
   "cell_type": "code",
   "execution_count": 24,
   "metadata": {},
   "outputs": [
    {
     "name": "stdout",
     "output_type": "stream",
     "text": [
      "[]\n",
      "[3]\n",
      "[3, 8]\n",
      "[3, 8, 15]\n"
     ]
    }
   ],
   "source": [
    "v1, v2= [1, 2, 3], [3, 4, 5]\n",
    "v3= list()\n",
    "print(v3)\n",
    "\n",
    "v3.append(v1[0] * v2[0])\n",
    "print(v3)\n",
    "\n",
    "v3.append(v1[1] * v2[1])\n",
    "print(v3)\n",
    "\n",
    "v3.append(v1[2] * v2[2])\n",
    "print(v3)\n",
    "\n"
   ]
  },
  {
   "cell_type": "code",
   "execution_count": 25,
   "metadata": {},
   "outputs": [
    {
     "name": "stdout",
     "output_type": "stream",
     "text": [
      "[]\n",
      "[3]\n",
      "[3, 8]\n",
      "[3, 8, 15]\n"
     ]
    }
   ],
   "source": [
    "v1, v2 = [1, 2, 3], [3, 4, 5]\n",
    "v3 = list()\n",
    "print(v3)\n",
    "\n",
    "v3.append(v1[0] * v2[0])\n",
    "print(v3)\n",
    "\n",
    "v3.append(v1[1] * v2[1])\n",
    "print(v3)\n",
    "\n",
    "v3.append(v1[2] * v2[2])\n",
    "print(v3)"
   ]
  },
  {
   "cell_type": "code",
   "execution_count": 28,
   "metadata": {},
   "outputs": [
    {
     "name": "stdout",
     "output_type": "stream",
     "text": [
      "5.477225575051661\n",
      "5.477225575051661\n"
     ]
    }
   ],
   "source": [
    "# Vector norm\n",
    "v1 = [1,2, 3]\n",
    "\n",
    "# method.1\n",
    "norm = (v1[0]**2+ v1[1]**2 + v2[2]**2)**0.5\n",
    "print(norm)\n",
    "\n",
    "# method.2\n",
    "norm = 0\n",
    "norm += v1[0]**2\n",
    "norm += v1[1]**2\n",
    "norm += v2[2]**2\n",
    "\n",
    "norm **= 0.5\n",
    "print(norm)"
   ]
  },
  {
   "cell_type": "code",
   "execution_count": 30,
   "metadata": {},
   "outputs": [
    {
     "name": "stdout",
     "output_type": "stream",
     "text": [
      "3.7416573867739413\n",
      "3.7416573867739413\n"
     ]
    }
   ],
   "source": [
    "v1 =[1, 2, 3]\n",
    "\n",
    "norm = (v1[0]**2+v1[1]**2+v1[2]**2)**0.5\n",
    "print(norm)\n",
    "\n",
    "norm = 0 # norm initialized\n",
    "norm += v1[0]**2\n",
    "norm += v1[1]**2\n",
    "norm += v1[2]**2\n",
    "norm **= 0.5\n",
    "\n",
    "print(norm)"
   ]
  },
  {
   "cell_type": "code",
   "execution_count": 31,
   "metadata": {},
   "outputs": [
    {
     "name": "stdout",
     "output_type": "stream",
     "text": [
      "3.7416573867739413\n",
      "3.7416573867739413\n"
     ]
    }
   ],
   "source": [
    "v1 = [1, 2, 3]\n",
    "\n",
    "norm = (v1[0]**2+v1[1]**2+v1[2]**2)**0.5\n",
    "print(norm)\n",
    "\n",
    "norm = 0\n",
    "norm += v1[0]**2\n",
    "norm += v1[1]**2\n",
    "norm += v1[2]**2\n",
    "\n",
    "norm **= 0.5\n",
    "print(norm)"
   ]
  },
  {
   "cell_type": "code",
   "execution_count": 32,
   "metadata": {},
   "outputs": [
    {
     "name": "stdout",
     "output_type": "stream",
     "text": [
      "3.7416573867739413\n",
      "3.7416573867739413\n"
     ]
    }
   ],
   "source": [
    "v1 = [1, 2, 3]\n",
    "\n",
    "norm = (v1[0]**2+v1[1]**2+v1[2]**2)**0.5\n",
    "print(norm)\n",
    "\n",
    "norm = 0\n",
    "\n",
    "norm += v1[0]**2\n",
    "norm += v1[1]**2\n",
    "norm += v1[2]**2\n",
    "\n",
    "norm **= 0.5\n",
    "print(norm)"
   ]
  },
  {
   "cell_type": "code",
   "execution_count": 33,
   "metadata": {},
   "outputs": [
    {
     "name": "stdout",
     "output_type": "stream",
     "text": [
      "3.7416573867739413\n",
      "3.7416573867739413\n"
     ]
    }
   ],
   "source": [
    "v1 = [1, 2, 3]\n",
    "\n",
    "norm = (v1[0]**2+v1[1]**2+v1[2]**2)**0.5\n",
    "print(norm)\n",
    "\n",
    "norm = 0\n",
    "norm += v1[0]**2\n",
    "norm += v1[1]**2\n",
    "norm += v1[2]**2\n",
    "\n",
    "norm **= 0.5\n",
    "print(norm)"
   ]
  },
  {
   "cell_type": "code",
   "execution_count": 67,
   "metadata": {},
   "outputs": [
    {
     "name": "stdout",
     "output_type": "stream",
     "text": [
      "3.7416573867739413 \n",
      "\n",
      "[0.2672612419124244, 0.5345224838248488, 0.8017837257372732] \n",
      "\n",
      "1.0\n"
     ]
    }
   ],
   "source": [
    "# Making Unit Vector(2)\n",
    "v1 = [1, 2, 3]\n",
    "\n",
    "norm = (v1[0]**2+v1[1]**2+v1[2]**2)**0.5\n",
    "print(norm, '\\n')\n",
    "\n",
    "v1[0] = v1[0]/ norm\n",
    "v1[1] = v1[1]/ norm\n",
    "v1[2] = v1[2]/ norm\n",
    "\n",
    "v1 = (v1[0]**2+v1[1]**2+v1[2]**2)**0.5\n",
    "print(v1)"
   ]
  },
  {
   "cell_type": "code",
   "execution_count": 57,
   "metadata": {},
   "outputs": [
    {
     "name": "stdout",
     "output_type": "stream",
     "text": [
      "1.0 \n",
      "\n"
     ]
    }
   ],
   "source": [
    "# Make Unit Vector(2) method 2\n",
    "v1 = [1, 2, 3]\n",
    "\n",
    "norm = (v1[0]**2+v1[1]**2+v1[2]**2)**0.5\n",
    "\n",
    "norm_vector = list()\n",
    "norm_vector.append(v1[0] /norm)\n",
    "norm_vector.append(v1[1] /norm)\n",
    "norm_vector.append(v1[2] /norm)\n",
    "\n",
    "norm = (norm_vector[0]**2+norm_vector[1]**2+norm_vector[2]**2)**0.5\n",
    "print(norm, '\\n')"
   ]
  },
  {
   "cell_type": "code",
   "execution_count": 68,
   "metadata": {},
   "outputs": [
    {
     "name": "stdout",
     "output_type": "stream",
     "text": [
      "3.7416573867739413 \n",
      "\n",
      "1.0\n"
     ]
    }
   ],
   "source": [
    "v1=[1, 2, 3]\n",
    "\n",
    "norm = (v1[0]**2+ v1[1]**2+v1[2]**2)**0.5\n",
    "print(norm, '\\n')\n",
    "\n",
    "v1[0] = v1[0]/norm\n",
    "v1[1] = v1[1]/norm\n",
    "v1[2] = v1[2]/norm\n",
    "\n",
    "v1 = (v1[0]**2+ v1[1]**2+ v1[2]**2)**0.5\n",
    "print(v1)"
   ]
  },
  {
   "cell_type": "code",
   "execution_count": 70,
   "metadata": {},
   "outputs": [
    {
     "name": "stdout",
     "output_type": "stream",
     "text": [
      "[0.2672612419124244, 0.5345224838248488, 0.8017837257372732]\n",
      "1.0 \n",
      "\n"
     ]
    }
   ],
   "source": [
    "v1 = [1, 2, 3]\n",
    "\n",
    "norm = (v1[0]**2+v1[1]**2+v1[2]**2)**0.5\n",
    "\n",
    "norm_vector = list()\n",
    "norm_vector.append(v1[0]/norm)\n",
    "norm_vector.append(v1[1]/norm)\n",
    "norm_vector.append(v1[2]/norm)\n",
    "print(norm_vector)\n",
    "\n",
    "norm_vector = (norm_vector[0]**2+norm_vector[1]**2+norm_vector[2]**2)**0.5\n",
    "print(norm_vector, '\\n')\n"
   ]
  },
  {
   "cell_type": "code",
   "execution_count": 72,
   "metadata": {},
   "outputs": [
    {
     "name": "stdout",
     "output_type": "stream",
     "text": [
      "26 \n",
      "\n",
      "26\n"
     ]
    }
   ],
   "source": [
    "# Dot product(2)\n",
    "v1, v2 = [1,2 ,3], [3, 4, 5]\n",
    "\n",
    "# method.1\n",
    "dot_product = v1[0]*v2[0]+v1[1]*v2[1]+v1[2]*v2[2]\n",
    "print(dot_product, '\\n')\n",
    "\n",
    "# method.2\n",
    "dot_prod = 0\n",
    "dot_prod += v1[0]*v2[0]\n",
    "dot_prod += v1[1]*v2[1]\n",
    "dot_prod += v1[2]*v2[2]\n",
    "print(dot_prod)\n",
    "\n"
   ]
  },
  {
   "cell_type": "code",
   "execution_count": 73,
   "metadata": {},
   "outputs": [
    {
     "name": "stdout",
     "output_type": "stream",
     "text": [
      "26 \n",
      "\n",
      "26 \n",
      "\n"
     ]
    }
   ],
   "source": [
    "v1, v2 = [1, 2, 3], [3, 4, 5]\n",
    "\n",
    "# method.1\n",
    "dot_product = v1[0]*v2[0]+v1[1]*v2[1]+v1[2]*v2[2]\n",
    "print(dot_product, '\\n')\n",
    "\n",
    "# method.2\n",
    "dot_prod = 0\n",
    "dot_prod += v1[0]*v2[0]\n",
    "dot_prod += v1[1]*v2[1]\n",
    "dot_prod += v1[2]*v2[2]\n",
    "\n",
    "print(dot_prod, '\\n')\n",
    "\n"
   ]
  },
  {
   "cell_type": "code",
   "execution_count": 75,
   "metadata": {},
   "outputs": [
    {
     "name": "stdout",
     "output_type": "stream",
     "text": [
      "3.4641016151377544\n"
     ]
    }
   ],
   "source": [
    "# Euclidean Distance\n",
    "v1, v2 = [1, 2, 3], [3, 4, 5]\n",
    "\n",
    "e_distance = 0\n",
    "e_distance += (v1[0] -v2[0])**2\n",
    "e_distance += (v1[1] - v2[1])**2\n",
    "e_distance += (v1[2] - v2[2])**2\n",
    "e_distance **= 0.5\n",
    "\n",
    "print(e_distance)"
   ]
  },
  {
   "cell_type": "code",
   "execution_count": 77,
   "metadata": {},
   "outputs": [
    {
     "name": "stdout",
     "output_type": "stream",
     "text": [
      "3.4641016151377544\n"
     ]
    }
   ],
   "source": [
    "v1, v2 = [1, 2, 3], [3, 4, 5]\n",
    "\n",
    "e_distance = 0\n",
    "e_distance += (v1[0] -v2[0])**2\n",
    "e_distance += (v1[1] - v2[1])**2\n",
    "e_distance += (v1[2] - v2[2])**2\n",
    "e_distance **= 0.5\n",
    "\n",
    "print(e_distance)"
   ]
  },
  {
   "cell_type": "code",
   "execution_count": 79,
   "metadata": {},
   "outputs": [
    {
     "name": "stdout",
     "output_type": "stream",
     "text": [
      "41.666666666666664\n"
     ]
    }
   ],
   "source": [
    "# Mean Squared Error(2)\n",
    "labels = [10, 25, 40]\n",
    "predictions = [10, 20, 30]\n",
    "n_data = len(labels)\n",
    "\n",
    "# method.1\n",
    "mse = 0\n",
    "mse += (labels[0]- predictions[0])**2\n",
    "mse += (labels[1]- predictions[1])**2\n",
    "mse += (labels[2]- predictions[2])**2\n",
    "mse /= n_data\n",
    "print(mse)"
   ]
  },
  {
   "cell_type": "code",
   "execution_count": 85,
   "metadata": {},
   "outputs": [
    {
     "name": "stdout",
     "output_type": "stream",
     "text": [
      "[0, 25, 100]\n",
      "41.666666666666664\n"
     ]
    }
   ],
   "source": [
    "labes = [10, 25, 40]\n",
    "predictions = [10, 20, 30]\n",
    "n_data = len(labels)\n",
    "\n",
    "s_errors = list()\n",
    "s_errors.append((labels[0]-predictions[0])**2)\n",
    "s_errors.append((labels[1]- predictions[1])**2)\n",
    "s_errors.append((labels[2]- predictions[2])**2)\n",
    "print(s_errors)\n",
    "\n",
    "mse = (s_errors[0]+s_errors[1]+s_errors[2])/n_data\n",
    "print(mse)"
   ]
  },
  {
   "cell_type": "code",
   "execution_count": 87,
   "metadata": {},
   "outputs": [
    {
     "name": "stdout",
     "output_type": "stream",
     "text": [
      "41.666666666666664\n"
     ]
    }
   ],
   "source": [
    "labels = [10, 25, 40]\n",
    "predictions = [10,20, 30]\n",
    "n_data = len(labels)\n",
    "\n",
    "mse = 0\n",
    "mse +=(labels[0]-predictions[0])**2\n",
    "mse +=(labels[1]-predictions[1])**2\n",
    "mse +=(labels[2]-predictions[2])**2\n",
    "mse /= n_data\n",
    "print(mse)"
   ]
  },
  {
   "cell_type": "code",
   "execution_count": 88,
   "metadata": {},
   "outputs": [
    {
     "name": "stdout",
     "output_type": "stream",
     "text": [
      "41.666666666666664\n"
     ]
    }
   ],
   "source": [
    "labes = [10, 25, 40]\n",
    "prediction= [10, 20, 30]\n",
    "n_data = len(labels)\n",
    "\n",
    "s_errors.append((labels[0]-predictions[0])**2)\n",
    "s_errors.append((labels[1]-predictions[1])**2)\n",
    "s_errors.append((labels[2]-predictions[2])**2)\n",
    "\n",
    "mse = (s_errors[0] + s_errors[1]+ s_errors[2])/n_data\n",
    "print(mse)"
   ]
  }
 ],
 "metadata": {
  "kernelspec": {
   "display_name": "Python 3.12.2 64-bit",
   "language": "python",
   "name": "python3"
  },
  "language_info": {
   "codemirror_mode": {
    "name": "ipython",
    "version": 3
   },
   "file_extension": ".py",
   "mimetype": "text/x-python",
   "name": "python",
   "nbconvert_exporter": "python",
   "pygments_lexer": "ipython3",
   "version": "3.12.2"
  },
  "orig_nbformat": 4,
  "vscode": {
   "interpreter": {
    "hash": "e055262477437ea8249124d94883794fa22737a9cfe4fd89c699b51a0131ad6c"
   }
  }
 },
 "nbformat": 4,
 "nbformat_minor": 2
}
