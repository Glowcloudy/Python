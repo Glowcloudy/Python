{
 "cells": [
  {
   "cell_type": "code",
   "execution_count": 11,
   "metadata": {},
   "outputs": [
    {
     "name": "stdout",
     "output_type": "stream",
     "text": [
      "[40, 20, 30, 10, 50]\n",
      "[] [50, 40, 30, 20, 10]\n"
     ]
    }
   ],
   "source": [
    "# Sorting\n",
    "scores= [40, 20, 30, 10, 50]\n",
    "print(scores)\n",
    "sorted_scores = list() # initialize of sorted scores\n",
    "\n",
    "# initialize Maximum, Maximum index\n",
    "for _ in range(len(scores)):\n",
    "    M, M_idx = scores[0], 0\n",
    "    \n",
    "    # Maximum number and Maximum number index\n",
    "    for score_idx in range(len(scores)):\n",
    "        if scores[score_idx] > M:\n",
    "            M = scores[score_idx]\n",
    "            M_idx = score_idx\n",
    "    \n",
    "    # Sorting the scores        \n",
    "    tmp_scores =list()  # for loop list of scores\n",
    "    for score_idx in range(len(scores)):\n",
    "        if score_idx == M_idx:     # high score of sorted\n",
    "            sorted_scores.append(scores[score_idx])\n",
    "        else:\n",
    "            tmp_scores.append(scores[score_idx])\n",
    "    scores = tmp_scores     # update scores\n",
    "\n",
    "# print Result\n",
    "print(scores, sorted_scores)"
   ]
  },
  {
   "cell_type": "code",
   "execution_count": 19,
   "metadata": {},
   "outputs": [
    {
     "name": "stdout",
     "output_type": "stream",
     "text": [
      "[] [50, 40, 30, 20, 10]\n"
     ]
    }
   ],
   "source": [
    "scores = [40, 20, 30, 10, 50]\n",
    "sorted_scores = list()\n",
    "\n",
    "for _ in range(len(scores)):\n",
    "    M, M_idx = scores[0], 0\n",
    "    \n",
    "    for score_idx in range(len(scores)):\n",
    "        if scores[score_idx] > M:\n",
    "            M=scores[score_idx]\n",
    "            M_idx=score_idx\n",
    "    \n",
    "    tmp_scores =list()\n",
    "    for score_idx in range(len(scores)):\n",
    "        if score_idx == M_idx:\n",
    "            sorted_scores.append(scores[score_idx])\n",
    "        else:\n",
    "            tmp_scores.append(scores[score_idx])\n",
    "    scores = tmp_scores \n",
    "\n",
    "print(scores, sorted_scores)         "
   ]
  },
  {
   "cell_type": "code",
   "execution_count": 23,
   "metadata": {},
   "outputs": [
    {
     "name": "stdout",
     "output_type": "stream",
     "text": [
      "[] [50, 40, 30, 20, 10]\n"
     ]
    }
   ],
   "source": [
    "scores= [40, 20, 30, 10, 50]\n",
    "sorted_scores =list()\n",
    "\n",
    "for _ in range(len(scores)):\n",
    "    M, M_idx = scores[0], 0\n",
    "    \n",
    "    for score_idx in range(len(scores)):\n",
    "        if scores[score_idx] > M:\n",
    "            M=scores[score_idx]\n",
    "            M_idx=score_idx\n",
    "    \n",
    "    tmp_scores = list()\n",
    "    for score_idx in range(len(scores)):\n",
    "        if score_idx == M_idx:\n",
    "            sorted_scores.append(scores[score_idx])\n",
    "        else:\n",
    "            tmp_scores.append(scores[score_idx])\n",
    "    scores= tmp_scores\n",
    "print(scores, sorted_scores)"
   ]
  },
  {
   "cell_type": "code",
   "execution_count": 26,
   "metadata": {},
   "outputs": [
    {
     "name": "stdout",
     "output_type": "stream",
     "text": [
      "[] [50, 40, 30, 20, 10]\n"
     ]
    }
   ],
   "source": [
    "scores=[40, 20, 30, 10, 50]\n",
    "sorted_scores= list()\n",
    "\n",
    "for _ in range(len(scores)):\n",
    "    M, M_idx = scores[0], 0\n",
    "    \n",
    "    for score_idx in range(len(scores)):\n",
    "        if scores[score_idx] > M:\n",
    "            M=scores[score_idx]\n",
    "            M_idx=score_idx\n",
    "    \n",
    "    tmp_scores=list()\n",
    "    for score_idx in range(len(scores)):\n",
    "        if score_idx == M_idx:\n",
    "            sorted_scores.append(scores[score_idx])\n",
    "        else:\n",
    "            tmp_scores.append(scores[score_idx])\n",
    "    scores= tmp_scores\n",
    "print(scores, sorted_scores)           \n",
    "            "
   ]
  },
  {
   "cell_type": "code",
   "execution_count": 27,
   "metadata": {},
   "outputs": [
    {
     "name": "stdout",
     "output_type": "stream",
     "text": [
      "[] [50, 40, 30, 20, 10]\n"
     ]
    }
   ],
   "source": [
    "scores= [40, 20, 30, 10, 50]\n",
    "sorted_scores = list()\n",
    "\n",
    "for _ in range(len(scores)):\n",
    "    M, M_idx = scores[0], 0\n",
    "    \n",
    "    for score_idx in range(len(scores)):\n",
    "        if scores[score_idx] > M:\n",
    "            M=scores[score_idx]\n",
    "            M_idx=score_idx\n",
    "    \n",
    "    tmp_scores=list()\n",
    "    for score_idx in range(len(scores)):\n",
    "        if score_idx == M_idx:\n",
    "            sorted_scores.append(scores[score_idx])\n",
    "        else:\n",
    "            tmp_scores.append(scores[score_idx])\n",
    "    scores= tmp_scores\n",
    "print(scores, sorted_scores)"
   ]
  },
  {
   "cell_type": "code",
   "execution_count": 28,
   "metadata": {},
   "outputs": [
    {
     "name": "stdout",
     "output_type": "stream",
     "text": [
      "[] [50, 40, 30, 20, 10]\n"
     ]
    }
   ],
   "source": [
    "scores=[40, 20, 10, 30, 50]\n",
    "sorted_scores=list()\n",
    "\n",
    "for _ in range(len(scores)):\n",
    "    M, M_idx = scores[0], 0\n",
    "    \n",
    "    for score_idx in range(len(scores)):\n",
    "        if scores[score_idx] > M:\n",
    "            M=scores[score_idx]\n",
    "            M_idx=score_idx\n",
    "            \n",
    "    tmp_scores=list()\n",
    "    for score_idx in range(len(scores)):\n",
    "        if score_idx == M_idx:\n",
    "            sorted_scores.append(scores[score_idx])\n",
    "        else:\n",
    "            tmp_scores.append(scores[score_idx])\n",
    "    scores=tmp_scores\n",
    "print(scores, sorted_scores)    "
   ]
  },
  {
   "cell_type": "code",
   "execution_count": 29,
   "metadata": {},
   "outputs": [
    {
     "name": "stdout",
     "output_type": "stream",
     "text": [
      "[] [50, 40, 30, 20, 10]\n"
     ]
    }
   ],
   "source": [
    "scores= [40, 20, 30, 10, 50]\n",
    "sorted_scores=list()\n",
    "\n",
    "for _ in range(len(scores)):\n",
    "    M, M_idx=scores[0], 0\n",
    "    \n",
    "    for score_idx in range(len(scores)):\n",
    "        if scores[score_idx] >M:\n",
    "            M=scores[score_idx]\n",
    "            M_idx=score_idx\n",
    "    \n",
    "    tmp_scores=list()\n",
    "    for score_idx in range(len(scores)):\n",
    "        if score_idx == M_idx:\n",
    "            sorted_scores.append(scores[score_idx])\n",
    "        else:\n",
    "            tmp_scores.append(scores[score_idx])\n",
    "    scores=tmp_scores\n",
    "print(scores, sorted_scores)"
   ]
  }
 ],
 "metadata": {
  "kernelspec": {
   "display_name": "Python 3.12.2 64-bit",
   "language": "python",
   "name": "python3"
  },
  "language_info": {
   "codemirror_mode": {
    "name": "ipython",
    "version": 3
   },
   "file_extension": ".py",
   "mimetype": "text/x-python",
   "name": "python",
   "nbconvert_exporter": "python",
   "pygments_lexer": "ipython3",
   "version": "3.12.2"
  },
  "orig_nbformat": 4,
  "vscode": {
   "interpreter": {
    "hash": "e055262477437ea8249124d94883794fa22737a9cfe4fd89c699b51a0131ad6c"
   }
  }
 },
 "nbformat": 4,
 "nbformat_minor": 2
}
