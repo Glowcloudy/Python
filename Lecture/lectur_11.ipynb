{
 "cells": [
  {
   "cell_type": "code",
   "execution_count": 4,
   "metadata": {},
   "outputs": [
    {
     "name": "stdout",
     "output_type": "stream",
     "text": [
      "pass!\n"
     ]
    }
   ],
   "source": [
    "score = 80\n",
    "\n",
    "if score > 50:\n",
    "    print('pass!')    "
   ]
  },
  {
   "cell_type": "code",
   "execution_count": 3,
   "metadata": {},
   "outputs": [
    {
     "name": "stdout",
     "output_type": "stream",
     "text": [
      "pass!\n"
     ]
    }
   ],
   "source": [
    "score = 54\n",
    "\n",
    "if score > 50:\n",
    "    print('pass!')"
   ]
  },
  {
   "cell_type": "code",
   "execution_count": 5,
   "metadata": {},
   "outputs": [
    {
     "name": "stdout",
     "output_type": "stream",
     "text": [
      "pass!\n"
     ]
    }
   ],
   "source": [
    "score = 80\n",
    "cutoff = 50\n",
    "\n",
    "if score > cutoff:\n",
    "    print('pass!')\n",
    "else:\n",
    "    print('Try again!')"
   ]
  },
  {
   "cell_type": "code",
   "execution_count": 7,
   "metadata": {},
   "outputs": [
    {
     "name": "stdout",
     "output_type": "stream",
     "text": [
      "Try again!\n"
     ]
    }
   ],
   "source": [
    "score = 40\n",
    "cutoff = 50\n",
    "\n",
    "if score > cutoff:\n",
    "    print('pass!')\n",
    "else:\n",
    "    print('Try again!')"
   ]
  },
  {
   "cell_type": "code",
   "execution_count": 10,
   "metadata": {},
   "outputs": [
    {
     "name": "stdout",
     "output_type": "stream",
     "text": [
      "pass!\n"
     ]
    }
   ],
   "source": [
    "score = 60\n",
    "cutoff = 50\n",
    "\n",
    "if score > cutoff:\n",
    "    print('pass!')\n",
    "else:\n",
    "    print('Try again!')"
   ]
  },
  {
   "cell_type": "code",
   "execution_count": 12,
   "metadata": {},
   "outputs": [
    {
     "name": "stdout",
     "output_type": "stream",
     "text": [
      "3 min 20 seconds\n"
     ]
    }
   ],
   "source": [
    "seconds = 200\n",
    "\n",
    "if seconds > 60:\n",
    "    minutes = seconds // 60\n",
    "    seconds -= minutes*60\n",
    "else:\n",
    "    minutes = 0\n",
    "    \n",
    "print(minutes, 'min', seconds, 'seconds')"
   ]
  },
  {
   "cell_type": "code",
   "execution_count": 13,
   "metadata": {},
   "outputs": [
    {
     "name": "stdout",
     "output_type": "stream",
     "text": [
      "3 minutes 20 secondes\n"
     ]
    }
   ],
   "source": [
    "seconds = 200\n",
    "\n",
    "if seconds > 60:\n",
    "    minutes = seconds // 60\n",
    "    seconds -= minutes*60\n",
    "else:\n",
    "    minutes = 0\n",
    "\n",
    "print(minutes, 'minutes', seconds, 'secondes')"
   ]
  },
  {
   "cell_type": "code",
   "execution_count": 17,
   "metadata": {},
   "outputs": [
    {
     "name": "stdout",
     "output_type": "stream",
     "text": [
      "0 minutes 60 secondes\n"
     ]
    }
   ],
   "source": [
    "seconds = 60\n",
    "\n",
    "if seconds > 60:\n",
    "    minutes = seconds//60\n",
    "    seconds -= minutes*60\n",
    "else:\n",
    "    minutes=0\n",
    "\n",
    "print(minutes,'minutes', seconds,'secondes')"
   ]
  },
  {
   "cell_type": "code",
   "execution_count": 21,
   "metadata": {},
   "outputs": [
    {
     "name": "stdout",
     "output_type": "stream",
     "text": [
      "3 minutes 180 secondes\n"
     ]
    }
   ],
   "source": [
    "seconds = 200\n",
    "\n",
    "if seconds >= 60:\n",
    "    minutes = seconds//60\n",
    "    seconds = minutes*60\n",
    "else:\n",
    "    minutes=0\n",
    "    \n",
    "print(minutes,'minutes', seconds,'secondes')"
   ]
  },
  {
   "cell_type": "code",
   "execution_count": 22,
   "metadata": {},
   "outputs": [
    {
     "name": "stdout",
     "output_type": "stream",
     "text": [
      "1 hours 23 minutes 20 secondes\n"
     ]
    }
   ],
   "source": [
    "seconds = 5000\n",
    "\n",
    "if seconds >= 3600:\n",
    "    hours = seconds//3600\n",
    "    seconds -= hours*3600\n",
    "else:\n",
    "    hours = 0\n",
    "    \n",
    "if seconds >= 60:\n",
    "    minutes = seconds//60\n",
    "    seconds -= minutes*60\n",
    "else:\n",
    "    minutes = 0\n",
    "    \n",
    "print(hours, 'hours', minutes,'minutes', seconds,'secondes')\n",
    "    "
   ]
  },
  {
   "cell_type": "code",
   "execution_count": 25,
   "metadata": {},
   "outputs": [
    {
     "name": "stdout",
     "output_type": "stream",
     "text": [
      "1 hours 23 minutes 20 seconds\n"
     ]
    }
   ],
   "source": [
    "seconds = 5000\n",
    "\n",
    "if seconds >= 3600:\n",
    "    hours = seconds//3600\n",
    "    seconds -= hours*3600\n",
    "else:\n",
    "    hours=0\n",
    "\n",
    "if seconds >= 60:\n",
    "    minutes = seconds//60\n",
    "    seconds -= minutes*60\n",
    "else:\n",
    "    minutes = 0\n",
    "print(hours, 'hours', minutes,'minutes', seconds, 'seconds')"
   ]
  },
  {
   "cell_type": "code",
   "execution_count": 26,
   "metadata": {},
   "outputs": [
    {
     "name": "stdout",
     "output_type": "stream",
     "text": [
      "1 hours 23 minutes 20 seconds\n"
     ]
    }
   ],
   "source": [
    "seconds = 5000\n",
    "\n",
    "if seconds >= 3600:\n",
    "    hours = seconds//3600\n",
    "    seconds -= hours*3600\n",
    "else:\n",
    "    hours=0\n",
    "\n",
    "if seconds >= 60:\n",
    "    minutes = seconds//60\n",
    "    seconds-= minutes*60\n",
    "else:\n",
    "    minutes = 0\n",
    "print(hours, 'hours', minutes, 'minutes', seconds, 'seconds')\n",
    "    "
   ]
  },
  {
   "cell_type": "code",
   "execution_count": 27,
   "metadata": {},
   "outputs": [
    {
     "name": "stdout",
     "output_type": "stream",
     "text": [
      "짝수 입니다.\n"
     ]
    }
   ],
   "source": [
    "number =10\n",
    "\n",
    "if number % 2 == 0:\n",
    "    print('짝수 입니다.')\n",
    "else:\n",
    "    print('홀수 입니다.')"
   ]
  },
  {
   "cell_type": "code",
   "execution_count": 28,
   "metadata": {},
   "outputs": [
    {
     "name": "stdout",
     "output_type": "stream",
     "text": [
      "홀수 입니다.\n"
     ]
    }
   ],
   "source": [
    "number = 15\n",
    "\n",
    "if number % 2 == 0:\n",
    "    print('짝수 입니다.')\n",
    "else:\n",
    "    print('홀수 입니다.')"
   ]
  },
  {
   "cell_type": "code",
   "execution_count": 29,
   "metadata": {},
   "outputs": [
    {
     "name": "stdout",
     "output_type": "stream",
     "text": [
      "Even!\n"
     ]
    }
   ],
   "source": [
    "number = 20\n",
    "\n",
    "if number % 2==0:\n",
    "    print('Even!')\n",
    "else:\n",
    "    print('Odd!')"
   ]
  },
  {
   "cell_type": "code",
   "execution_count": 35,
   "metadata": {},
   "outputs": [
    {
     "name": "stdout",
     "output_type": "stream",
     "text": [
      "First Number\n"
     ]
    }
   ],
   "source": [
    "num1, num2 = 30, 10\n",
    "\n",
    "if num1 > num2:\n",
    "    print('First Number')\n",
    "elif num1 == num2:\n",
    "    print('Equal')\n",
    "else:\n",
    "    print('Seconds Number')"
   ]
  },
  {
   "cell_type": "code",
   "execution_count": 36,
   "metadata": {},
   "outputs": [
    {
     "name": "stdout",
     "output_type": "stream",
     "text": [
      "Eqaul\n"
     ]
    }
   ],
   "source": [
    "num1, num2 = 10, 10\n",
    "\n",
    "if num1 > num2:\n",
    "    print('First Number')\n",
    "elif num1 == num2:\n",
    "    print('Equal')\n",
    "else:\n",
    "    print('Seconde Number')"
   ]
  },
  {
   "cell_type": "code",
   "execution_count": 37,
   "metadata": {},
   "outputs": [
    {
     "name": "stdout",
     "output_type": "stream",
     "text": [
      "Seconds Number\n"
     ]
    }
   ],
   "source": [
    "num1, num2 = 10, 20\n",
    "\n",
    "if num1 > num2:\n",
    "    print('First Number')\n",
    "elif num1 ==num2:\n",
    "    print('Equal')\n",
    "else:\n",
    "    print('Seconds Number')"
   ]
  },
  {
   "cell_type": "code",
   "execution_count": 38,
   "metadata": {},
   "outputs": [
    {
     "name": "stdout",
     "output_type": "stream",
     "text": [
      "A\n"
     ]
    }
   ],
   "source": [
    "score = 90\n",
    "\n",
    "if score >= 80:\n",
    "    grade = 'A'\n",
    "elif score > 60:\n",
    "    grade = 'B'\n",
    "elif score > 40:\n",
    "    grade = 'C'\n",
    "else:\n",
    "    grade = 'F'\n",
    "\n",
    "print(grade)"
   ]
  },
  {
   "cell_type": "code",
   "execution_count": 39,
   "metadata": {},
   "outputs": [
    {
     "name": "stdout",
     "output_type": "stream",
     "text": [
      "B\n"
     ]
    }
   ],
   "source": [
    "score = 80\n",
    "\n",
    "if score > 80:\n",
    "    grade = 'A'\n",
    "elif score >60:\n",
    "    grade = 'B'\n",
    "elif score >40:\n",
    "    grade= 'c'\n",
    "else:\n",
    "    grade ='F'\n",
    "print(grade)"
   ]
  },
  {
   "cell_type": "code",
   "execution_count": 40,
   "metadata": {},
   "outputs": [
    {
     "name": "stdout",
     "output_type": "stream",
     "text": [
      "F\n"
     ]
    }
   ],
   "source": [
    "score = 40\n",
    "\n",
    "if score > 80:\n",
    "    grade = 'A'\n",
    "elif score > 60:\n",
    "    grade = 'B'\n",
    "elif score > 40:\n",
    "    grade = 'C'\n",
    "else:\n",
    "    grade = 'F'\n",
    "print(grade)"
   ]
  },
  {
   "cell_type": "code",
   "execution_count": null,
   "metadata": {},
   "outputs": [],
   "source": []
  },
  {
   "cell_type": "code",
   "execution_count": null,
   "metadata": {},
   "outputs": [],
   "source": []
  },
  {
   "cell_type": "code",
   "execution_count": null,
   "metadata": {},
   "outputs": [],
   "source": []
  },
  {
   "cell_type": "code",
   "execution_count": null,
   "metadata": {},
   "outputs": [],
   "source": []
  }
 ],
 "metadata": {
  "kernelspec": {
   "display_name": "Python 3.12.2 64-bit",
   "language": "python",
   "name": "python3"
  },
  "language_info": {
   "codemirror_mode": {
    "name": "ipython",
    "version": 3
   },
   "file_extension": ".py",
   "mimetype": "text/x-python",
   "name": "python",
   "nbconvert_exporter": "python",
   "pygments_lexer": "ipython3",
   "version": "3.12.2"
  },
  "orig_nbformat": 4,
  "vscode": {
   "interpreter": {
    "hash": "e055262477437ea8249124d94883794fa22737a9cfe4fd89c699b51a0131ad6c"
   }
  }
 },
 "nbformat": 4,
 "nbformat_minor": 2
}
