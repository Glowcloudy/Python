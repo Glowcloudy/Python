{
 "cells": [
  {
   "cell_type": "code",
   "execution_count": 2,
   "metadata": {},
   "outputs": [
    {
     "name": "stdout",
     "output_type": "stream",
     "text": [
      "Try again!\n",
      "Try again!\n",
      "Try again!\n",
      "Pass!\n",
      "Pass!\n"
     ]
    }
   ],
   "source": [
    "scores =[20, 50, 10, 60, 70]\n",
    "cutoff = 50\n",
    "\n",
    "for score in scores:\n",
    "    if score > cutoff:\n",
    "        print('Pass!')\n",
    "    else:\n",
    "        print('Try again!')"
   ]
  },
  {
   "cell_type": "code",
   "execution_count": 3,
   "metadata": {},
   "outputs": [
    {
     "name": "stdout",
     "output_type": "stream",
     "text": [
      "Try again!\n",
      "Try again!\n",
      "Try again!\n",
      "Pass!\n",
      "Pass!\n"
     ]
    }
   ],
   "source": [
    "scores = [20, 50, 10, 60, 70]\n",
    "cutoff = 50\n",
    "\n",
    "for score in scores:\n",
    "    if score > cutoff:\n",
    "        print('Pass!')\n",
    "    else:\n",
    "        print('Try again!')"
   ]
  },
  {
   "cell_type": "code",
   "execution_count": 4,
   "metadata": {},
   "outputs": [
    {
     "name": "stdout",
     "output_type": "stream",
     "text": [
      "Try again!\n",
      "Try again!\n",
      "Try again!\n",
      "Pass!\n",
      "Pass!\n"
     ]
    }
   ],
   "source": [
    "scores = [20, 50, 10, 60, 70]\n",
    "cutoff = 50\n",
    "\n",
    "for score in scores:\n",
    "    if score > cutoff:\n",
    "        print('Pass!')\n",
    "    else:\n",
    "        print('Try again!')"
   ]
  },
  {
   "cell_type": "code",
   "execution_count": 5,
   "metadata": {},
   "outputs": [
    {
     "name": "stdout",
     "output_type": "stream",
     "text": [
      "Try again!\n",
      "Try again!\n",
      "Try again!\n",
      "Pass!\n",
      "Pass!\n"
     ]
    }
   ],
   "source": [
    "scores = [20, 50, 10, 60, 70]\n",
    "cutoff = 50\n",
    "\n",
    "for score in scores:\n",
    "    if score > cutoff:\n",
    "        print('Pass!')\n",
    "    else:\n",
    "        print('Try again!')"
   ]
  },
  {
   "cell_type": "code",
   "execution_count": 6,
   "metadata": {},
   "outputs": [
    {
     "name": "stdout",
     "output_type": "stream",
     "text": [
      "['F', 'C', 'F', 'C', 'B']\n"
     ]
    }
   ],
   "source": [
    "scores = [20, 50, 10, 60, 70]\n",
    "grades= list()\n",
    "\n",
    "for score in scores:\n",
    "    if score > 80:\n",
    "        grades.append('A')\n",
    "    elif score > 60:\n",
    "        grades.append('B')\n",
    "    elif score > 40:\n",
    "        grades.append('C')\n",
    "    else:\n",
    "        grades.append('F')\n",
    "print(grades)"
   ]
  },
  {
   "cell_type": "code",
   "execution_count": 7,
   "metadata": {},
   "outputs": [
    {
     "name": "stdout",
     "output_type": "stream",
     "text": [
      "['F', 'C', 'F', 'C', 'A']\n"
     ]
    }
   ],
   "source": [
    "scores= [20, 50, 10, 60, 90]\n",
    "grades = list()\n",
    "\n",
    "for score in scores:\n",
    "    if score > 80:\n",
    "        grades.append('A')\n",
    "    elif score > 60:\n",
    "        grades.append('B')\n",
    "    elif score > 40:\n",
    "        grades.append('C')\n",
    "    else:\n",
    "        grades.append('F')\n",
    "print(grades)\n",
    "    "
   ]
  },
  {
   "cell_type": "code",
   "execution_count": 8,
   "metadata": {},
   "outputs": [
    {
     "name": "stdout",
     "output_type": "stream",
     "text": [
      "['F', 'C', 'B', 'A', 'F']\n"
     ]
    }
   ],
   "source": [
    "scores = [20, 50, 70, 90, 10]\n",
    "grades = list()\n",
    "\n",
    "for score in scores:\n",
    "    if score > 80:\n",
    "        grades.append('A')\n",
    "    elif score > 60:\n",
    "        grades.append('B')\n",
    "    elif score > 40:\n",
    "        grades.append('C')\n",
    "    else:\n",
    "        grades.append('F')\n",
    "print(grades)"
   ]
  },
  {
   "cell_type": "code",
   "execution_count": 10,
   "metadata": {},
   "outputs": [
    {
     "name": "stdout",
     "output_type": "stream",
     "text": [
      "Mean of pass score:  73.33333333333333\n",
      "Mean of no pass score:  22.5\n"
     ]
    }
   ],
   "source": [
    "scores = [20, 50, 10, 60, 70, 90, 10]\n",
    "cutoff = 50\n",
    "\n",
    "p_score_sum , n_p = 0, 0\n",
    "n_score_sum , n_np= 0, 0\n",
    "\n",
    "for score in scores:\n",
    "    if score > cutoff:\n",
    "        p_score_sum += score\n",
    "        n_p += 1\n",
    "    else:\n",
    "        n_score_sum += score\n",
    "        n_np += 1\n",
    "\n",
    "p_score_mean = p_score_sum / n_p\n",
    "n_score_mean = n_score_sum / n_np\n",
    "\n",
    "print(\"Mean of pass score: \", p_score_mean)\n",
    "print('Mean of no pass score: ', n_score_mean)"
   ]
  },
  {
   "cell_type": "code",
   "execution_count": 11,
   "metadata": {},
   "outputs": [
    {
     "name": "stdout",
     "output_type": "stream",
     "text": [
      "Mean of pass score:  75.0\n",
      "Mean of no pass score:  26.666666666666668\n"
     ]
    }
   ],
   "source": [
    "scores = [20, 50, 10, 60, 90]\n",
    "cutoff = 50\n",
    "\n",
    "p_score_sum, n_p = 0, 0 \n",
    "n_score_sum, n_np = 0, 0\n",
    "\n",
    "for score in scores:\n",
    "    if score > cutoff:\n",
    "        p_score_sum += score\n",
    "        n_p +=1\n",
    "    else:\n",
    "        n_score_sum += score\n",
    "        n_np+=1\n",
    "\n",
    "p_score_mean = p_score_sum/n_p\n",
    "n_score_mean = n_score_sum/n_np\n",
    "\n",
    "print('Mean of pass score: ', p_score_mean)\n",
    "print('Mean of no pass score: ', n_score_mean)"
   ]
  },
  {
   "cell_type": "code",
   "execution_count": 12,
   "metadata": {},
   "outputs": [
    {
     "name": "stdout",
     "output_type": "stream",
     "text": [
      "Mean of pass score:  75.0\n",
      "Mean of no pass score:  26.666666666666668\n"
     ]
    }
   ],
   "source": [
    "scores = [20, 50, 10, 60, 90]\n",
    "cutoff = 50\n",
    "\n",
    "p_score_sum, n_p = 0, 0 \n",
    "n_score_sum, n_np = 0, 0\n",
    "\n",
    "for score in scores:\n",
    "    if score > cutoff:\n",
    "        p_score_sum+= score\n",
    "        n_p+=1\n",
    "    else:\n",
    "        n_score_sum+= score\n",
    "        n_np+=1\n",
    "\n",
    "p_score_mean= p_score_sum/n_p\n",
    "n_score_mean= n_score_sum/n_np\n",
    "\n",
    "print('Mean of pass score: ', p_score_mean)\n",
    "print('Mean of no pass score: ', n_score_mean)"
   ]
  },
  {
   "cell_type": "code",
   "execution_count": 13,
   "metadata": {},
   "outputs": [
    {
     "name": "stdout",
     "output_type": "stream",
     "text": [
      "Mean of pass score:  75.0\n",
      "Mean of no pass score: 26.666666666666668\n"
     ]
    }
   ],
   "source": [
    "scores = [20, 50, 10, 60, 90]\n",
    "cutoff = 50\n",
    "\n",
    "p_score_sum, n_p = 0, 0 \n",
    "n_score_sum, n_np = 0, 0\n",
    "\n",
    "for score in scores:\n",
    "    if score > cutoff:\n",
    "        p_score_sum+= score\n",
    "        n_p+=1\n",
    "    else:\n",
    "        n_score_sum+= score\n",
    "        n_np+=1\n",
    "        \n",
    "p_score_mean = p_score_sum / n_p\n",
    "n_score_mean = n_score_sum / n_np\n",
    "\n",
    "print('Mean of pass score: ', p_score_mean)\n",
    "print('Mean of no pass score:', n_score_mean)"
   ]
  },
  {
   "cell_type": "code",
   "execution_count": 15,
   "metadata": {},
   "outputs": [
    {
     "name": "stdout",
     "output_type": "stream",
     "text": [
      "Even Number\n",
      "Odd Number\n",
      "Even Number\n",
      "Odd Number\n",
      "Even Number\n",
      "Odd Number\n",
      "Even Number\n",
      "Odd Number\n",
      "Even Number\n",
      "Odd Number\n",
      "Even Number\n",
      "Odd Number\n",
      "Even Number\n",
      "Odd Number\n",
      "Even Number\n",
      "Odd Number\n",
      "Even Number\n",
      "Odd Number\n",
      "Even Number\n",
      "Odd Number\n",
      "Not and Integer\n"
     ]
    }
   ],
   "source": [
    "numbers = list()\n",
    "for num in range(20):\n",
    "    numbers.append(num)\n",
    "numbers.append(3.14)\n",
    "\n",
    "for num in numbers:\n",
    "    if num % 2 ==0:\n",
    "        print('Even Number')\n",
    "    elif num % 2 ==1:\n",
    "        print('Odd Number')\n",
    "    else:\n",
    "        print('Not an Integer')"
   ]
  },
  {
   "cell_type": "code",
   "execution_count": 17,
   "metadata": {},
   "outputs": [
    {
     "name": "stdout",
     "output_type": "stream",
     "text": [
      "Even Numbers\n",
      "Odd Numbers\n",
      "Even Numbers\n",
      "Odd Numbers\n",
      "Even Numbers\n",
      "Odd Numbers\n",
      "Even Numbers\n",
      "Odd Numbers\n",
      "Even Numbers\n",
      "Odd Numbers\n",
      "Even Numbers\n",
      "Odd Numbers\n",
      "Even Numbers\n",
      "Odd Numbers\n",
      "Even Numbers\n",
      "Odd Numbers\n",
      "Even Numbers\n",
      "Odd Numbers\n",
      "Even Numbers\n",
      "Odd Numbers\n",
      "Not and Integer\n"
     ]
    }
   ],
   "source": [
    "numbers = list()\n",
    "\n",
    "for num in range(20):\n",
    "    numbers.append(num)\n",
    "numbers.append(3.14)\n",
    "\n",
    "for num in numbers:\n",
    "    if num % 2 == 0:\n",
    "        print('Even Numbers')\n",
    "    elif num % 2 == 1:\n",
    "        print('Odd Numbers')\n",
    "    else:\n",
    "        print('Not an Integer')"
   ]
  },
  {
   "cell_type": "code",
   "execution_count": 18,
   "metadata": {},
   "outputs": [
    {
     "name": "stdout",
     "output_type": "stream",
     "text": [
      "Even Number\n",
      "Odd Number\n",
      "Even Number\n",
      "Odd Number\n",
      "Even Number\n",
      "Odd Number\n",
      "Even Number\n",
      "Odd Number\n",
      "Even Number\n",
      "Odd Number\n",
      "Not an Integer\n"
     ]
    }
   ],
   "source": [
    "numbers = list()\n",
    "\n",
    "for num in range(10):\n",
    "    numbers.append(num)\n",
    "numbers.append(2.1413)\n",
    "\n",
    "for num in numbers:\n",
    "    if num % 2 == 0:\n",
    "        print('Even Number')\n",
    "    elif num % 2 == 1:\n",
    "        print('Odd Number')\n",
    "    else:\n",
    "        print('Not an Integer')"
   ]
  },
  {
   "cell_type": "code",
   "execution_count": 20,
   "metadata": {},
   "outputs": [
    {
     "name": "stdout",
     "output_type": "stream",
     "text": [
      "Even Number\n",
      "Odd Number\n",
      "Even Number\n",
      "Odd Number\n",
      "Even Number\n",
      "Not an Integer\n"
     ]
    }
   ],
   "source": [
    "numbers = list()\n",
    "\n",
    "for num in range(5):\n",
    "    numbers.append(num)\n",
    "numbers.append(2.1413)\n",
    "\n",
    "for num in numbers:\n",
    "    if num % 2 == 0:\n",
    "        print('Even Number')\n",
    "    elif num % 2 == 1:\n",
    "        print('Odd Number')\n",
    "    else:\n",
    "        print('Not an Integer')"
   ]
  },
  {
   "cell_type": "code",
   "execution_count": 22,
   "metadata": {},
   "outputs": [
    {
     "name": "stdout",
     "output_type": "stream",
     "text": [
      "1683\n"
     ]
    }
   ],
   "source": [
    "multiple_of = 3\n",
    "numbers = list()\n",
    "for num in range(100):\n",
    "    numbers.append(num)\n",
    "\n",
    "sum_multiple_of_n =0\n",
    "for num in numbers:\n",
    "    if num % multiple_of == 0:\n",
    "        sum_multiple_of_n+=num\n",
    "print(sum_multiple_of_n)"
   ]
  },
  {
   "cell_type": "code",
   "execution_count": 24,
   "metadata": {},
   "outputs": [
    {
     "name": "stdout",
     "output_type": "stream",
     "text": [
      "1683\n"
     ]
    }
   ],
   "source": [
    "multiple_of = 3\n",
    "numbers = list()\n",
    "\n",
    "for num in range(100):\n",
    "    numbers.append(num)\n",
    "\n",
    "sum_multiple_of_n = 0\n",
    "for num in numbers:\n",
    "    if num % multiple_of ==0:\n",
    "        sum_multiple_of_n+=num\n",
    "print(sum_multiple_of_n)"
   ]
  },
  {
   "cell_type": "code",
   "execution_count": 25,
   "metadata": {},
   "outputs": [
    {
     "name": "stdout",
     "output_type": "stream",
     "text": [
      "1683\n"
     ]
    }
   ],
   "source": [
    "multiple_of = 3\n",
    "numbers = list()\n",
    "\n",
    "for num in range(100):\n",
    "    numbers.append(num)\n",
    "\n",
    "sum_multiple_of_n= 0\n",
    "for num in numbers:\n",
    "    if num % multiple_of== 0:\n",
    "        sum_multiple_of_n+=num\n",
    "print(sum_multiple_of_n)"
   ]
  },
  {
   "cell_type": "code",
   "execution_count": 31,
   "metadata": {},
   "outputs": [
    {
     "name": "stdout",
     "output_type": "stream",
     "text": [
      "Max value:  90\n",
      "Min value:  20\n"
     ]
    }
   ],
   "source": [
    "scores =[60, 40, 70, 20, 30, 90]\n",
    "N, m = 0, 100\n",
    "\n",
    "for score in scores:\n",
    "    if score > N:\n",
    "        N = score\n",
    "\n",
    "    if score < m:\n",
    "        m = score\n",
    "\n",
    "print('Max value: ', N)\n",
    "print('Min value: ', m)\n"
   ]
  },
  {
   "cell_type": "code",
   "execution_count": 32,
   "metadata": {},
   "outputs": [
    {
     "name": "stdout",
     "output_type": "stream",
     "text": [
      "Max Value:  70\n",
      "Min Value:  20\n"
     ]
    }
   ],
   "source": [
    "scores=[60, 40, 70, 20, 30]\n",
    "# Max = N, Min = m\n",
    "N, m = 0, 100\n",
    "\n",
    "for score in scores:\n",
    "    if score > N:\n",
    "        N= score\n",
    "    if score <m:\n",
    "        m=score\n",
    "print('Max Value: ', N)\n",
    "print('Min Value: ', m)"
   ]
  },
  {
   "cell_type": "code",
   "execution_count": 33,
   "metadata": {},
   "outputs": [
    {
     "name": "stdout",
     "output_type": "stream",
     "text": [
      "Max Value:  70\n",
      "Min Value:  20\n"
     ]
    }
   ],
   "source": [
    "scores= [60, 40, 20, 70, 30]\n",
    "N, m = 0, 100\n",
    "for score in scores:\n",
    "        N= score\n",
    "    if score < m:\n",
    "        m=score\n",
    "print('Max Value: ', N)\n",
    "print('Min Value: ', m)"
   ]
  },
  {
   "cell_type": "code",
   "execution_count": null,
   "metadata": {},
   "outputs": [],
   "source": []
  },
  {
   "cell_type": "code",
   "execution_count": null,
   "metadata": {},
   "outputs": [],
   "source": []
  }
 ],
 "metadata": {
  "kernelspec": {
   "display_name": "Python 3.12.2 64-bit",
   "language": "python",
   "name": "python3"
  },
  "language_info": {
   "codemirror_mode": {
    "name": "ipython",
    "version": 3
   },
   "file_extension": ".py",
   "mimetype": "text/x-python",
   "name": "python",
   "nbconvert_exporter": "python",
   "pygments_lexer": "ipython3",
   "version": "3.12.2"
  },
  "orig_nbformat": 4,
  "vscode": {
   "interpreter": {
    "hash": "e055262477437ea8249124d94883794fa22737a9cfe4fd89c699b51a0131ad6c"
   }
  }
 },
 "nbformat": 4,
 "nbformat_minor": 2
}
