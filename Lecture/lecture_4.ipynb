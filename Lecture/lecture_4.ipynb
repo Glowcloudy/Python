{
 "cells": [
  {
   "cell_type": "markdown",
   "metadata": {},
   "source": [
    "Lecture4. Vector Calculations 2"
   ]
  },
  {
   "cell_type": "code",
   "execution_count": 2,
   "metadata": {},
   "outputs": [
    {
     "name": "stdout",
     "output_type": "stream",
     "text": [
      "26\n"
     ]
    }
   ],
   "source": [
    "# Dot Product\n",
    "x1, y1, z1 = 1, 2, 3\n",
    "x2, y2, z2 = 3, 4, 5\n",
    "\n",
    "dot_prod= x1*x2 + y1*y2 + z1*z2\n",
    "print(dot_prod)"
   ]
  },
  {
   "cell_type": "code",
   "execution_count": 3,
   "metadata": {},
   "outputs": [
    {
     "name": "stdout",
     "output_type": "stream",
     "text": [
      "32\n"
     ]
    }
   ],
   "source": [
    "x1, y1, z1 = 1, 2, 3\n",
    "x2, y2, z2 = 4, 5, 6\n",
    "\n",
    "dot_prod= x1*x2 + y1*y2 + z1*z2\n",
    "print(dot_prod)"
   ]
  },
  {
   "cell_type": "code",
   "execution_count": 4,
   "metadata": {},
   "outputs": [
    {
     "name": "stdout",
     "output_type": "stream",
     "text": [
      "38\n"
     ]
    }
   ],
   "source": [
    "x1, y1, z1 = 1, 2, 3\n",
    "x2, y2, z2 = 5, 6, 7\n",
    "\n",
    "dot_prod= x1*x2 + y1*y2 + z1*z2\n",
    "print(dot_prod)"
   ]
  },
  {
   "cell_type": "code",
   "execution_count": 6,
   "metadata": {},
   "outputs": [
    {
     "name": "stdout",
     "output_type": "stream",
     "text": [
      "Euclien distance:  3.4641016151377544\n"
     ]
    }
   ],
   "source": [
    "# Eucliden distance\n",
    "x1, y1, z1 = 1, 2, 3\n",
    "x2, y2, z2 = 3, 4, 5\n",
    "\n",
    "e_distanse = ((x2-x1)**2 + (y2-y1)**2 + (z2-z1)**2)**0.5\n",
    "print(\"Euclien distance: \", e_distanse)"
   ]
  },
  {
   "cell_type": "code",
   "execution_count": 7,
   "metadata": {},
   "outputs": [
    {
     "name": "stdout",
     "output_type": "stream",
     "text": [
      "Eucliden distance:  3.4641016151377544\n"
     ]
    }
   ],
   "source": [
    "x1, y1, z1 = 1, 2, 3\n",
    "x2, y2, z2 = 4, 5, 6\n",
    "\n",
    "e_distance = ((x2-x1)**2 + (y2-y1)**2 + (z2-z1)**2)**0.5\n",
    "print(\"Eucliden distance: \", e_distanse)"
   ]
  },
  {
   "cell_type": "code",
   "execution_count": 8,
   "metadata": {},
   "outputs": [
    {
     "name": "stdout",
     "output_type": "stream",
     "text": [
      "Eucliden distance:  3.4641016151377544\n"
     ]
    }
   ],
   "source": [
    "x1, y1, z1 = 1, 2, 3\n",
    "x2, y2, z2 = 5, 6, 7\n",
    "\n",
    "e_distance = ((x2-x1)**2+ (y2-y1)**2+ (z2-z1)**2)**0.5\n",
    "print(\"Eucliden distance: \", e_distanse)"
   ]
  },
  {
   "cell_type": "code",
   "execution_count": 9,
   "metadata": {},
   "outputs": [
    {
     "name": "stdout",
     "output_type": "stream",
     "text": [
      "Eucliden distance:  3.4641016151377544\n"
     ]
    }
   ],
   "source": [
    "x1, y1, z1 = 1, 2, 3\n",
    "x2, y2, z2 = 8, 9, 10\n",
    "\n",
    "e_distance = ((x2-x1)**2+ (y2-y1)**2+ (z2-z1)**2)**0.5\n",
    "print(\"Eucliden distance: \", e_distanse)"
   ]
  },
  {
   "cell_type": "code",
   "execution_count": null,
   "metadata": {},
   "outputs": [],
   "source": [
    "# Squared Error\n"
   ]
  },
  {
   "cell_type": "code",
   "execution_count": null,
   "metadata": {},
   "outputs": [],
   "source": []
  },
  {
   "cell_type": "code",
   "execution_count": null,
   "metadata": {},
   "outputs": [],
   "source": []
  },
  {
   "cell_type": "code",
   "execution_count": null,
   "metadata": {},
   "outputs": [],
   "source": []
  },
  {
   "cell_type": "code",
   "execution_count": null,
   "metadata": {},
   "outputs": [],
   "source": []
  },
  {
   "cell_type": "code",
   "execution_count": null,
   "metadata": {},
   "outputs": [],
   "source": []
  }
 ],
 "metadata": {
  "kernelspec": {
   "display_name": "Python 3.12.2 64-bit",
   "language": "python",
   "name": "python3"
  },
  "language_info": {
   "codemirror_mode": {
    "name": "ipython",
    "version": 3
   },
   "file_extension": ".py",
   "mimetype": "text/x-python",
   "name": "python",
   "nbconvert_exporter": "python",
   "pygments_lexer": "ipython3",
   "version": "3.12.2"
  },
  "orig_nbformat": 4,
  "vscode": {
   "interpreter": {
    "hash": "e055262477437ea8249124d94883794fa22737a9cfe4fd89c699b51a0131ad6c"
   }
  }
 },
 "nbformat": 4,
 "nbformat_minor": 2
}
