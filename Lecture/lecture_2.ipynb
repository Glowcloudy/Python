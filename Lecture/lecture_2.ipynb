{
 "cells": [
  {
   "cell_type": "code",
   "execution_count": 3,
   "metadata": {},
   "outputs": [
    {
     "name": "stdout",
     "output_type": "stream",
     "text": [
      "2.2222222222222223\n",
      "466.6666666666667\n"
     ]
    }
   ],
   "source": [
    "# 평균의 제곱/ 제곱의 평균\n",
    "score1, score2, score3 = 10, 20, 30\n",
    "n_student =3\n",
    "\n",
    "score_mean = (score1+score2+score3)/ n_student\n",
    "square_of_mean = score_mean/n_student**2\n",
    "mean_of_square = (score1**2+score2**2+score3**2)/ n_student\n",
    "print(square_of_mean)\n",
    "print(mean_of_square)"
   ]
  },
  {
   "cell_type": "code",
   "execution_count": 4,
   "metadata": {},
   "outputs": [
    {
     "name": "stdout",
     "output_type": "stream",
     "text": [
      "400.0\n",
      "466.6666666666667\n"
     ]
    }
   ],
   "source": [
    "score1, score2, score3 = 10, 20, 30\n",
    "n_student =3\n",
    "\n",
    "mean=(score1+score2+score3)/n_student\n",
    "square_of_mean = mean**2\n",
    "mean_of_square = (score1**2+score2**2+score3**2)/ n_student\n",
    "\n",
    "print(square_of_mean)\n",
    "print(mean_of_square)"
   ]
  },
  {
   "cell_type": "code",
   "execution_count": 6,
   "metadata": {},
   "outputs": [
    {
     "name": "stdout",
     "output_type": "stream",
     "text": [
      "400.0\n",
      "466.6666666666667\n"
     ]
    }
   ],
   "source": [
    "score1, score2, score3 = 10, 20, 30\n",
    "n_student =3\n",
    "\n",
    "mean=(score1+score2+score3)/n_student\n",
    "square_of_mean = mean**2\n",
    "mean_of_square = (score1**2+score2**2+score3**2)/ n_student\n",
    "\n",
    "print(square_of_mean)\n",
    "print(mean_of_square)"
   ]
  },
  {
   "cell_type": "code",
   "execution_count": 8,
   "metadata": {},
   "outputs": [
    {
     "name": "stdout",
     "output_type": "stream",
     "text": [
      "400.0\n",
      "466.6666666666667\n"
     ]
    }
   ],
   "source": [
    "score1, score2, score3 = 10, 20, 30\n",
    "n_student =3\n",
    "\n",
    "mean = (score1+score2+score3)/n_student\n",
    "square_of_mean = mean**2\n",
    "mean_of_square = (score1**2+score2**2+score3**2)/n_student\n",
    "\n",
    "print(square_of_mean)\n",
    "print(mean_of_square)\n"
   ]
  },
  {
   "cell_type": "code",
   "execution_count": 9,
   "metadata": {},
   "outputs": [
    {
     "name": "stdout",
     "output_type": "stream",
     "text": [
      "900.0\n",
      "966.6666666666666\n"
     ]
    }
   ],
   "source": [
    "score1, score2, score3 = 20, 30, 40\n",
    "n_student=3\n",
    "\n",
    "mean=(score1+score2+score3)/n_student\n",
    "square_of_mean=mean**2\n",
    "mean_of_square=(score1**2+score2**2+score3**2)/n_student\n",
    "\n",
    "print(square_of_mean)\n",
    "print(mean_of_square)"
   ]
  },
  {
   "cell_type": "code",
   "execution_count": 1,
   "metadata": {},
   "outputs": [
    {
     "name": "stdout",
     "output_type": "stream",
     "text": [
      "mean 20.0\n",
      "score_variance 66.66666666666669\n",
      "score_std 8.16496580927726\n"
     ]
    }
   ],
   "source": [
    "score1, score2, score3 = 10, 20, 30\n",
    "n_student=3\n",
    "\n",
    "mean = (score1+score2+score3)/n_student\n",
    "square_of_mean = mean**2\n",
    "mean_of_square = (score1**2+score2**2+score3**2)/n_student\n",
    "\n",
    "score_variance = mean_of_square - square_of_mean\n",
    "score_std = score_variance**0.5\n",
    "\n",
    "print(\"mean\", mean)\n",
    "print(\"score_variance\", score_variance)\n",
    "print(\"score_std\", score_std) "
   ]
  },
  {
   "cell_type": "code",
   "execution_count": 11,
   "metadata": {},
   "outputs": [
    {
     "name": "stdout",
     "output_type": "stream",
     "text": [
      "mean 20.0\n",
      "score_variance 66.66666666666669\n",
      "score_std 8.16496580927726\n"
     ]
    }
   ],
   "source": [
    "# 분산과 표준편차\n",
    "score1, score2, score3 = 10, 20, 30\n",
    "n_student=3\n",
    "\n",
    "mean = (score1+score2+score3)/n_student\n",
    "square_of_mean= mean**2\n",
    "mean_of_square = (score1**2+score2**2+score3**2)/n_student\n",
    "\n",
    "score_variance = mean_of_square - square_of_mean\n",
    "score_std = score_variance**0.5\n",
    "\n",
    "print(\"mean\", mean)\n",
    "print(\"score_variance\", score_variance)\n",
    "print(\"score_std\", score_std)"
   ]
  },
  {
   "cell_type": "code",
   "execution_count": 12,
   "metadata": {},
   "outputs": [
    {
     "name": "stdout",
     "output_type": "stream",
     "text": [
      "mean 20.0\n",
      "score_variance 66.66666666666669\n",
      "score_std 8.16496580927726\n"
     ]
    }
   ],
   "source": [
    "score1, score2, score3 = 10, 20, 30\n",
    "n_student=3\n",
    "\n",
    "mean = (score1+score2+score3)/n_student\n",
    "square_of_mean= mean**2\n",
    "mean_of_square = (score1**2+score2**2+score3**2)/n_student\n",
    "\n",
    "score_variance = mean_of_square - square_of_mean\n",
    "score_std = score_variance**0.5\n",
    "\n",
    "print(\"mean\", mean)\n",
    "print(\"score_variance\", score_variance)\n",
    "print(\"score_std\", score_std)"
   ]
  },
  {
   "cell_type": "code",
   "execution_count": 13,
   "metadata": {},
   "outputs": [
    {
     "name": "stdout",
     "output_type": "stream",
     "text": [
      "mean 20.0\n",
      "score_variance 66.66666666666669\n",
      "score_std 8.16496580927726\n"
     ]
    }
   ],
   "source": [
    "score1, score2, score3 = 10, 20, 30\n",
    "n_student=3\n",
    "\n",
    "mean = (score1+score2+score3)/n_student\n",
    "square_of_mean = mean**2\n",
    "mean_of_square = (score1**2+score2**2+score3**2)/n_student\n",
    "\n",
    "score_variance = mean_of_square-square_of_mean\n",
    "score_std=score_variance**0.5\n",
    "\n",
    "print(\"mean\", mean)\n",
    "print(\"score_variance\", score_variance)\n",
    "print(\"score_std\", score_std)"
   ]
  },
  {
   "cell_type": "code",
   "execution_count": 2,
   "metadata": {},
   "outputs": [
    {
     "name": "stdout",
     "output_type": "stream",
     "text": [
      "mean:  20.0\n",
      "standard deviation:  8.16496580927726\n",
      "mean:  0.0\n",
      "standard deviation:  1.0\n"
     ]
    }
   ],
   "source": [
    "score1, score2, score3 = 10, 20, 30\n",
    "n_student = 3\n",
    "\n",
    "score_mean = (score1+score2+score3)/n_student\n",
    "square_of_mean = score_mean**2\n",
    "mean_of_square = (score1**2+score2**2+score3**2)/n_student\n",
    "score_variance = mean_of_square-square_of_mean\n",
    "score_std = score_variance**0.5\n",
    "\n",
    "print(\"mean: \", score_mean)\n",
    "print(\"standard deviation: \", score_std)\n",
    "\n",
    "score1 = (score1-score_mean)/score_std\n",
    "score2 = (score2-score_mean)/score_std\n",
    "score3 = (score3-score_mean)/score_std\n",
    "\n",
    "score_mean = (score1+score2+score3)/n_student\n",
    "square_of_mean = score_mean**2\n",
    "mean_of_square = (score1**2+score2**2+score3**2)/n_student\n",
    "score_variance = mean_of_square-square_of_mean\n",
    "score_std = score_variance**0.5\n",
    "\n",
    "print(\"mean: \", score_mean)\n",
    "print(\"standard deviation: \", score_std)"
   ]
  },
  {
   "cell_type": "code",
   "execution_count": 16,
   "metadata": {},
   "outputs": [
    {
     "name": "stdout",
     "output_type": "stream",
     "text": [
      "mean:  20.0\n",
      "standard deviation:  8.16496580927726\n",
      "mean:  0.0\n",
      "standard deviation:  1.0\n"
     ]
    }
   ],
   "source": [
    "#Standardization\n",
    "score1, score2, score3 = 10, 20, 30\n",
    "n_student = 3\n",
    "\n",
    "score_mean = (score1+score2+score3)/n_student\n",
    "square_of_mean = score_mean**2\n",
    "mean_of_square = (score1**2+score2**2+score3**2)/n_student\n",
    "score_variance = mean_of_square-square_of_mean\n",
    "score_std = score_variance**0.5\n",
    "\n",
    "print(\"mean: \", score_mean)\n",
    "print(\"standard deviation: \", score_std)\n",
    "\n",
    "score1 = (score1-score_mean)/score_std\n",
    "score2 = (score2-score_mean)/score_std\n",
    "score3 = (score3-score_mean)/score_std\n",
    "\n",
    "score_mean = (score1+score2+score3)/n_student\n",
    "square_of_mean = score_mean**2\n",
    "mean_of_square = (score1**2+score2**2+score3**2)/n_student\n",
    "score_variance = mean_of_square-square_of_mean\n",
    "score_std = score_variance**0.5\n",
    "\n",
    "print(\"mean: \", score_mean)\n",
    "print(\"standard deviation: \", score_std)"
   ]
  }
 ],
 "metadata": {
  "kernelspec": {
   "display_name": "Python 3.12.2 64-bit",
   "language": "python",
   "name": "python3"
  },
  "language_info": {
   "codemirror_mode": {
    "name": "ipython",
    "version": 3
   },
   "file_extension": ".py",
   "mimetype": "text/x-python",
   "name": "python",
   "nbconvert_exporter": "python",
   "pygments_lexer": "ipython3",
   "version": "3.12.2"
  },
  "orig_nbformat": 4,
  "vscode": {
   "interpreter": {
    "hash": "e055262477437ea8249124d94883794fa22737a9cfe4fd89c699b51a0131ad6c"
   }
  }
 },
 "nbformat": 4,
 "nbformat_minor": 2
}
