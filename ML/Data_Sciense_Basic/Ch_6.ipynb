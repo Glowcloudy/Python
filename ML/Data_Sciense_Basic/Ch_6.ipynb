{
 "cells": [
  {
   "cell_type": "markdown",
   "metadata": {},
   "source": [
    "6-1: Max/Avg Pooling"
   ]
  },
  {
   "cell_type": "markdown",
   "metadata": {},
   "source": [
    "Code.6-1-1: Max Pooling"
   ]
  },
  {
   "cell_type": "code",
   "execution_count": 7,
   "metadata": {},
   "outputs": [
    {
     "name": "stdout",
     "output_type": "stream",
     "text": [
      "x: (1, 10, 1)\n",
      "[-0.99408567 -0.36502454 -0.51029503 -0.25843957 -1.1751118  -2.3684921\n",
      "  0.00828075  1.6627219   0.45045993 -1.63395   ]\n",
      "pooled_max(Tensorflow): (1, 9, 1)\n",
      "[-0.36502454 -0.36502454 -0.25843957 -0.25843957 -1.1751118   0.00828075\n",
      "  1.6627219   1.6627219   0.45045993]\n",
      "pooled_max(Manual): (9,)\n",
      "[-0.36502454 -0.36502454 -0.25843957 -0.25843957 -1.17511177  0.00828075\n",
      "  1.66272187  1.66272187  0.45045993]\n"
     ]
    }
   ],
   "source": [
    "import numpy as np\n",
    "import tensorflow as tf\n",
    "\n",
    "from tensorflow.keras.layers import MaxPooling1D\n",
    "\n",
    "L, f, s =10, 2, 1\n",
    "\n",
    "x= tf.random.normal(shape=(1, L,1))\n",
    "pool_max = MaxPooling1D(pool_size=f, strides=s)\n",
    "pooled_max = pool_max(x)\n",
    "\n",
    "print(\"x: {}\\n{}\".format(x.shape, x.numpy().flatten()))\n",
    "print(\"pooled_max(Tensorflow): {}\\n{}\".format(pooled_max.shape, pooled_max.numpy().flatten()))\n",
    "\n",
    "\n",
    "# Manual\n",
    "x = x.numpy().flatten()\n",
    "pooled_max_man = np.zeros((L -f + 1,))\n",
    "for i in range(L-f + 1):\n",
    "    window = x[i:i+f]\n",
    "    pooled_max_man[i] = np.max(window)\n",
    "\n",
    "print(\"pooled_max(Manual): {}\\n{}\".format(pooled_max_man.shape, pooled_max_man))\n",
    "\n"
   ]
  },
  {
   "cell_type": "markdown",
   "metadata": {},
   "source": [
    "Code.6-1-2: Average Pooling"
   ]
  },
  {
   "cell_type": "code",
   "execution_count": 11,
   "metadata": {},
   "outputs": [
    {
     "name": "stdout",
     "output_type": "stream",
     "text": [
      "x: (1, 10, 1)\n",
      "[-0.84000224 -0.01348868  0.36423856 -0.1766504   0.21998553  0.0182764\n",
      "  0.8590493  -0.70815986  0.6717431  -0.8773922 ]\n",
      "pooled_avg(Tensorflow): (1, 9, 1)\n",
      "[-0.42674544  0.17537494  0.09379408  0.02166756  0.11913096  0.43866286\n",
      "  0.07544473 -0.01820838 -0.10282454]\n",
      "pooled_avg_mean(Manual): (9,)\n",
      "[-0.42674544  0.17537494  0.09379408  0.02166756  0.11913096  0.43866286\n",
      "  0.07544473 -0.01820838 -0.10282454]\n"
     ]
    }
   ],
   "source": [
    "import numpy as np\n",
    "import tensorflow as tf\n",
    "\n",
    "from tensorflow.keras.layers import AveragePooling1D\n",
    "\n",
    "L, f, s =10, 2, 1\n",
    "\n",
    "x= tf.random.normal(shape=(1, L,1))\n",
    "pool_avg = AveragePooling1D(pool_size=f, strides=s)\n",
    "pooled_avg = pool_avg(x)\n",
    "\n",
    "print(\"x: {}\\n{}\".format(x.shape, x.numpy().flatten()))\n",
    "print(\"pooled_avg(Tensorflow): {}\\n{}\".format(pooled_avg.shape, pooled_avg.numpy().flatten()))\n",
    "\n",
    "# Manual\n",
    "\n",
    "x = x.numpy().flatten()\n",
    "pooled_avg_man = np.zeros((L -f + 1,))\n",
    "for i in range(L-f + 1):\n",
    "    window = x[i:i+f]\n",
    "    pooled_avg_man[i] = np.mean(window)\n",
    "\n",
    "print(\"pooled_avg_mean(Manual): {}\\n{}\".format(pooled_avg_man.shape, pooled_avg_man))\n"
   ]
  },
  {
   "cell_type": "markdown",
   "metadata": {},
   "source": [
    "6-2: 2D Max/Avg Pooling"
   ]
  },
  {
   "cell_type": "markdown",
   "metadata": {},
   "source": [
    "Code.6-2-1: 2D Max Pooling"
   ]
  },
  {
   "cell_type": "code",
   "execution_count": 23,
   "metadata": {},
   "outputs": [
    {
     "name": "stdout",
     "output_type": "stream",
     "text": [
      "x: (1, 5, 5, 1)\n",
      "[[ 0.47351816  1.0318073  -1.3997251   0.52663445 -0.3926086 ]\n",
      " [ 0.6849758  -0.34114856  0.20860851 -0.37414783 -0.14817508]\n",
      " [ 0.59603035  0.6434641   0.43336403 -1.221865   -0.38886914]\n",
      " [ 1.222959    0.57558304 -0.6374326  -0.19814833 -0.40540224]\n",
      " [ 1.2700887  -2.0693772   1.144808    0.03701729  1.1116526 ]]\n",
      "pooled_max(Tensorflow): (1, 4, 4, 1)\n",
      "[[ 1.0318073   1.0318073   0.52663445  0.52663445]\n",
      " [ 0.6849758   0.6434641   0.43336403 -0.14817508]\n",
      " [ 1.222959    0.6434641   0.43336403 -0.19814833]\n",
      " [ 1.2700887   1.144808    1.144808    1.1116526 ]]\n",
      "pooled max(Manual): (4, 4)\n",
      "[[ 1.0318073   1.0318073   0.52663445  0.52663445]\n",
      " [ 0.6849758   0.64346409  0.43336403 -0.14817508]\n",
      " [ 1.22295904  0.64346409  0.43336403 -0.19814833]\n",
      " [ 1.27008867  1.14480805  1.14480805  1.11165261]]\n"
     ]
    }
   ],
   "source": [
    "import numpy as np\n",
    "import tensorflow as tf\n",
    "\n",
    "from tensorflow.keras.layers import MaxPooling2D\n",
    "\n",
    "N, n_H, n_W, n_C = 1, 5, 5, 1\n",
    "f, s = 2, 1\n",
    "\n",
    "x= tf.random.normal(shape=(N, n_H, n_W, n_C))\n",
    "pool_max = MaxPooling2D(pool_size=f, strides=s)\n",
    "pooled_max = pool_max(x)\n",
    "\n",
    "print(\"x: {}\\n{}\".format(x.shape, x.numpy().squeeze()))\n",
    "print(\"pooled_max(Tensorflow): {}\\n{}\".format(pooled_max.shape, pooled_max.numpy().squeeze()))\n",
    "\n",
    "# Manual\n",
    "x = x.numpy().squeeze()\n",
    "pooled_max_man = np.zeros(shape=(n_H - f + 1, n_W - f + 1))\n",
    "for i in range(n_H - f + 1):\n",
    "    for j in range(n_W - f + 1):\n",
    "        window = x[i : i+f, j : j+f]\n",
    "        pooled_max_man[i, j] = np.max(window)\n",
    "\n",
    "print(\"pooled max(Manual): {}\\n{}\".format(pooled_max_man.shape,\n",
    "                                          pooled_max_man))\n"
   ]
  },
  {
   "cell_type": "markdown",
   "metadata": {},
   "source": [
    "Code.6-2-2: 2D Average Pooling"
   ]
  },
  {
   "cell_type": "code",
   "execution_count": 24,
   "metadata": {},
   "outputs": [
    {
     "name": "stdout",
     "output_type": "stream",
     "text": [
      "x: (1, 5, 5, 1)\n",
      "[[ 0.21940939 -0.6878008  -0.06987957  0.7211153   2.03736   ]\n",
      " [-1.4991447   0.6727637   0.3663228   0.4365492   0.4713086 ]\n",
      " [ 1.0875227  -1.717605    0.04097221  0.46558893 -0.34974107]\n",
      " [-2.6727843   0.35982314 -1.0758941   1.1951046   0.09840611]\n",
      " [ 1.1594263   1.0264179   0.68314326  1.8315254   0.89402974]]\n",
      "pooled_avg(Tensorflow): (1, 3, 3, 1)\n",
      "[[-0.17638214  0.0253363   0.45773295]\n",
      " [-0.49311373  0.08262505  0.18317968]\n",
      " [-0.12321973  0.3121196   0.42034832]]\n",
      "pooled avg(Manual): (3, 3)\n",
      "[[-0.17638212  0.02533629  0.45773295]\n",
      " [-0.49311373  0.08262505  0.18317968]\n",
      " [-0.12321976  0.3121196   0.42034832]]\n"
     ]
    }
   ],
   "source": [
    "import numpy as np\n",
    "import tensorflow as tf\n",
    "\n",
    "from tensorflow.keras.layers import AveragePooling2D\n",
    "\n",
    "N, n_H, n_W, n_C = 1, 5, 5, 1\n",
    "f, s = 3, 1\n",
    "\n",
    "x= tf.random.normal(shape=(N, n_H, n_W, n_C))\n",
    "pool_avg = AveragePooling2D(pool_size=f, strides=s)\n",
    "pooled_avg = pool_avg(x)\n",
    "\n",
    "print(\"x: {}\\n{}\".format(x.shape, x.numpy().squeeze()))\n",
    "print(\"pooled_avg(Tensorflow): {}\\n{}\".format(pooled_avg.shape, pooled_avg.numpy().squeeze()))\n",
    "\n",
    "# Manual\n",
    "x = x.numpy().squeeze()\n",
    "pooled_avg_man = np.zeros(shape=(n_H - f + 1, n_W - f + 1))\n",
    "for i in range(n_H - f +1):\n",
    "    for j in range(n_W - f +1):\n",
    "        window = x[i : i+f, j : j+f]\n",
    "        pooled_avg_man[i, j] = np.mean(window)\n",
    "\n",
    "print(\"pooled avg(Manual): {}\\n{}\".format(pooled_avg_man.shape,\n",
    "                                          pooled_avg_man))"
   ]
  },
  {
   "cell_type": "markdown",
   "metadata": {},
   "source": [
    "6-3: 3D Max/Avg Pooling"
   ]
  },
  {
   "cell_type": "markdown",
   "metadata": {},
   "source": [
    "Code.6-3-1: 3D Max Pooling"
   ]
  },
  {
   "cell_type": "code",
   "execution_count": 45,
   "metadata": {},
   "outputs": [
    {
     "name": "stdout",
     "output_type": "stream",
     "text": [
      "pooled_max(Tensorflow): (1, 2, 2, 3)\n",
      "[[[0.10830654 1.0034595 ]\n",
      "  [1.1218007  0.37096536]]\n",
      "\n",
      " [[1.0766754  0.5331262 ]\n",
      "  [0.255309   0.7513643 ]]\n",
      "\n",
      " [[1.1351019  0.50589055]\n",
      "  [1.2281375  1.5983205 ]]]\n",
      "pooled max(Manual): (2, 2, 3)\n",
      "[[[0.10830654 1.00345945]\n",
      "  [1.12180066 0.37096536]]\n",
      "\n",
      " [[1.07667542 0.53312618]\n",
      "  [0.25530899 0.75136429]]\n",
      "\n",
      " [[1.13510191 0.50589055]\n",
      "  [1.22813749 1.59832048]]]\n"
     ]
    }
   ],
   "source": [
    "import math\n",
    "import numpy as np\n",
    "import tensorflow as tf\n",
    "\n",
    "from tensorflow.keras.layers import MaxPooling2D\n",
    "\n",
    "N, n_H, n_W, n_C = 1, 5, 5, 3\n",
    "f, s = 2, 2\n",
    "\n",
    "x = tf.random.normal(shape=(N, n_H, n_W, n_C))\n",
    "\n",
    "\n",
    "pool_max = MaxPooling2D(pool_size=f, strides=s)\n",
    "pooled_max = pool_max(x)\n",
    "\n",
    "pooled_max_t = np.transpose(pooled_max.numpy().squeeze(), (2, 0, 1))\n",
    "print(\"pooled_max(Tensorflow): {}\\n{}\".format(pooled_max.shape, pooled_max_t))\n",
    "\n",
    "# Manual\n",
    "x = x.numpy().squeeze()\n",
    "n_H_ = math. floor((n_H - f)/s + 1)\n",
    "n_W_ = math.floor((n_W - f)/s + 1)\n",
    "pooled_max_man = np.zeros(shape=(n_H_, n_W_, n_C))\n",
    "\n",
    "for c in range(n_C):\n",
    "  c_image = x[:, :, c]\n",
    "  h_ = 0\n",
    "  \n",
    "  for h in range(0, n_H - f + 1, s):\n",
    "    w_=0\n",
    "    for w in range(0, n_W - f + 1 , s):\n",
    "      window = c_image[h : h+f, w : w+f]\n",
    "      pooled_max_man[h_, w_, c] = np.max(window)\n",
    "      \n",
    "      w_ +=1\n",
    "    h_ +=1\n",
    "\n",
    "pooled_max_t = np.transpose(pooled_max_man, (2, 0, 1))\n",
    "print(\"pooled max(Manual): {}\\n{}\".format (pooled_max_man.shape,\n",
    "                                            pooled_max_t))"
   ]
  },
  {
   "cell_type": "markdown",
   "metadata": {},
   "source": [
    "6-4: Padding"
   ]
  },
  {
   "cell_type": "markdown",
   "metadata": {},
   "source": [
    "Code.6-4-1: ZeroPadding2D Layer"
   ]
  },
  {
   "cell_type": "code",
   "execution_count": 52,
   "metadata": {},
   "outputs": [
    {
     "name": "stdout",
     "output_type": "stream",
     "text": [
      "(1, 28, 28, 3)\n",
      "(1, 32, 32, 3)\n"
     ]
    }
   ],
   "source": [
    "import numpy as np\n",
    "import tensorflow as tf\n",
    "\n",
    "from tensorflow.keras.layers import ZeroPadding2D\n",
    "\n",
    "image = tf.random.normal(shape=(1, 28, 28, 3))\n",
    "print(image.shape)\n",
    "# print(np.transpose(image.numpy().squeeze(), (2, 0, 1)))\n",
    "\n",
    "zero_padding = ZeroPadding2D(padding=2)\n",
    "y = zero_padding(image)\n",
    "print(y.shape)\n",
    "# print(np.transpose(y.numpy().squeeze(), (2, 0, 1)))"
   ]
  },
  {
   "cell_type": "markdown",
   "metadata": {},
   "source": [
    "Code.6-4-2: Zero Padding with Conv2D Layers"
   ]
  },
  {
   "cell_type": "code",
   "execution_count": 53,
   "metadata": {},
   "outputs": [
    {
     "name": "stdout",
     "output_type": "stream",
     "text": [
      "(1, 28, 28, 1)\n"
     ]
    }
   ],
   "source": [
    "import tensorflow as tf\n",
    "\n",
    "from tensorflow.keras.layers import Conv2D\n",
    "\n",
    "image = tf.random.normal(shape=(1, 28, 28, 3))\n",
    "conv = Conv2D(filters=1, kernel_size=3, padding='same')\n",
    "y = conv(image)\n",
    "print(y.shape)"
   ]
  },
  {
   "cell_type": "markdown",
   "metadata": {},
   "source": [
    "6-5: Strides"
   ]
  },
  {
   "cell_type": "markdown",
   "metadata": {},
   "source": [
    "Code.6-5-1: Strides in Conv2D Layers"
   ]
  },
  {
   "cell_type": "code",
   "execution_count": 61,
   "metadata": {},
   "outputs": [
    {
     "name": "stdout",
     "output_type": "stream",
     "text": [
      "(1, 28, 28, 3)\n",
      "(1, 13, 13, 1)\n"
     ]
    }
   ],
   "source": [
    "import tensorflow as tf\n",
    "\n",
    "from tensorflow.keras.layers import Conv2D\n",
    "\n",
    "images = tf.random.normal(shape=(1, 28, 28, 3))\n",
    "conv = Conv2D(filters=1, kernel_size=3, padding='valid', strides=2)\n",
    "y = conv(images)\n",
    "\n",
    "print(image.shape)\n",
    "print(y.shape)"
   ]
  },
  {
   "cell_type": "markdown",
   "metadata": {},
   "source": [
    "Code.6-5-2: Strides in Pooling Layers"
   ]
  },
  {
   "cell_type": "code",
   "execution_count": 62,
   "metadata": {},
   "outputs": [
    {
     "name": "stdout",
     "output_type": "stream",
     "text": [
      "(1, 28, 28, 3)\n",
      "(1, 13, 13, 3)\n"
     ]
    }
   ],
   "source": [
    "import tensorflow as tf\n",
    "\n",
    "from tensorflow.keras.layers import MaxPooling2D\n",
    "\n",
    "images = tf.random.normal(shape=(1, 28, 28, 3))\n",
    "pool = MaxPooling2D(pool_size=3, strides=2)\n",
    "y = pool(images)\n",
    "\n",
    "print(image.shape)\n",
    "print(y.shape)"
   ]
  }
 ],
 "metadata": {
  "kernelspec": {
   "display_name": "base",
   "language": "python",
   "name": "python3"
  },
  "language_info": {
   "codemirror_mode": {
    "name": "ipython",
    "version": 3
   },
   "file_extension": ".py",
   "mimetype": "text/x-python",
   "name": "python",
   "nbconvert_exporter": "python",
   "pygments_lexer": "ipython3",
   "version": "3.8.8"
  }
 },
 "nbformat": 4,
 "nbformat_minor": 2
}
