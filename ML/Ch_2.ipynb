{
 "cells": [
  {
   "cell_type": "markdown",
   "metadata": {},
   "source": [
    "2-1: Dense Layers"
   ]
  },
  {
   "cell_type": "markdown",
   "metadata": {},
   "source": [
    "Code.2-1-1: Shape of Dense Layers"
   ]
  },
  {
   "cell_type": "code",
   "execution_count": 5,
   "metadata": {},
   "outputs": [
    {
     "name": "stdout",
     "output_type": "stream",
     "text": [
      "======= Input/Weight/Bias ========\n",
      "x:  (8, 10)\n",
      "W:  (10, 3)\n",
      "B:  (3,)\n",
      "Y:  (8, 3)\n"
     ]
    }
   ],
   "source": [
    "import tensorflow as tf\n",
    "\n",
    "from tensorflow.keras.layers import Dense\n",
    "\n",
    "N, n_feature = 8, 10\n",
    "x = tf.random.normal(shape=(N, n_feature))\n",
    "\n",
    "n_neuron = 3\n",
    "dense = Dense(units=n_neuron, activation='sigmoid')\n",
    "Y = dense(x)\n",
    "\n",
    "W, B = dense.get_weights()\n",
    "\n",
    "print(\"======= Input/Weight/Bias ========\")\n",
    "print(\"x: \", x.shape)\n",
    "print(\"W: \", W.shape)\n",
    "print(\"B: \", B.shape)\n",
    "print(\"Y: \", Y.shape)"
   ]
  },
  {
   "cell_type": "markdown",
   "metadata": {},
   "source": [
    "Code.2-1-2: Output Calculations"
   ]
  },
  {
   "cell_type": "code",
   "execution_count": 35,
   "metadata": {},
   "outputs": [
    {
     "name": "stdout",
     "output_type": "stream",
     "text": [
      "Y(Tensorflow): \n",
      " [[0.6227197  0.3540123  0.83642465]\n",
      " [0.6656204  0.5844965  0.66431904]\n",
      " [0.38678843 0.57822806 0.24596138]\n",
      " [0.50226665 0.7700345  0.29330742]]\n",
      "Y(with matrix multiplication): \n",
      " [[0.62271976 0.3540123  0.83642465]\n",
      " [0.66562045 0.5844965  0.6643191 ]\n",
      " [0.38678843 0.57822806 0.2459614 ]\n",
      " [0.50226665 0.7700345  0.29330745]]\n",
      "Y(with dot product): \n",
      " [[0.         0.         0.55131675]\n",
      " [0.         0.         0.59329149]\n",
      " [0.         0.         0.64216197]\n",
      " [0.         0.         0.16307319]]\n"
     ]
    }
   ],
   "source": [
    "import numpy as np\n",
    "import tensorflow as tf\n",
    "\n",
    "from tensorflow.math import exp\n",
    "from tensorflow.linalg import matmul\n",
    "\n",
    "from tensorflow.keras.layers import Dense\n",
    "\n",
    "N, n_feature = 4, 10\n",
    "x = tf.random.normal(shape=(N, n_feature))\n",
    "\n",
    "n_neuron = 3\n",
    "dense = Dense(units=n_neuron, activation='sigmoid')\n",
    "Y_tf = dense(x)\n",
    "\n",
    "W, B = dense.get_weights()\n",
    "print(\"Y(Tensorflow): \\n\", Y_tf.numpy())\n",
    "\n",
    "# calculate with matrix multiplication\n",
    "z = matmul(x, W) + B\n",
    "Y_man_matmul = 1 / (1 + exp(-z))\n",
    "print(\"Y(with matrix multiplication): \\n\", Y_man_matmul.numpy())\n",
    "\n",
    "# calculate with dot product\n",
    "Y_man_vec = np.zeros(shape=(N, n_neuron))\n",
    "for x_idx in range(N):\n",
    "    x = X[x_idx]\n",
    "\n",
    "    for nu_idx in range(n_neuron):\n",
    "        w, b = W[:, nu_idx], B[nu_idx]\n",
    "\n",
    "    z = tf.reduce_sum(x * w) + b\n",
    "    a = 1 / (1 + np.exp(-z))\n",
    "    Y_man_vec[x_idx, nu_idx] = a\n",
    "\n",
    "print(\"Y(with dot product): \\n\", Y_man_vec)"
   ]
  },
  {
   "cell_type": "markdown",
   "metadata": {},
   "source": [
    "2-2: Cascaded Dense Layers"
   ]
  },
  {
   "cell_type": "markdown",
   "metadata": {},
   "source": [
    "Code.2-2-1: Shape of Cascaded Dense Layers"
   ]
  },
  {
   "cell_type": "code",
   "execution_count": 40,
   "metadata": {},
   "outputs": [
    {
     "name": "stdout",
     "output_type": "stream",
     "text": [
      "x: (4, 10)\n",
      "\n",
      "W1: (10, 3)\n",
      "B1: (3,)\n",
      "A1: (4, 3)\n",
      "\n",
      "W2: (3, 5)\n",
      "B2: (5,)\n",
      "Y: (4, 5)\n"
     ]
    }
   ],
   "source": [
    "import tensorflow as tf\n",
    "\n",
    "from tensorflow.keras.layers import Dense\n",
    "\n",
    "N, n_feature = 4, 10\n",
    "x = tf.random.normal(shape=(N, n_feature))\n",
    "\n",
    "n_neurons = [3, 5]\n",
    "dense1 = Dense(units=n_neurons[0], activation='sigmoid')\n",
    "dense2 = Dense(units=n_neurons[1], activation='sigmoid')\n",
    "\n",
    "# forward propagation\n",
    "A1 = dense1(x)\n",
    "Y = dense2(A1)\n",
    "\n",
    "# get weights/bias\n",
    "W1, B1 = dense1.get_weights()\n",
    "W2, B2 = dense2.get_weights()\n",
    "\n",
    "print(\"x: {}\\n\".format(x.shape))\n",
    "\n",
    "print(\"W1: {}\".format(W1.shape))\n",
    "print(\"B1: {}\".format(B1.shape))\n",
    "print(\"A1: {}\\n\".format(A1.shape))\n",
    "\n",
    "print(\"W2: {}\".format(W2.shape))\n",
    "print(\"B2: {}\".format(B2.shape))\n",
    "print(\"Y: {}\".format(Y.shape))"
   ]
  },
  {
   "cell_type": "markdown",
   "metadata": {},
   "source": [
    "Code.2-2-2: Dense Layers with Python List"
   ]
  },
  {
   "cell_type": "code",
   "execution_count": 48,
   "metadata": {},
   "outputs": [
    {
     "name": "stdout",
     "output_type": "stream",
     "text": [
      "input:  (4, 10)\n",
      "After dense layer 1\n",
      "(4, 10) \n",
      "\n",
      "After dense layer 2\n",
      "(4, 20) \n",
      "\n",
      "After dense layer 3\n",
      "(4, 30) \n",
      "\n",
      "After dense layer 4\n",
      "(4, 40) \n",
      "\n",
      "After dense layer 5\n",
      "(4, 50) \n",
      "\n",
      "After dense layer 6\n",
      "(4, 60) \n",
      "\n",
      "After dense layer 7\n",
      "(4, 70) \n",
      "\n",
      "After dense layer 8\n",
      "(4, 80) \n",
      "\n",
      "After dense layer 9\n",
      "(4, 90) \n",
      "\n",
      "After dense layer 10\n",
      "(4, 100) \n",
      "\n"
     ]
    }
   ],
   "source": [
    "import tensorflow as tf\n",
    "\n",
    "from tensorflow.keras.layers import Dense\n",
    "\n",
    "N, n_feature = 4, 10\n",
    "x = tf.random.normal(shape=(N, n_feature))\n",
    "\n",
    "n_neurons = [10, 20, 30, 40, 50, 60, 70, 80, 90, 100]\n",
    "\n",
    "dense_layers = list()\n",
    "\n",
    "for n_neuron in n_neurons:\n",
    "    dense = Dense(units=n_neuron, activation='relu')\n",
    "    dense_layers.append(dense)\n",
    "print(\"input: \", x.shape)\n",
    "\n",
    "for dense_idx, dense in enumerate(dense_layers):\n",
    "    x = dense(x)\n",
    "    print(\"After dense layer\", dense_idx + 1)\n",
    "    print(x.shape, '\\n')\n"
   ]
  },
  {
   "cell_type": "markdown",
   "metadata": {},
   "source": [
    "Code.2-2-3: Output Calculations"
   ]
  },
  {
   "cell_type": "code",
   "execution_count": 52,
   "metadata": {},
   "outputs": [
    {
     "name": "stdout",
     "output_type": "stream",
     "text": [
      "Y(Tensorflow): \n",
      " [[0.49346226 0.47916508 0.6208754  0.35693967 0.5283681 ]\n",
      " [0.51765996 0.46328515 0.63536036 0.3529246  0.50032383]\n",
      " [0.5191708  0.46275797 0.638599   0.34819493 0.49942294]\n",
      " [0.4994403  0.47436976 0.62868726 0.35156107 0.52153105]]\n",
      "Y(Manual): \n",
      " [[0.49346226 0.47916508 0.6208754  0.35693967 0.5283681 ]\n",
      " [0.51766    0.46328515 0.63536036 0.3529246  0.50032383]\n",
      " [0.5191709  0.46275797 0.6385989  0.34819493 0.4994229 ]\n",
      " [0.49944034 0.4743697  0.62868726 0.35156104 0.521531  ]]\n"
     ]
    }
   ],
   "source": [
    "import tensorflow as tf\n",
    "\n",
    "from tensorflow.math import exp\n",
    "from tensorflow.linalg import matmul\n",
    "\n",
    "from tensorflow.keras.layers import Dense\n",
    "\n",
    "N, n_feature = 4, 10\n",
    "x = tf.random.normal(shape=(N, n_feature))\n",
    "x_cp = tf.identity(x) # copy of x 주소가 같기 때문에 \n",
    "\n",
    "n_neurons = [3, 4, 5]\n",
    "\n",
    "dense_layers = list()\n",
    "\n",
    "for n_neuron in n_neurons:\n",
    "    dense = Dense(units=n_neuron, activation='sigmoid')\n",
    "    dense_layers.append(dense)\n",
    "\n",
    "# forward propagation(Tensorflow)\n",
    "W, B = list(), list()\n",
    "for dense_idx, dense in enumerate(dense_layers):\n",
    "    x = dense(x)\n",
    "    w, b = dense.get_weights()\n",
    "\n",
    "    W.append(w)\n",
    "    B.append(b)\n",
    "\n",
    "print(\"Y(Tensorflow): \\n\", x.numpy())\n",
    "\n",
    "# forward propagation(Manual)\n",
    "for layer_idx in range(len(n_neurons)):\n",
    "    w, b = W[layer_idx], B[layer_idx]\n",
    "\n",
    "    x_cp = matmul(x_cp, w) + b\n",
    "    x_cp = 1 / (1 + exp(-x_cp))\n",
    "\n",
    "print(\"Y(Manual): \\n\", x_cp.numpy())\n",
    "\n"
   ]
  },
  {
   "cell_type": "markdown",
   "metadata": {},
   "source": [
    "2-3: Model Implementation"
   ]
  },
  {
   "cell_type": "markdown",
   "metadata": {},
   "source": [
    "Code.2-3-1: Model Implementation with Sequential Method"
   ]
  },
  {
   "cell_type": "code",
   "execution_count": null,
   "metadata": {},
   "outputs": [],
   "source": [
    "from tensorflow.keras.layers import Dense\n",
    "\n",
    "from tensorflow.keras.models import Sequential\n",
    "\n",
    "model = Sequential()\n",
    "model.add(Dense(units=10, activation='sigmoid'))\n",
    "model.add(Dense(units=10, activation='relu'))"
   ]
  },
  {
   "cell_type": "markdown",
   "metadata": {},
   "source": [
    "Code.2-3-2: Model Implementation with Model-subclassing"
   ]
  },
  {
   "cell_type": "code",
   "execution_count": 54,
   "metadata": {},
   "outputs": [
    {
     "name": "stdout",
     "output_type": "stream",
     "text": [
      "<keras.src.layers.core.dense.Dense object at 0x000001D184F53670>\n",
      "<keras.src.layers.core.dense.Dense object at 0x000001D1A757DE50>\n"
     ]
    }
   ],
   "source": [
    "from tensorflow.keras.layers import Dense\n",
    "\n",
    "from tensorflow.keras.models import Model\n",
    "\n",
    "class TestModel(Model):\n",
    "    def __init__(self):\n",
    "        super(TestModel, self).__init__()\n",
    "        self.dense1 = Dense(units=10, activation='sigmoid')\n",
    "        self.dense2 = Dense(units=10, activation='relu')\n",
    "\n",
    "model = TestModel()\n",
    "print(model.dense1)\n",
    "print(model.dense2)"
   ]
  },
  {
   "cell_type": "markdown",
   "metadata": {},
   "source": [
    "Code.2-3-3: Forward Propagation of Models"
   ]
  },
  {
   "cell_type": "code",
   "execution_count": 56,
   "metadata": {},
   "outputs": [],
   "source": [
    "import tensorflow as tf\n",
    "\n",
    "from tensorflow.keras.layers import Dense\n",
    "\n",
    "from tensorflow.keras.models import Sequential\n",
    "from tensorflow.keras.models import Model\n",
    "\n",
    "x = tf.random.normal(shape=(4, 10))\n",
    "\n",
    "# sequential method\n",
    "model = Sequential()\n",
    "model.add(Dense(units=10, activation='sigmoid'))\n",
    "model.add(Dense(units=10, activation='relu'))\n",
    "\n",
    "Y = model(x)\n",
    "\n",
    "\n",
    "# Model-subclassing\n",
    "class TestModel(Model):\n",
    "    def __init__(self):\n",
    "        super(TestModel, self).__init__()\n",
    "        self.dense1 = Dense(units=10, activation='sigmoid')\n",
    "        self.dense2 = Dense(units=10, activation='relu')\n",
    "\n",
    "    def call(self, x):\n",
    "        x = self.dense1(x)\n",
    "        x = self.dense2(x)\n",
    "        return x\n",
    "\n",
    "model = TestModel()\n",
    "Y = model(x)"
   ]
  },
  {
   "cell_type": "code",
   "execution_count": null,
   "metadata": {},
   "outputs": [],
   "source": [
    "class TestModel(Model):\n",
    "    def __init__(self):\n",
    "        super(TestModel, self).__init__()\n",
    "\n",
    "        self.dense_layers = list()\n",
    "        for n_neuron in self.n_neurons:\n",
    "            self.dense_layers.append(Dense(units=10, activation='sigmoid'))\n",
    "        \n",
    "    def call(self, x):\n",
    "        for dense in self.dense_layers:\n",
    "            x = self.dense(x)\n",
    "        return x\n",
    "\n",
    "class TestModel(Model):\n",
    "    def __init__(self, n_neurons):\n",
    "        super(TestModel, self).__init__()\n",
    "        self.n_neurons = n_neurons\n",
    "        \n",
    "        self.model = Sequential()\n",
    "        self.model.add(Dense(units=10, activation='sigmoid'))\n",
    "        self.model.add(Dense(units=10, activation='sigmoid'))\n",
    "\n",
    "        def call(self, x):\n",
    "            for dense in self.dense_layers:\n",
    "                x = self.model(x)\n",
    "            return x\n",
    "        \n",
    "n_neurons = [3, 4, 5]\n",
    "model = TestModel(n_neurons=n_neurons)"
   ]
  },
  {
   "cell_type": "markdown",
   "metadata": {},
   "source": [
    "Code.2-3-4: Layers in Models"
   ]
  },
  {
   "cell_type": "code",
   "execution_count": 60,
   "metadata": {},
   "outputs": [
    {
     "name": "stdout",
     "output_type": "stream",
     "text": [
      "<class 'list'>\n",
      "[<keras.src.layers.core.dense.Dense object at 0x000001D1A757DFD0>, <keras.src.layers.core.dense.Dense object at 0x000001D1A79959D0>]\n",
      "(10, 10) (10,)\n",
      "(10, 20) (20,)\n"
     ]
    }
   ],
   "source": [
    "import tensorflow as tf\n",
    "\n",
    "from tensorflow.keras.layers import Dense\n",
    "\n",
    "from tensorflow.keras.models import Sequential\n",
    "\n",
    "x = tf.random.normal(shape=(4, 10))\n",
    "\n",
    "model = Sequential()\n",
    "model.add(Dense(units=10, activation='sigmoid'))\n",
    "model.add(Dense(units=20, activation='sigmoid'))\n",
    "\n",
    "Y = model(x)\n",
    "\n",
    "print(type(model.layers))\n",
    "print(model.layers)\n",
    "\n",
    "for layer in model.layers:\n",
    "    w, b = layer.get_weights()\n",
    "    print(w.shape, b.shape)"
   ]
  },
  {
   "cell_type": "markdown",
   "metadata": {},
   "source": [
    "Code.2-3-5: Trainable Variables in Models"
   ]
  },
  {
   "cell_type": "code",
   "execution_count": 64,
   "metadata": {},
   "outputs": [
    {
     "name": "stdout",
     "output_type": "stream",
     "text": [
      "<class 'list'>\n",
      "4\n",
      "(10, 10)\n",
      "(10,)\n",
      "(10, 20)\n",
      "(20,)\n"
     ]
    }
   ],
   "source": [
    "import tensorflow as tf\n",
    "\n",
    "from tensorflow.keras.layers import Dense\n",
    "\n",
    "from tensorflow.keras.models import Sequential\n",
    "\n",
    "x = tf.random.normal(shape=(4, 10))\n",
    "\n",
    "model = Sequential()\n",
    "model.add(Dense(units=10, activation='sigmoid'))\n",
    "model.add(Dense(units=20, activation='sigmoid'))\n",
    "\n",
    "Y = model(x)\n",
    "\n",
    "print(type(model.trainable_variables))\n",
    "print(len(model.trainable_variables))\n",
    "\n",
    "for train_var in model.trainable_variables:\n",
    "    print(train_var.shape)"
   ]
  }
 ],
 "metadata": {
  "kernelspec": {
   "display_name": "base",
   "language": "python",
   "name": "python3"
  },
  "language_info": {
   "codemirror_mode": {
    "name": "ipython",
    "version": 3
   },
   "file_extension": ".py",
   "mimetype": "text/x-python",
   "name": "python",
   "nbconvert_exporter": "python",
   "pygments_lexer": "ipython3",
   "version": "3.8.8"
  }
 },
 "nbformat": 4,
 "nbformat_minor": 2
}
